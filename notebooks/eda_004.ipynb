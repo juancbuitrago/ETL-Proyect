{
 "cells": [
  {
   "cell_type": "markdown",
   "metadata": {},
   "source": [
    "# MERGE DATASET - API DATA"
   ]
  },
  {
   "cell_type": "markdown",
   "metadata": {},
   "source": [
    "### Libreries used"
   ]
  },
  {
   "cell_type": "code",
   "execution_count": 318,
   "metadata": {},
   "outputs": [],
   "source": [
    "import matplotlib.pyplot as plt\n",
    "import pandas as pd\n",
    "import seaborn as sns\n",
    "import re\n",
    "from sqlalchemy import create_engine\n",
    "import json\n",
    "import sys\n",
    "import os"
   ]
  },
  {
   "cell_type": "markdown",
   "metadata": {},
   "source": [
    "## Connection to database"
   ]
  },
  {
   "cell_type": "code",
   "execution_count": 319,
   "metadata": {},
   "outputs": [
    {
     "name": "stdout",
     "output_type": "stream",
     "text": [
      "Reading configuration from ../otherconfig/database.ini\n",
      "Database connection successful.\n"
     ]
    }
   ],
   "source": [
    "sys.path.append('../otherconfig/')\n",
    "from dbconfig import configuration\n",
    "\n",
    "config = configuration('../otherconfig/database.ini')\n",
    "db_url = f\"postgresql+psycopg2://{config['user']}:{config['password']}@{config['host']}/{config['database']}\"\n",
    "engine = create_engine(db_url)\n",
    "\n",
    "try:\n",
    "    conn = engine.connect()\n",
    "    print(\"Database connection successful.\")\n",
    "except Exception as e:\n",
    "    print(\"Database connection failed:\", e)\n",
    "    sys.exit(1)\n"
   ]
  },
  {
   "cell_type": "markdown",
   "metadata": {},
   "source": [
    "Next, this part will be for the practical use of the dags and the follow-up of the steps."
   ]
  },
  {
   "cell_type": "markdown",
   "metadata": {},
   "source": [
    "### Load the CSV data into a DataFrame"
   ]
  },
  {
   "cell_type": "code",
   "execution_count": 320,
   "metadata": {},
   "outputs": [
    {
     "name": "stdout",
     "output_type": "stream",
     "text": [
      "CSV data loaded successfully with 14055 records.\n"
     ]
    }
   ],
   "source": [
    "metacritic_data_path = '../data/metacritic_data_test1.csv'\n",
    "try:\n",
    "    metacritic_data = pd.read_csv(metacritic_data_path)\n",
    "    print(f\"CSV data loaded successfully with {len(metacritic_data)} records.\")\n",
    "except Exception as e:\n",
    "    print(\"Failed to load CSV data:\", e)\n",
    "    sys.exit(1)"
   ]
  },
  {
   "cell_type": "markdown",
   "metadata": {},
   "source": [
    "### Load data into PostgreSQL database"
   ]
  },
  {
   "cell_type": "code",
   "execution_count": 321,
   "metadata": {},
   "outputs": [
    {
     "name": "stdout",
     "output_type": "stream",
     "text": [
      "Data loaded into the PostgreSQL database successfully.\n"
     ]
    }
   ],
   "source": [
    "try:\n",
    "    metacritic_data.to_sql('metacritic_data', conn, if_exists='replace', index=False)\n",
    "    print(\"Data loaded into the PostgreSQL database successfully.\")\n",
    "except Exception as e:\n",
    "    print(\"Failed to load data into the PostgreSQL database:\", e)\n",
    "    sys.exit(1)"
   ]
  },
  {
   "cell_type": "markdown",
   "metadata": {},
   "source": [
    "## API DATA"
   ]
  },
  {
   "cell_type": "markdown",
   "metadata": {},
   "source": [
    "#### List of CSV files"
   ]
  },
  {
   "cell_type": "code",
   "execution_count": 322,
   "metadata": {},
   "outputs": [],
   "source": [
    "api_data_path = '../data/'\n",
    "csv_files = [os.path.join(api_data_path, f'api_data_{i}.csv') for i in range(1, 14)]"
   ]
  },
  {
   "cell_type": "markdown",
   "metadata": {},
   "source": [
    "#### Store DataFrames"
   ]
  },
  {
   "cell_type": "code",
   "execution_count": 323,
   "metadata": {},
   "outputs": [
    {
     "name": "stdout",
     "output_type": "stream",
     "text": [
      "Loaded ../data/api_data_1.csv successfully with 1000 records.\n",
      "Loaded ../data/api_data_2.csv successfully with 1000 records.\n",
      "Loaded ../data/api_data_3.csv successfully with 900 records.\n",
      "Loaded ../data/api_data_4.csv successfully with 240 records.\n",
      "Loaded ../data/api_data_5.csv successfully with 1000 records.\n",
      "Loaded ../data/api_data_6.csv successfully with 1000 records.\n",
      "Loaded ../data/api_data_7.csv successfully with 1000 records.\n",
      "Loaded ../data/api_data_8.csv successfully with 1000 records.\n",
      "Loaded ../data/api_data_9.csv successfully with 1000 records.\n",
      "Loaded ../data/api_data_10.csv successfully with 1000 records.\n",
      "Loaded ../data/api_data_11.csv successfully with 1000 records.\n",
      "Loaded ../data/api_data_12.csv successfully with 1000 records.\n",
      "Loaded ../data/api_data_13.csv successfully with 1000 records.\n"
     ]
    }
   ],
   "source": [
    "dataframes = []\n",
    "for file in csv_files:\n",
    "    try:\n",
    "        df = pd.read_csv(file)\n",
    "        dataframes.append(df)\n",
    "        print(f\"Loaded {file} successfully with {len(df)} records.\")\n",
    "    except Exception as e:\n",
    "        print(f\"Failed to load {file}:\", e)\n",
    "        sys.exit(1)"
   ]
  },
  {
   "cell_type": "markdown",
   "metadata": {},
   "source": [
    "#### Concatenate all DataFrames into a single DataFrame"
   ]
  },
  {
   "cell_type": "code",
   "execution_count": 324,
   "metadata": {},
   "outputs": [
    {
     "name": "stdout",
     "output_type": "stream",
     "text": [
      "Combined API data has 12140 records.\n"
     ]
    }
   ],
   "source": [
    "combined_api_data = pd.concat(dataframes, ignore_index=True)\n",
    "print(f\"Combined API data has {len(combined_api_data)} records.\")"
   ]
  },
  {
   "cell_type": "code",
   "execution_count": 325,
   "metadata": {},
   "outputs": [
    {
     "name": "stdout",
     "output_type": "stream",
     "text": [
      "Combined API data saved to 'api_data.csv'\n"
     ]
    }
   ],
   "source": [
    "combined_api_data.to_csv('../data/api_data1.csv', index=False)\n",
    "print(\"Combined API data saved to 'api_data.csv'\")"
   ]
  },
  {
   "cell_type": "markdown",
   "metadata": {},
   "source": [
    "## General description"
   ]
  },
  {
   "cell_type": "code",
   "execution_count": 326,
   "metadata": {},
   "outputs": [
    {
     "data": {
      "text/html": [
       "<div>\n",
       "<style scoped>\n",
       "    .dataframe tbody tr th:only-of-type {\n",
       "        vertical-align: middle;\n",
       "    }\n",
       "\n",
       "    .dataframe tbody tr th {\n",
       "        vertical-align: top;\n",
       "    }\n",
       "\n",
       "    .dataframe thead th {\n",
       "        text-align: right;\n",
       "    }\n",
       "</style>\n",
       "<table border=\"1\" class=\"dataframe\">\n",
       "  <thead>\n",
       "    <tr style=\"text-align: right;\">\n",
       "      <th></th>\n",
       "      <th>id</th>\n",
       "      <th>slug</th>\n",
       "      <th>name</th>\n",
       "      <th>released</th>\n",
       "      <th>tba</th>\n",
       "      <th>background_image</th>\n",
       "      <th>rating</th>\n",
       "      <th>rating_top</th>\n",
       "      <th>ratings</th>\n",
       "      <th>ratings_count</th>\n",
       "      <th>...</th>\n",
       "      <th>dominant_color</th>\n",
       "      <th>platforms</th>\n",
       "      <th>parent_platforms</th>\n",
       "      <th>genres</th>\n",
       "      <th>stores</th>\n",
       "      <th>clip</th>\n",
       "      <th>tags</th>\n",
       "      <th>esrb_rating</th>\n",
       "      <th>short_screenshots</th>\n",
       "      <th>community_rating</th>\n",
       "    </tr>\n",
       "  </thead>\n",
       "  <tbody>\n",
       "    <tr>\n",
       "      <th>0</th>\n",
       "      <td>9907</td>\n",
       "      <td>pictopix</td>\n",
       "      <td>Pictopix</td>\n",
       "      <td>2017-01-05</td>\n",
       "      <td>False</td>\n",
       "      <td>https://media.rawg.io/media/screenshots/ff0/ff...</td>\n",
       "      <td>3.96</td>\n",
       "      <td>4</td>\n",
       "      <td>[{'id': 4, 'title': 'recommended', 'count': 20...</td>\n",
       "      <td>24</td>\n",
       "      <td>...</td>\n",
       "      <td>0f0f0f</td>\n",
       "      <td>[{'platform': {'id': 4, 'name': 'PC', 'slug': ...</td>\n",
       "      <td>[{'platform': {'id': 1, 'name': 'PC', 'slug': ...</td>\n",
       "      <td>[{'id': 40, 'name': 'Casual', 'slug': 'casual'...</td>\n",
       "      <td>[{'id': 10805, 'store': {'id': 1, 'name': 'Ste...</td>\n",
       "      <td>NaN</td>\n",
       "      <td>[{'id': 31, 'name': 'Singleplayer', 'slug': 's...</td>\n",
       "      <td>NaN</td>\n",
       "      <td>[{'id': -1, 'image': 'https://media.rawg.io/me...</td>\n",
       "      <td>NaN</td>\n",
       "    </tr>\n",
       "    <tr>\n",
       "      <th>1</th>\n",
       "      <td>4119</td>\n",
       "      <td>chronovolt</td>\n",
       "      <td>Chronovolt</td>\n",
       "      <td>2012-11-21</td>\n",
       "      <td>False</td>\n",
       "      <td>https://media.rawg.io/media/games/8dc/8dc50d62...</td>\n",
       "      <td>2.55</td>\n",
       "      <td>3</td>\n",
       "      <td>[{'id': 3, 'title': 'meh', 'count': 11, 'perce...</td>\n",
       "      <td>20</td>\n",
       "      <td>...</td>\n",
       "      <td>0f0f0f</td>\n",
       "      <td>[{'platform': {'id': 19, 'name': 'PS Vita', 's...</td>\n",
       "      <td>[{'platform': {'id': 2, 'name': 'PlayStation',...</td>\n",
       "      <td>[{'id': 4, 'name': 'Action', 'slug': 'action',...</td>\n",
       "      <td>[{'id': 4440, 'store': {'id': 3, 'name': 'Play...</td>\n",
       "      <td>NaN</td>\n",
       "      <td>[{'id': 37796, 'name': 'exclusive', 'slug': 'e...</td>\n",
       "      <td>{'id': 1, 'name': 'Everyone', 'slug': 'everyone'}</td>\n",
       "      <td>[{'id': -1, 'image': 'https://media.rawg.io/me...</td>\n",
       "      <td>NaN</td>\n",
       "    </tr>\n",
       "    <tr>\n",
       "      <th>2</th>\n",
       "      <td>3935</td>\n",
       "      <td>breakquest-extra-evolution</td>\n",
       "      <td>BreakQuest: Extra Evolution</td>\n",
       "      <td>2012-10-16</td>\n",
       "      <td>False</td>\n",
       "      <td>https://media.rawg.io/media/screenshots/4e3/4e...</td>\n",
       "      <td>2.60</td>\n",
       "      <td>3</td>\n",
       "      <td>[{'id': 3, 'title': 'meh', 'count': 10, 'perce...</td>\n",
       "      <td>20</td>\n",
       "      <td>...</td>\n",
       "      <td>0f0f0f</td>\n",
       "      <td>[{'platform': {'id': 16, 'name': 'PlayStation ...</td>\n",
       "      <td>[{'platform': {'id': 2, 'name': 'PlayStation',...</td>\n",
       "      <td>[{'id': 11, 'name': 'Arcade', 'slug': 'arcade'...</td>\n",
       "      <td>[{'id': 4253, 'store': {'id': 3, 'name': 'Play...</td>\n",
       "      <td>NaN</td>\n",
       "      <td>[{'id': 114, 'name': 'Physics', 'slug': 'physi...</td>\n",
       "      <td>{'id': 2, 'name': 'Everyone 10+', 'slug': 'eve...</td>\n",
       "      <td>[{'id': -1, 'image': 'https://media.rawg.io/me...</td>\n",
       "      <td>NaN</td>\n",
       "    </tr>\n",
       "    <tr>\n",
       "      <th>3</th>\n",
       "      <td>1991</td>\n",
       "      <td>killallzombies-2</td>\n",
       "      <td>#KILLALLZOMBIES</td>\n",
       "      <td>2014-10-28</td>\n",
       "      <td>False</td>\n",
       "      <td>https://media.rawg.io/media/screenshots/675/67...</td>\n",
       "      <td>2.36</td>\n",
       "      <td>1</td>\n",
       "      <td>[{'id': 1, 'title': 'skip', 'count': 5, 'perce...</td>\n",
       "      <td>11</td>\n",
       "      <td>...</td>\n",
       "      <td>0f0f0f</td>\n",
       "      <td>[{'platform': {'id': 1, 'name': 'Xbox One', 's...</td>\n",
       "      <td>[{'platform': {'id': 1, 'name': 'PC', 'slug': ...</td>\n",
       "      <td>[{'id': 4, 'name': 'Action', 'slug': 'action',...</td>\n",
       "      <td>[{'id': 2061, 'store': {'id': 2, 'name': 'Xbox...</td>\n",
       "      <td>NaN</td>\n",
       "      <td>[{'id': 31, 'name': 'Singleplayer', 'slug': 's...</td>\n",
       "      <td>NaN</td>\n",
       "      <td>[{'id': -1, 'image': 'https://media.rawg.io/me...</td>\n",
       "      <td>NaN</td>\n",
       "    </tr>\n",
       "    <tr>\n",
       "      <th>4</th>\n",
       "      <td>979</td>\n",
       "      <td>tethered</td>\n",
       "      <td>Tethered</td>\n",
       "      <td>2016-10-25</td>\n",
       "      <td>False</td>\n",
       "      <td>https://media.rawg.io/media/screenshots/1e6/1e...</td>\n",
       "      <td>2.75</td>\n",
       "      <td>4</td>\n",
       "      <td>[{'id': 4, 'title': 'recommended', 'count': 5,...</td>\n",
       "      <td>12</td>\n",
       "      <td>...</td>\n",
       "      <td>0f0f0f</td>\n",
       "      <td>[{'platform': {'id': 18, 'name': 'PlayStation ...</td>\n",
       "      <td>[{'platform': {'id': 1, 'name': 'PC', 'slug': ...</td>\n",
       "      <td>[{'id': 3, 'name': 'Adventure', 'slug': 'adven...</td>\n",
       "      <td>[{'id': 1002, 'store': {'id': 3, 'name': 'Play...</td>\n",
       "      <td>NaN</td>\n",
       "      <td>[{'id': 31, 'name': 'Singleplayer', 'slug': 's...</td>\n",
       "      <td>{'id': 2, 'name': 'Everyone 10+', 'slug': 'eve...</td>\n",
       "      <td>[{'id': -1, 'image': 'https://media.rawg.io/me...</td>\n",
       "      <td>NaN</td>\n",
       "    </tr>\n",
       "  </tbody>\n",
       "</table>\n",
       "<p>5 rows × 30 columns</p>\n",
       "</div>"
      ],
      "text/plain": [
       "     id                        slug                         name    released  \\\n",
       "0  9907                    pictopix                     Pictopix  2017-01-05   \n",
       "1  4119                  chronovolt                   Chronovolt  2012-11-21   \n",
       "2  3935  breakquest-extra-evolution  BreakQuest: Extra Evolution  2012-10-16   \n",
       "3  1991            killallzombies-2              #KILLALLZOMBIES  2014-10-28   \n",
       "4   979                    tethered                     Tethered  2016-10-25   \n",
       "\n",
       "     tba                                   background_image  rating  \\\n",
       "0  False  https://media.rawg.io/media/screenshots/ff0/ff...    3.96   \n",
       "1  False  https://media.rawg.io/media/games/8dc/8dc50d62...    2.55   \n",
       "2  False  https://media.rawg.io/media/screenshots/4e3/4e...    2.60   \n",
       "3  False  https://media.rawg.io/media/screenshots/675/67...    2.36   \n",
       "4  False  https://media.rawg.io/media/screenshots/1e6/1e...    2.75   \n",
       "\n",
       "   rating_top                                            ratings  \\\n",
       "0           4  [{'id': 4, 'title': 'recommended', 'count': 20...   \n",
       "1           3  [{'id': 3, 'title': 'meh', 'count': 11, 'perce...   \n",
       "2           3  [{'id': 3, 'title': 'meh', 'count': 10, 'perce...   \n",
       "3           1  [{'id': 1, 'title': 'skip', 'count': 5, 'perce...   \n",
       "4           4  [{'id': 4, 'title': 'recommended', 'count': 5,...   \n",
       "\n",
       "   ratings_count  ...  dominant_color  \\\n",
       "0             24  ...          0f0f0f   \n",
       "1             20  ...          0f0f0f   \n",
       "2             20  ...          0f0f0f   \n",
       "3             11  ...          0f0f0f   \n",
       "4             12  ...          0f0f0f   \n",
       "\n",
       "                                           platforms  \\\n",
       "0  [{'platform': {'id': 4, 'name': 'PC', 'slug': ...   \n",
       "1  [{'platform': {'id': 19, 'name': 'PS Vita', 's...   \n",
       "2  [{'platform': {'id': 16, 'name': 'PlayStation ...   \n",
       "3  [{'platform': {'id': 1, 'name': 'Xbox One', 's...   \n",
       "4  [{'platform': {'id': 18, 'name': 'PlayStation ...   \n",
       "\n",
       "                                    parent_platforms  \\\n",
       "0  [{'platform': {'id': 1, 'name': 'PC', 'slug': ...   \n",
       "1  [{'platform': {'id': 2, 'name': 'PlayStation',...   \n",
       "2  [{'platform': {'id': 2, 'name': 'PlayStation',...   \n",
       "3  [{'platform': {'id': 1, 'name': 'PC', 'slug': ...   \n",
       "4  [{'platform': {'id': 1, 'name': 'PC', 'slug': ...   \n",
       "\n",
       "                                              genres  \\\n",
       "0  [{'id': 40, 'name': 'Casual', 'slug': 'casual'...   \n",
       "1  [{'id': 4, 'name': 'Action', 'slug': 'action',...   \n",
       "2  [{'id': 11, 'name': 'Arcade', 'slug': 'arcade'...   \n",
       "3  [{'id': 4, 'name': 'Action', 'slug': 'action',...   \n",
       "4  [{'id': 3, 'name': 'Adventure', 'slug': 'adven...   \n",
       "\n",
       "                                              stores  clip  \\\n",
       "0  [{'id': 10805, 'store': {'id': 1, 'name': 'Ste...   NaN   \n",
       "1  [{'id': 4440, 'store': {'id': 3, 'name': 'Play...   NaN   \n",
       "2  [{'id': 4253, 'store': {'id': 3, 'name': 'Play...   NaN   \n",
       "3  [{'id': 2061, 'store': {'id': 2, 'name': 'Xbox...   NaN   \n",
       "4  [{'id': 1002, 'store': {'id': 3, 'name': 'Play...   NaN   \n",
       "\n",
       "                                                tags  \\\n",
       "0  [{'id': 31, 'name': 'Singleplayer', 'slug': 's...   \n",
       "1  [{'id': 37796, 'name': 'exclusive', 'slug': 'e...   \n",
       "2  [{'id': 114, 'name': 'Physics', 'slug': 'physi...   \n",
       "3  [{'id': 31, 'name': 'Singleplayer', 'slug': 's...   \n",
       "4  [{'id': 31, 'name': 'Singleplayer', 'slug': 's...   \n",
       "\n",
       "                                         esrb_rating  \\\n",
       "0                                                NaN   \n",
       "1  {'id': 1, 'name': 'Everyone', 'slug': 'everyone'}   \n",
       "2  {'id': 2, 'name': 'Everyone 10+', 'slug': 'eve...   \n",
       "3                                                NaN   \n",
       "4  {'id': 2, 'name': 'Everyone 10+', 'slug': 'eve...   \n",
       "\n",
       "                                   short_screenshots community_rating  \n",
       "0  [{'id': -1, 'image': 'https://media.rawg.io/me...              NaN  \n",
       "1  [{'id': -1, 'image': 'https://media.rawg.io/me...              NaN  \n",
       "2  [{'id': -1, 'image': 'https://media.rawg.io/me...              NaN  \n",
       "3  [{'id': -1, 'image': 'https://media.rawg.io/me...              NaN  \n",
       "4  [{'id': -1, 'image': 'https://media.rawg.io/me...              NaN  \n",
       "\n",
       "[5 rows x 30 columns]"
      ]
     },
     "execution_count": 326,
     "metadata": {},
     "output_type": "execute_result"
    }
   ],
   "source": [
    "combined_api_data.head()"
   ]
  },
  {
   "cell_type": "code",
   "execution_count": 327,
   "metadata": {},
   "outputs": [
    {
     "name": "stdout",
     "output_type": "stream",
     "text": [
      "<class 'pandas.core.frame.DataFrame'>\n",
      "RangeIndex: 12140 entries, 0 to 12139\n",
      "Data columns (total 30 columns):\n",
      " #   Column              Non-Null Count  Dtype  \n",
      "---  ------              --------------  -----  \n",
      " 0   id                  12140 non-null  int64  \n",
      " 1   slug                12140 non-null  object \n",
      " 2   name                12140 non-null  object \n",
      " 3   released            11881 non-null  object \n",
      " 4   tba                 12140 non-null  bool   \n",
      " 5   background_image    12120 non-null  object \n",
      " 6   rating              12140 non-null  float64\n",
      " 7   rating_top          12140 non-null  int64  \n",
      " 8   ratings             12140 non-null  object \n",
      " 9   ratings_count       12140 non-null  int64  \n",
      " 10  reviews_text_count  12140 non-null  int64  \n",
      " 11  added               12140 non-null  int64  \n",
      " 12  added_by_status     12140 non-null  object \n",
      " 13  metacritic          4628 non-null   float64\n",
      " 14  playtime            12140 non-null  int64  \n",
      " 15  suggestions_count   12140 non-null  int64  \n",
      " 16  updated             12140 non-null  object \n",
      " 17  user_game           0 non-null      float64\n",
      " 18  reviews_count       12140 non-null  int64  \n",
      " 19  saturated_color     12140 non-null  object \n",
      " 20  dominant_color      12140 non-null  object \n",
      " 21  platforms           12140 non-null  object \n",
      " 22  parent_platforms    12140 non-null  object \n",
      " 23  genres              12140 non-null  object \n",
      " 24  stores              12140 non-null  object \n",
      " 25  clip                0 non-null      float64\n",
      " 26  tags                12140 non-null  object \n",
      " 27  esrb_rating         4865 non-null   object \n",
      " 28  short_screenshots   12140 non-null  object \n",
      " 29  community_rating    1231 non-null   float64\n",
      "dtypes: bool(1), float64(5), int64(8), object(16)\n",
      "memory usage: 2.7+ MB\n"
     ]
    }
   ],
   "source": [
    "combined_api_data.info()"
   ]
  },
  {
   "cell_type": "code",
   "execution_count": 328,
   "metadata": {},
   "outputs": [
    {
     "data": {
      "text/html": [
       "<div>\n",
       "<style scoped>\n",
       "    .dataframe tbody tr th:only-of-type {\n",
       "        vertical-align: middle;\n",
       "    }\n",
       "\n",
       "    .dataframe tbody tr th {\n",
       "        vertical-align: top;\n",
       "    }\n",
       "\n",
       "    .dataframe thead th {\n",
       "        text-align: right;\n",
       "    }\n",
       "</style>\n",
       "<table border=\"1\" class=\"dataframe\">\n",
       "  <thead>\n",
       "    <tr style=\"text-align: right;\">\n",
       "      <th></th>\n",
       "      <th>Title</th>\n",
       "      <th>released</th>\n",
       "      <th>Developer</th>\n",
       "      <th>Publisher</th>\n",
       "      <th>Genres</th>\n",
       "      <th>rating</th>\n",
       "      <th>User Score</th>\n",
       "      <th>ratings_count</th>\n",
       "    </tr>\n",
       "  </thead>\n",
       "  <tbody>\n",
       "    <tr>\n",
       "      <th>0</th>\n",
       "      <td>ZIGGURAT</td>\n",
       "      <td>2012-02-17</td>\n",
       "      <td>ACTION BUTTON ENTERTAINMENT</td>\n",
       "      <td>FRESHUU INC.</td>\n",
       "      <td>ACTION</td>\n",
       "      <td>NaN</td>\n",
       "      <td>6.9</td>\n",
       "      <td>14</td>\n",
       "    </tr>\n",
       "    <tr>\n",
       "      <th>1</th>\n",
       "      <td>4X4 EVO 2</td>\n",
       "      <td>2001-11-15</td>\n",
       "      <td>TERMINAL REALITY</td>\n",
       "      <td>GATHERING</td>\n",
       "      <td>AUTO RACING SIM</td>\n",
       "      <td>RATED E FOR EVERYONE</td>\n",
       "      <td>0.0</td>\n",
       "      <td>0</td>\n",
       "    </tr>\n",
       "    <tr>\n",
       "      <th>2</th>\n",
       "      <td>MOTOGP 2</td>\n",
       "      <td>2002-01-22</td>\n",
       "      <td>NAMCO</td>\n",
       "      <td>NAMCO</td>\n",
       "      <td>AUTO RACING SIM</td>\n",
       "      <td>RATED E FOR EVERYONE</td>\n",
       "      <td>5.8</td>\n",
       "      <td>0</td>\n",
       "    </tr>\n",
       "    <tr>\n",
       "      <th>3</th>\n",
       "      <td>GOTHIC 3</td>\n",
       "      <td>2006-11-14</td>\n",
       "      <td>PIRANHA BYTES</td>\n",
       "      <td>ASPYR</td>\n",
       "      <td>WESTERN RPG</td>\n",
       "      <td>RATED T FOR TEEN</td>\n",
       "      <td>7.5</td>\n",
       "      <td>832</td>\n",
       "    </tr>\n",
       "    <tr>\n",
       "      <th>4</th>\n",
       "      <td>SIEGE SURVIVAL GLORIA VICTIS</td>\n",
       "      <td>2021-05-18</td>\n",
       "      <td>FISHTANKSTUDIO</td>\n",
       "      <td>BLACK EYE GAMES</td>\n",
       "      <td>RPG</td>\n",
       "      <td>NaN</td>\n",
       "      <td>6.5</td>\n",
       "      <td>10</td>\n",
       "    </tr>\n",
       "  </tbody>\n",
       "</table>\n",
       "</div>"
      ],
      "text/plain": [
       "                          Title    released                    Developer  \\\n",
       "0                     ZIGGURAT   2012-02-17  ACTION BUTTON ENTERTAINMENT   \n",
       "1                     4X4 EVO 2  2001-11-15             TERMINAL REALITY   \n",
       "2                     MOTOGP 2   2002-01-22                        NAMCO   \n",
       "3                      GOTHIC 3  2006-11-14                PIRANHA BYTES   \n",
       "4  SIEGE SURVIVAL GLORIA VICTIS  2021-05-18               FISHTANKSTUDIO   \n",
       "\n",
       "         Publisher           Genres                rating  User Score  \\\n",
       "0     FRESHUU INC.           ACTION                   NaN         6.9   \n",
       "1        GATHERING  AUTO RACING SIM  RATED E FOR EVERYONE         0.0   \n",
       "2            NAMCO  AUTO RACING SIM  RATED E FOR EVERYONE         5.8   \n",
       "3            ASPYR      WESTERN RPG      RATED T FOR TEEN         7.5   \n",
       "4  BLACK EYE GAMES              RPG                   NaN         6.5   \n",
       "\n",
       "   ratings_count  \n",
       "0             14  \n",
       "1              0  \n",
       "2              0  \n",
       "3            832  \n",
       "4             10  "
      ]
     },
     "execution_count": 328,
     "metadata": {},
     "output_type": "execute_result"
    }
   ],
   "source": [
    "metacritic_data.head()"
   ]
  },
  {
   "cell_type": "code",
   "execution_count": 329,
   "metadata": {},
   "outputs": [
    {
     "name": "stdout",
     "output_type": "stream",
     "text": [
      "<class 'pandas.core.frame.DataFrame'>\n",
      "RangeIndex: 14055 entries, 0 to 14054\n",
      "Data columns (total 8 columns):\n",
      " #   Column         Non-Null Count  Dtype  \n",
      "---  ------         --------------  -----  \n",
      " 0   Title          14034 non-null  object \n",
      " 1   released       13991 non-null  object \n",
      " 2   Developer      13917 non-null  object \n",
      " 3   Publisher      13917 non-null  object \n",
      " 4   Genres         14034 non-null  object \n",
      " 5   rating         11005 non-null  object \n",
      " 6   User Score     14055 non-null  float64\n",
      " 7   ratings_count  14055 non-null  int64  \n",
      "dtypes: float64(1), int64(1), object(6)\n",
      "memory usage: 878.6+ KB\n"
     ]
    }
   ],
   "source": [
    "metacritic_data.info()"
   ]
  },
  {
   "cell_type": "markdown",
   "metadata": {},
   "source": [
    "## Transformations and merge"
   ]
  },
  {
   "cell_type": "markdown",
   "metadata": {},
   "source": [
    "Function to extract platforms names"
   ]
  },
  {
   "cell_type": "code",
   "execution_count": 330,
   "metadata": {},
   "outputs": [
    {
     "name": "stdout",
     "output_type": "stream",
     "text": [
      "         rating\n",
      "0          None\n",
      "1      Everyone\n",
      "2  Everyone 10+\n",
      "3          None\n",
      "4  Everyone 10+\n"
     ]
    }
   ],
   "source": [
    "def extract_classification_names(json_str):\n",
    "    # Check if the input is actually a string\n",
    "    if isinstance(json_str, str):\n",
    "        try:\n",
    "            # Assuming the JSON strings are formatted with double quotes\n",
    "            classification_data = json.loads(json_str.replace(\"'\", '\"'))\n",
    "            # If the structure contains a list of platforms, we join them with a comma\n",
    "            if isinstance(classification_data, list):\n",
    "                classification_names = [classification['name'] for classification in classification_data]\n",
    "                return ', '.join(classification_names)\n",
    "            # If it's a dictionary and 'name' is the key for platform names\n",
    "            elif 'name' in classification_data:\n",
    "                return classification_data['name']\n",
    "            else:\n",
    "                return None\n",
    "        except json.JSONDecodeError:\n",
    "            return None\n",
    "    else:\n",
    "        return None\n",
    "\n",
    "combined_api_data['rating'] = combined_api_data['esrb_rating'].apply(extract_classification_names)\n",
    "\n",
    "# Check the transformation results\n",
    "print(combined_api_data[['rating']].head())"
   ]
  },
  {
   "cell_type": "code",
   "execution_count": 331,
   "metadata": {},
   "outputs": [
    {
     "name": "stdout",
     "output_type": "stream",
     "text": [
      "          genres\n",
      "0         Casual\n",
      "1         Action\n",
      "2         Arcade\n",
      "3         Action\n",
      "4      Adventure\n",
      "...          ...\n",
      "12135     Racing\n",
      "12136     Action\n",
      "12137  Adventure\n",
      "12138        RPG\n",
      "12139  Adventure\n",
      "\n",
      "[12140 rows x 1 columns]\n"
     ]
    }
   ],
   "source": [
    "def extract_first_genre_name(json_str):\n",
    "    if isinstance(json_str, str):\n",
    "        try:\n",
    "            # Correctly parse the JSON assuming single quotes in string representation\n",
    "            genre_data = json.loads(json_str.replace(\"'\", '\"'))\n",
    "            # Check if the data structure is a dictionary (single genre) or a list (multiple genres)\n",
    "            if isinstance(genre_data, dict):\n",
    "                # Return the name directly if it's a single genre\n",
    "                return genre_data['name']\n",
    "            elif isinstance(genre_data, list) and len(genre_data) > 0:\n",
    "                # Return the name of the first genre if there are multiple\n",
    "                return genre_data[0]['name']\n",
    "            else:\n",
    "                return None\n",
    "        except json.JSONDecodeError:\n",
    "            return None\n",
    "    else:\n",
    "        return None\n",
    "\n",
    "# Apply the modified function to the 'genres' column\n",
    "combined_api_data['genres'] = combined_api_data['genres'].apply(extract_first_genre_name)\n",
    "\n",
    "# Display the result to verify\n",
    "print(combined_api_data[['genres']])"
   ]
  },
  {
   "cell_type": "code",
   "execution_count": 332,
   "metadata": {},
   "outputs": [
    {
     "name": "stdout",
     "output_type": "stream",
     "text": [
      "Row 5699: 'name' not found in []\n",
      "Row 8762: 'name' not found in []\n",
      "0                   PC\n",
      "1              PS Vita\n",
      "2        PlayStation 3\n",
      "3             Xbox One\n",
      "4        PlayStation 4\n",
      "             ...      \n",
      "12135               PC\n",
      "12136               PC\n",
      "12137            macOS\n",
      "12138               PC\n",
      "12139               PC\n",
      "Name: platforms, Length: 12140, dtype: object\n"
     ]
    }
   ],
   "source": [
    "# Function to search for the word 'name' and extract the first platform name\n",
    "def extract_first_platform_name_from_string(json_str, index):\n",
    "    if not json_str or json_str.strip() in ['platforms', '']:\n",
    "        print(f\"Row {index}: Empty or placeholder string\")\n",
    "        return None\n",
    "    \n",
    "    # Check if the string is a plain text value\n",
    "    if json_str.isalpha():\n",
    "        print(f\"Row {index}: Plain text value: {json_str}\")\n",
    "        return json_str\n",
    "    \n",
    "    try:\n",
    "        # Replace single quotes with double quotes to form valid JSON\n",
    "        json_str = json_str.replace(\"'\", '\"')\n",
    "        \n",
    "        # Find the platform names using regular expressions\n",
    "        matches = re.findall(r'\"name\":\\s*\"([^\"]+)\"', json_str)\n",
    "        if matches:\n",
    "            return matches[0]  # Return the first match\n",
    "        else:\n",
    "            print(f\"Row {index}: 'name' not found in {json_str}\")\n",
    "            return None\n",
    "    except Exception as e:\n",
    "        print(f\"Row {index}: Error processing string: {e} - {json_str}\")\n",
    "        return None\n",
    "\n",
    "\n",
    "# Apply the function to the DataFrame\n",
    "combined_api_data['platforms'] = combined_api_data.apply(lambda row: extract_first_platform_name_from_string(row['platforms'], row.name), axis=1)\n",
    "\n",
    "# Display the DataFrame\n",
    "print(combined_api_data['platforms'])"
   ]
  },
  {
   "cell_type": "code",
   "execution_count": 333,
   "metadata": {},
   "outputs": [],
   "source": [
    "combined_api_data = combined_api_data.map(lambda x: x.upper() if isinstance(x, str) else x)"
   ]
  },
  {
   "cell_type": "code",
   "execution_count": 335,
   "metadata": {},
   "outputs": [
    {
     "name": "stdout",
     "output_type": "stream",
     "text": [
      "Combined API data saved to 'api_data.csv'\n"
     ]
    }
   ],
   "source": [
    "combined_api_data.to_csv('../data/api_data2.csv', index=False)\n",
    "print(\"Combined API data saved to 'api_data.csv'\")"
   ]
  },
  {
   "cell_type": "markdown",
   "metadata": {},
   "source": [
    "Genres in PostgreSQL are comma-separated strings, we will join API genres lists"
   ]
  },
  {
   "cell_type": "code",
   "execution_count": 334,
   "metadata": {},
   "outputs": [
    {
     "ename": "NameError",
     "evalue": "name 'CASUAL' is not defined",
     "output_type": "error",
     "traceback": [
      "\u001b[1;31m---------------------------------------------------------------------------\u001b[0m",
      "\u001b[1;31mNameError\u001b[0m                                 Traceback (most recent call last)",
      "Cell \u001b[1;32mIn[334], line 6\u001b[0m\n\u001b[0;32m      1\u001b[0m api_relevant_columns \u001b[38;5;241m=\u001b[39m [\n\u001b[0;32m      2\u001b[0m     \u001b[38;5;124m'\u001b[39m\u001b[38;5;124mname\u001b[39m\u001b[38;5;124m'\u001b[39m, \u001b[38;5;124m'\u001b[39m\u001b[38;5;124mreleased\u001b[39m\u001b[38;5;124m'\u001b[39m, \u001b[38;5;124m'\u001b[39m\u001b[38;5;124mrating\u001b[39m\u001b[38;5;124m'\u001b[39m, \u001b[38;5;124m'\u001b[39m\u001b[38;5;124mratings_count\u001b[39m\u001b[38;5;124m'\u001b[39m, \u001b[38;5;124m'\u001b[39m\u001b[38;5;124mmetacritic\u001b[39m\u001b[38;5;124m'\u001b[39m, \u001b[38;5;124m'\u001b[39m\u001b[38;5;124mgenres\u001b[39m\u001b[38;5;124m'\u001b[39m\n\u001b[0;32m      3\u001b[0m ]\n\u001b[0;32m      4\u001b[0m api_data_relevant \u001b[38;5;241m=\u001b[39m combined_api_data[api_relevant_columns]\u001b[38;5;241m.\u001b[39mcopy()\n\u001b[1;32m----> 6\u001b[0m api_data_relevant[\u001b[38;5;124m'\u001b[39m\u001b[38;5;124mgenres\u001b[39m\u001b[38;5;124m'\u001b[39m] \u001b[38;5;241m=\u001b[39m \u001b[43mapi_data_relevant\u001b[49m\u001b[43m[\u001b[49m\u001b[38;5;124;43m'\u001b[39;49m\u001b[38;5;124;43mgenres\u001b[39;49m\u001b[38;5;124;43m'\u001b[39;49m\u001b[43m]\u001b[49m\u001b[38;5;241;43m.\u001b[39;49m\u001b[43mapply\u001b[49m\u001b[43m(\u001b[49m\n\u001b[0;32m      7\u001b[0m \u001b[43m    \u001b[49m\u001b[38;5;28;43;01mlambda\u001b[39;49;00m\u001b[43m \u001b[49m\u001b[43mx\u001b[49m\u001b[43m:\u001b[49m\u001b[43m \u001b[49m\u001b[38;5;124;43m'\u001b[39;49m\u001b[38;5;124;43m, \u001b[39;49m\u001b[38;5;124;43m'\u001b[39;49m\u001b[38;5;241;43m.\u001b[39;49m\u001b[43mjoin\u001b[49m\u001b[43m(\u001b[49m\u001b[43m[\u001b[49m\u001b[43mgenre\u001b[49m\u001b[43m[\u001b[49m\u001b[38;5;124;43m'\u001b[39;49m\u001b[38;5;124;43mname\u001b[39;49m\u001b[38;5;124;43m'\u001b[39;49m\u001b[43m]\u001b[49m\u001b[43m \u001b[49m\u001b[38;5;28;43;01mfor\u001b[39;49;00m\u001b[43m \u001b[49m\u001b[43mgenre\u001b[49m\u001b[43m \u001b[49m\u001b[38;5;129;43;01min\u001b[39;49;00m\u001b[43m \u001b[49m\u001b[38;5;28;43meval\u001b[39;49m\u001b[43m(\u001b[49m\u001b[43mx\u001b[49m\u001b[43m)\u001b[49m\u001b[43m]\u001b[49m\u001b[43m)\u001b[49m\u001b[43m \u001b[49m\u001b[38;5;28;43;01mif\u001b[39;49;00m\u001b[43m \u001b[49m\u001b[43mpd\u001b[49m\u001b[38;5;241;43m.\u001b[39;49m\u001b[43mnotnull\u001b[49m\u001b[43m(\u001b[49m\u001b[43mx\u001b[49m\u001b[43m)\u001b[49m\u001b[43m \u001b[49m\u001b[38;5;28;43;01melse\u001b[39;49;00m\u001b[43m \u001b[49m\u001b[43mx\u001b[49m\n\u001b[0;32m      8\u001b[0m \u001b[43m)\u001b[49m\n",
      "File \u001b[1;32mc:\\Users\\dayan\\OneDrive - Universidad Autonoma de Occidente\\ETL\\corte3\\ETL-Project\\Pj3\\Lib\\site-packages\\pandas\\core\\series.py:4924\u001b[0m, in \u001b[0;36mSeries.apply\u001b[1;34m(self, func, convert_dtype, args, by_row, **kwargs)\u001b[0m\n\u001b[0;32m   4789\u001b[0m \u001b[38;5;28;01mdef\u001b[39;00m \u001b[38;5;21mapply\u001b[39m(\n\u001b[0;32m   4790\u001b[0m     \u001b[38;5;28mself\u001b[39m,\n\u001b[0;32m   4791\u001b[0m     func: AggFuncType,\n\u001b[1;32m   (...)\u001b[0m\n\u001b[0;32m   4796\u001b[0m     \u001b[38;5;241m*\u001b[39m\u001b[38;5;241m*\u001b[39mkwargs,\n\u001b[0;32m   4797\u001b[0m ) \u001b[38;5;241m-\u001b[39m\u001b[38;5;241m>\u001b[39m DataFrame \u001b[38;5;241m|\u001b[39m Series:\n\u001b[0;32m   4798\u001b[0m \u001b[38;5;250m    \u001b[39m\u001b[38;5;124;03m\"\"\"\u001b[39;00m\n\u001b[0;32m   4799\u001b[0m \u001b[38;5;124;03m    Invoke function on values of Series.\u001b[39;00m\n\u001b[0;32m   4800\u001b[0m \n\u001b[1;32m   (...)\u001b[0m\n\u001b[0;32m   4915\u001b[0m \u001b[38;5;124;03m    dtype: float64\u001b[39;00m\n\u001b[0;32m   4916\u001b[0m \u001b[38;5;124;03m    \"\"\"\u001b[39;00m\n\u001b[0;32m   4917\u001b[0m     \u001b[38;5;28;01mreturn\u001b[39;00m \u001b[43mSeriesApply\u001b[49m\u001b[43m(\u001b[49m\n\u001b[0;32m   4918\u001b[0m \u001b[43m        \u001b[49m\u001b[38;5;28;43mself\u001b[39;49m\u001b[43m,\u001b[49m\n\u001b[0;32m   4919\u001b[0m \u001b[43m        \u001b[49m\u001b[43mfunc\u001b[49m\u001b[43m,\u001b[49m\n\u001b[0;32m   4920\u001b[0m \u001b[43m        \u001b[49m\u001b[43mconvert_dtype\u001b[49m\u001b[38;5;241;43m=\u001b[39;49m\u001b[43mconvert_dtype\u001b[49m\u001b[43m,\u001b[49m\n\u001b[0;32m   4921\u001b[0m \u001b[43m        \u001b[49m\u001b[43mby_row\u001b[49m\u001b[38;5;241;43m=\u001b[39;49m\u001b[43mby_row\u001b[49m\u001b[43m,\u001b[49m\n\u001b[0;32m   4922\u001b[0m \u001b[43m        \u001b[49m\u001b[43margs\u001b[49m\u001b[38;5;241;43m=\u001b[39;49m\u001b[43margs\u001b[49m\u001b[43m,\u001b[49m\n\u001b[0;32m   4923\u001b[0m \u001b[43m        \u001b[49m\u001b[43mkwargs\u001b[49m\u001b[38;5;241;43m=\u001b[39;49m\u001b[43mkwargs\u001b[49m\u001b[43m,\u001b[49m\n\u001b[1;32m-> 4924\u001b[0m \u001b[43m    \u001b[49m\u001b[43m)\u001b[49m\u001b[38;5;241;43m.\u001b[39;49m\u001b[43mapply\u001b[49m\u001b[43m(\u001b[49m\u001b[43m)\u001b[49m\n",
      "File \u001b[1;32mc:\\Users\\dayan\\OneDrive - Universidad Autonoma de Occidente\\ETL\\corte3\\ETL-Project\\Pj3\\Lib\\site-packages\\pandas\\core\\apply.py:1427\u001b[0m, in \u001b[0;36mSeriesApply.apply\u001b[1;34m(self)\u001b[0m\n\u001b[0;32m   1424\u001b[0m     \u001b[38;5;28;01mreturn\u001b[39;00m \u001b[38;5;28mself\u001b[39m\u001b[38;5;241m.\u001b[39mapply_compat()\n\u001b[0;32m   1426\u001b[0m \u001b[38;5;66;03m# self.func is Callable\u001b[39;00m\n\u001b[1;32m-> 1427\u001b[0m \u001b[38;5;28;01mreturn\u001b[39;00m \u001b[38;5;28;43mself\u001b[39;49m\u001b[38;5;241;43m.\u001b[39;49m\u001b[43mapply_standard\u001b[49m\u001b[43m(\u001b[49m\u001b[43m)\u001b[49m\n",
      "File \u001b[1;32mc:\\Users\\dayan\\OneDrive - Universidad Autonoma de Occidente\\ETL\\corte3\\ETL-Project\\Pj3\\Lib\\site-packages\\pandas\\core\\apply.py:1507\u001b[0m, in \u001b[0;36mSeriesApply.apply_standard\u001b[1;34m(self)\u001b[0m\n\u001b[0;32m   1501\u001b[0m \u001b[38;5;66;03m# row-wise access\u001b[39;00m\n\u001b[0;32m   1502\u001b[0m \u001b[38;5;66;03m# apply doesn't have a `na_action` keyword and for backward compat reasons\u001b[39;00m\n\u001b[0;32m   1503\u001b[0m \u001b[38;5;66;03m# we need to give `na_action=\"ignore\"` for categorical data.\u001b[39;00m\n\u001b[0;32m   1504\u001b[0m \u001b[38;5;66;03m# TODO: remove the `na_action=\"ignore\"` when that default has been changed in\u001b[39;00m\n\u001b[0;32m   1505\u001b[0m \u001b[38;5;66;03m#  Categorical (GH51645).\u001b[39;00m\n\u001b[0;32m   1506\u001b[0m action \u001b[38;5;241m=\u001b[39m \u001b[38;5;124m\"\u001b[39m\u001b[38;5;124mignore\u001b[39m\u001b[38;5;124m\"\u001b[39m \u001b[38;5;28;01mif\u001b[39;00m \u001b[38;5;28misinstance\u001b[39m(obj\u001b[38;5;241m.\u001b[39mdtype, CategoricalDtype) \u001b[38;5;28;01melse\u001b[39;00m \u001b[38;5;28;01mNone\u001b[39;00m\n\u001b[1;32m-> 1507\u001b[0m mapped \u001b[38;5;241m=\u001b[39m \u001b[43mobj\u001b[49m\u001b[38;5;241;43m.\u001b[39;49m\u001b[43m_map_values\u001b[49m\u001b[43m(\u001b[49m\n\u001b[0;32m   1508\u001b[0m \u001b[43m    \u001b[49m\u001b[43mmapper\u001b[49m\u001b[38;5;241;43m=\u001b[39;49m\u001b[43mcurried\u001b[49m\u001b[43m,\u001b[49m\u001b[43m \u001b[49m\u001b[43mna_action\u001b[49m\u001b[38;5;241;43m=\u001b[39;49m\u001b[43maction\u001b[49m\u001b[43m,\u001b[49m\u001b[43m \u001b[49m\u001b[43mconvert\u001b[49m\u001b[38;5;241;43m=\u001b[39;49m\u001b[38;5;28;43mself\u001b[39;49m\u001b[38;5;241;43m.\u001b[39;49m\u001b[43mconvert_dtype\u001b[49m\n\u001b[0;32m   1509\u001b[0m \u001b[43m\u001b[49m\u001b[43m)\u001b[49m\n\u001b[0;32m   1511\u001b[0m \u001b[38;5;28;01mif\u001b[39;00m \u001b[38;5;28mlen\u001b[39m(mapped) \u001b[38;5;129;01mand\u001b[39;00m \u001b[38;5;28misinstance\u001b[39m(mapped[\u001b[38;5;241m0\u001b[39m], ABCSeries):\n\u001b[0;32m   1512\u001b[0m     \u001b[38;5;66;03m# GH#43986 Need to do list(mapped) in order to get treated as nested\u001b[39;00m\n\u001b[0;32m   1513\u001b[0m     \u001b[38;5;66;03m#  See also GH#25959 regarding EA support\u001b[39;00m\n\u001b[0;32m   1514\u001b[0m     \u001b[38;5;28;01mreturn\u001b[39;00m obj\u001b[38;5;241m.\u001b[39m_constructor_expanddim(\u001b[38;5;28mlist\u001b[39m(mapped), index\u001b[38;5;241m=\u001b[39mobj\u001b[38;5;241m.\u001b[39mindex)\n",
      "File \u001b[1;32mc:\\Users\\dayan\\OneDrive - Universidad Autonoma de Occidente\\ETL\\corte3\\ETL-Project\\Pj3\\Lib\\site-packages\\pandas\\core\\base.py:921\u001b[0m, in \u001b[0;36mIndexOpsMixin._map_values\u001b[1;34m(self, mapper, na_action, convert)\u001b[0m\n\u001b[0;32m    918\u001b[0m \u001b[38;5;28;01mif\u001b[39;00m \u001b[38;5;28misinstance\u001b[39m(arr, ExtensionArray):\n\u001b[0;32m    919\u001b[0m     \u001b[38;5;28;01mreturn\u001b[39;00m arr\u001b[38;5;241m.\u001b[39mmap(mapper, na_action\u001b[38;5;241m=\u001b[39mna_action)\n\u001b[1;32m--> 921\u001b[0m \u001b[38;5;28;01mreturn\u001b[39;00m \u001b[43malgorithms\u001b[49m\u001b[38;5;241;43m.\u001b[39;49m\u001b[43mmap_array\u001b[49m\u001b[43m(\u001b[49m\u001b[43marr\u001b[49m\u001b[43m,\u001b[49m\u001b[43m \u001b[49m\u001b[43mmapper\u001b[49m\u001b[43m,\u001b[49m\u001b[43m \u001b[49m\u001b[43mna_action\u001b[49m\u001b[38;5;241;43m=\u001b[39;49m\u001b[43mna_action\u001b[49m\u001b[43m,\u001b[49m\u001b[43m \u001b[49m\u001b[43mconvert\u001b[49m\u001b[38;5;241;43m=\u001b[39;49m\u001b[43mconvert\u001b[49m\u001b[43m)\u001b[49m\n",
      "File \u001b[1;32mc:\\Users\\dayan\\OneDrive - Universidad Autonoma de Occidente\\ETL\\corte3\\ETL-Project\\Pj3\\Lib\\site-packages\\pandas\\core\\algorithms.py:1743\u001b[0m, in \u001b[0;36mmap_array\u001b[1;34m(arr, mapper, na_action, convert)\u001b[0m\n\u001b[0;32m   1741\u001b[0m values \u001b[38;5;241m=\u001b[39m arr\u001b[38;5;241m.\u001b[39mastype(\u001b[38;5;28mobject\u001b[39m, copy\u001b[38;5;241m=\u001b[39m\u001b[38;5;28;01mFalse\u001b[39;00m)\n\u001b[0;32m   1742\u001b[0m \u001b[38;5;28;01mif\u001b[39;00m na_action \u001b[38;5;129;01mis\u001b[39;00m \u001b[38;5;28;01mNone\u001b[39;00m:\n\u001b[1;32m-> 1743\u001b[0m     \u001b[38;5;28;01mreturn\u001b[39;00m \u001b[43mlib\u001b[49m\u001b[38;5;241;43m.\u001b[39;49m\u001b[43mmap_infer\u001b[49m\u001b[43m(\u001b[49m\u001b[43mvalues\u001b[49m\u001b[43m,\u001b[49m\u001b[43m \u001b[49m\u001b[43mmapper\u001b[49m\u001b[43m,\u001b[49m\u001b[43m \u001b[49m\u001b[43mconvert\u001b[49m\u001b[38;5;241;43m=\u001b[39;49m\u001b[43mconvert\u001b[49m\u001b[43m)\u001b[49m\n\u001b[0;32m   1744\u001b[0m \u001b[38;5;28;01melse\u001b[39;00m:\n\u001b[0;32m   1745\u001b[0m     \u001b[38;5;28;01mreturn\u001b[39;00m lib\u001b[38;5;241m.\u001b[39mmap_infer_mask(\n\u001b[0;32m   1746\u001b[0m         values, mapper, mask\u001b[38;5;241m=\u001b[39misna(values)\u001b[38;5;241m.\u001b[39mview(np\u001b[38;5;241m.\u001b[39muint8), convert\u001b[38;5;241m=\u001b[39mconvert\n\u001b[0;32m   1747\u001b[0m     )\n",
      "File \u001b[1;32mlib.pyx:2972\u001b[0m, in \u001b[0;36mpandas._libs.lib.map_infer\u001b[1;34m()\u001b[0m\n",
      "Cell \u001b[1;32mIn[334], line 7\u001b[0m, in \u001b[0;36m<lambda>\u001b[1;34m(x)\u001b[0m\n\u001b[0;32m      1\u001b[0m api_relevant_columns \u001b[38;5;241m=\u001b[39m [\n\u001b[0;32m      2\u001b[0m     \u001b[38;5;124m'\u001b[39m\u001b[38;5;124mname\u001b[39m\u001b[38;5;124m'\u001b[39m, \u001b[38;5;124m'\u001b[39m\u001b[38;5;124mreleased\u001b[39m\u001b[38;5;124m'\u001b[39m, \u001b[38;5;124m'\u001b[39m\u001b[38;5;124mrating\u001b[39m\u001b[38;5;124m'\u001b[39m, \u001b[38;5;124m'\u001b[39m\u001b[38;5;124mratings_count\u001b[39m\u001b[38;5;124m'\u001b[39m, \u001b[38;5;124m'\u001b[39m\u001b[38;5;124mmetacritic\u001b[39m\u001b[38;5;124m'\u001b[39m, \u001b[38;5;124m'\u001b[39m\u001b[38;5;124mgenres\u001b[39m\u001b[38;5;124m'\u001b[39m\n\u001b[0;32m      3\u001b[0m ]\n\u001b[0;32m      4\u001b[0m api_data_relevant \u001b[38;5;241m=\u001b[39m combined_api_data[api_relevant_columns]\u001b[38;5;241m.\u001b[39mcopy()\n\u001b[0;32m      6\u001b[0m api_data_relevant[\u001b[38;5;124m'\u001b[39m\u001b[38;5;124mgenres\u001b[39m\u001b[38;5;124m'\u001b[39m] \u001b[38;5;241m=\u001b[39m api_data_relevant[\u001b[38;5;124m'\u001b[39m\u001b[38;5;124mgenres\u001b[39m\u001b[38;5;124m'\u001b[39m]\u001b[38;5;241m.\u001b[39mapply(\n\u001b[1;32m----> 7\u001b[0m     \u001b[38;5;28;01mlambda\u001b[39;00m x: \u001b[38;5;124m'\u001b[39m\u001b[38;5;124m, \u001b[39m\u001b[38;5;124m'\u001b[39m\u001b[38;5;241m.\u001b[39mjoin([genre[\u001b[38;5;124m'\u001b[39m\u001b[38;5;124mname\u001b[39m\u001b[38;5;124m'\u001b[39m] \u001b[38;5;28;01mfor\u001b[39;00m genre \u001b[38;5;129;01min\u001b[39;00m \u001b[38;5;28;43meval\u001b[39;49m\u001b[43m(\u001b[49m\u001b[43mx\u001b[49m\u001b[43m)\u001b[49m]) \u001b[38;5;28;01mif\u001b[39;00m pd\u001b[38;5;241m.\u001b[39mnotnull(x) \u001b[38;5;28;01melse\u001b[39;00m x\n\u001b[0;32m      8\u001b[0m )\n",
      "File \u001b[1;32m<string>:1\u001b[0m\n",
      "\u001b[1;31mNameError\u001b[0m: name 'CASUAL' is not defined"
     ]
    }
   ],
   "source": [
    "api_relevant_columns = [\n",
    "    'name', 'released', 'rating', 'ratings_count', 'metacritic', 'genres'\n",
    "]\n",
    "api_data_relevant = combined_api_data[api_relevant_columns].copy()\n",
    "\n",
    "api_data_relevant['genres'] = api_data_relevant['genres'].apply(\n",
    "    lambda x: ', '.join([genre['name'] for genre in eval(x)]) if pd.notnull(x) else x\n",
    ")"
   ]
  },
  {
   "cell_type": "markdown",
   "metadata": {},
   "source": [
    "Rename columns to match PostgreSQL data"
   ]
  },
  {
   "cell_type": "code",
   "execution_count": null,
   "metadata": {},
   "outputs": [],
   "source": [
    "api_data_relevant.rename(columns={\n",
    "    'name': 'Title',\n",
    "    'rating': 'Rating',\n",
    "    'metacritic': 'Metacritic Score',\n",
    "    'ratings_count': 'Ratings Count',\n",
    "    'genres': 'Genres'\n",
    "}, inplace=True)"
   ]
  },
  {
   "cell_type": "code",
   "execution_count": null,
   "metadata": {},
   "outputs": [],
   "source": [
    "# Standardize titles and release dates in db_data to ensure consistent formatting\n",
    "metacritic_data['Title'] = metacritic_data['Title'].str.strip().str.upper()\n",
    "metacritic_data['released'] = pd.to_datetime(metacritic_data['released']).dt.date"
   ]
  },
  {
   "cell_type": "markdown",
   "metadata": {},
   "source": [
    "Merge the combined API data with the PostgreSQL data"
   ]
  },
  {
   "cell_type": "code",
   "execution_count": null,
   "metadata": {},
   "outputs": [
    {
     "name": "stdout",
     "output_type": "stream",
     "text": [
      "API Data Relevant Columns: ['Title', 'released', 'Rating', 'Ratings Count', 'Metacritic Score', 'Genres']\n",
      "Database Data Columns: ['Title', 'released', 'Developer', 'Publisher', 'Genres', 'rating', 'User Score', 'ratings_count']\n"
     ]
    }
   ],
   "source": [
    "# Debug: Display the column names of both DataFrames\n",
    "print(\"API Data Relevant Columns:\", api_data_relevant.columns.tolist())\n",
    "print(\"Database Data Columns:\", metacritic_data.columns.tolist())"
   ]
  },
  {
   "cell_type": "code",
   "execution_count": null,
   "metadata": {},
   "outputs": [
    {
     "name": "stdout",
     "output_type": "stream",
     "text": [
      "Merged Data:\n",
      "                                        Title    released  Rating  \\\n",
      "0                            \"ANONYMOUS CODE\"  2023-09-08     NaN   \n",
      "1  \"CHAOS HEAD NOAH  CHAOS CHILD DOUBLE PACK\"  2022-10-07     NaN   \n",
      "2                           \"CHAOS HEAD NOAH\"  2022-10-07     NaN   \n",
      "3                      \"DEATH END RE QUEST 2\"  2020-08-25     NaN   \n",
      "4                        \"DEATH END RE QUEST\"  2019-02-19     NaN   \n",
      "\n",
      "   Ratings Count  Metacritic Score        Genres      Developer  \\\n",
      "0            NaN               NaN  VISUAL NOVEL            5PB   \n",
      "1            NaN               NaN   COMPILATION         MAGES.   \n",
      "2            NaN               NaN  VISUAL NOVEL         MAGES.   \n",
      "3            NaN               NaN          JRPG  COMPILE HEART   \n",
      "4            NaN               NaN          JRPG  COMPILE HEART   \n",
      "\n",
      "        Publisher              rating  User Score  ratings_count  \n",
      "0  SPIKE CHUNSOFT  RATED M FOR MATURE         7.8            6.0  \n",
      "1  SPIKE CHUNSOFT  RATED M FOR MATURE         9.0            0.0  \n",
      "2  SPIKE CHUNSOFT  RATED M FOR MATURE         8.5            0.0  \n",
      "3    IDEA FACTORY  RATED M FOR MATURE         6.6           22.0  \n",
      "4    IDEA FACTORY  RATED M FOR MATURE         7.5           63.0  \n"
     ]
    }
   ],
   "source": [
    "# Merge the combined API data with the PostgreSQL data\n",
    "merged_data = pd.merge(api_data_relevant, metacritic_data, on=['Title', 'released', 'Genres'], how='outer')\n",
    "\n",
    "# Display merged data\n",
    "print(\"Merged Data:\")\n",
    "print(merged_data.head())"
   ]
  },
  {
   "cell_type": "code",
   "execution_count": null,
   "metadata": {},
   "outputs": [
    {
     "name": "stdout",
     "output_type": "stream",
     "text": [
      "Rows with NaN values:\n",
      "                                            Title    released  Rating  \\\n",
      "0                                \"ANONYMOUS CODE\"  2023-09-08     NaN   \n",
      "1      \"CHAOS HEAD NOAH  CHAOS CHILD DOUBLE PACK\"  2022-10-07     NaN   \n",
      "2                               \"CHAOS HEAD NOAH\"  2022-10-07     NaN   \n",
      "3                          \"DEATH END RE QUEST 2\"  2020-08-25     NaN   \n",
      "4                            \"DEATH END RE QUEST\"  2019-02-19     NaN   \n",
      "...                                           ...         ...     ...   \n",
      "26190                                         NaN         NaT     NaN   \n",
      "26191                                         NaN         NaT     NaN   \n",
      "26192                                         NaN         NaT     NaN   \n",
      "26193                                         NaN         NaT     NaN   \n",
      "26194                                         NaN         NaT     NaN   \n",
      "\n",
      "       Ratings Count  Metacritic Score        Genres      Developer  \\\n",
      "0                NaN               NaN  VISUAL NOVEL            5PB   \n",
      "1                NaN               NaN   COMPILATION         MAGES.   \n",
      "2                NaN               NaN  VISUAL NOVEL         MAGES.   \n",
      "3                NaN               NaN          JRPG  COMPILE HEART   \n",
      "4                NaN               NaN          JRPG  COMPILE HEART   \n",
      "...              ...               ...           ...            ...   \n",
      "26190            NaN               NaN           NaN            NaN   \n",
      "26191            NaN               NaN           NaN            NaN   \n",
      "26192            NaN               NaN           NaN            NaN   \n",
      "26193            NaN               NaN           NaN            NaN   \n",
      "26194            NaN               NaN           NaN            NaN   \n",
      "\n",
      "            Publisher              rating  User Score  ratings_count  \n",
      "0      SPIKE CHUNSOFT  RATED M FOR MATURE         7.8            6.0  \n",
      "1      SPIKE CHUNSOFT  RATED M FOR MATURE         9.0            0.0  \n",
      "2      SPIKE CHUNSOFT  RATED M FOR MATURE         8.5            0.0  \n",
      "3        IDEA FACTORY  RATED M FOR MATURE         6.6           22.0  \n",
      "4        IDEA FACTORY  RATED M FOR MATURE         7.5           63.0  \n",
      "...               ...                 ...         ...            ...  \n",
      "26190             NaN                 NaN         0.0            0.0  \n",
      "26191             NaN                 NaN         0.0            0.0  \n",
      "26192             NaN                 NaN         0.0            0.0  \n",
      "26193             NaN                 NaN         0.0            0.0  \n",
      "26194             NaN                 NaN         0.0            0.0  \n",
      "\n",
      "[26195 rows x 11 columns]\n"
     ]
    }
   ],
   "source": [
    "# Display rows with NaN values to understand the mismatches\n",
    "nan_rows = merged_data[merged_data.isna().any(axis=1)]\n",
    "print(\"Rows with NaN values:\")\n",
    "print(nan_rows)"
   ]
  },
  {
   "cell_type": "code",
   "execution_count": null,
   "metadata": {},
   "outputs": [],
   "source": []
  },
  {
   "cell_type": "code",
   "execution_count": null,
   "metadata": {},
   "outputs": [],
   "source": []
  }
 ],
 "metadata": {
  "kernelspec": {
   "display_name": "Python 3 (ipykernel)",
   "language": "python",
   "name": "python3"
  },
  "language_info": {
   "codemirror_mode": {
    "name": "ipython",
    "version": 3
   },
   "file_extension": ".py",
   "mimetype": "text/x-python",
   "name": "python",
   "nbconvert_exporter": "python",
   "pygments_lexer": "ipython3",
   "version": "3.12.2"
  }
 },
 "nbformat": 4,
 "nbformat_minor": 4
}
