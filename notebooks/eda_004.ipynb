{
 "cells": [
  {
   "cell_type": "markdown",
   "metadata": {},
   "source": [
    "# MERGE DATASET - API DATA"
   ]
  },
  {
   "cell_type": "markdown",
   "metadata": {},
   "source": [
    "### Libreries used"
   ]
  },
  {
   "cell_type": "code",
   "execution_count": 2,
   "metadata": {},
   "outputs": [],
   "source": [
    "import pandas as pd\n",
    "import re\n",
    "from sqlalchemy import create_engine\n",
    "import json\n",
    "import sys\n",
    "import os\n",
    "import ast"
   ]
  },
  {
   "cell_type": "markdown",
   "metadata": {},
   "source": [
    "## Connection to database"
   ]
  },
  {
   "cell_type": "code",
   "execution_count": 3,
   "metadata": {},
   "outputs": [
    {
     "name": "stdout",
     "output_type": "stream",
     "text": [
      "Reading configuration from ../config/database.ini\n",
      "Database connection failed: (psycopg2.OperationalError) connection to server at \"host.docker.internal\" (11.11.21.138), port 5432 failed: Connection timed out (0x0000274C/10060)\n",
      "\tIs the server running on that host and accepting TCP/IP connections?\n",
      "\n",
      "(Background on this error at: https://sqlalche.me/e/20/e3q8)\n"
     ]
    },
    {
     "ename": "AttributeError",
     "evalue": "'tuple' object has no attribute 'tb_frame'",
     "output_type": "error",
     "traceback": [
      "\u001b[1;31m---------------------------------------------------------------------------\u001b[0m",
      "\u001b[1;31mOperationalError\u001b[0m                          Traceback (most recent call last)",
      "File \u001b[1;32mc:\\Users\\dayan\\OneDrive - Universidad Autonoma de Occidente\\ETL\\Projecto 3\\ETL-Project\\project3\\Lib\\site-packages\\sqlalchemy\\engine\\base.py:146\u001b[0m, in \u001b[0;36mConnection.__init__\u001b[1;34m(self, engine, connection, _has_events, _allow_revalidate, _allow_autobegin)\u001b[0m\n\u001b[0;32m    145\u001b[0m \u001b[38;5;28;01mtry\u001b[39;00m:\n\u001b[1;32m--> 146\u001b[0m     \u001b[38;5;28mself\u001b[39m\u001b[38;5;241m.\u001b[39m_dbapi_connection \u001b[38;5;241m=\u001b[39m \u001b[43mengine\u001b[49m\u001b[38;5;241;43m.\u001b[39;49m\u001b[43mraw_connection\u001b[49m\u001b[43m(\u001b[49m\u001b[43m)\u001b[49m\n\u001b[0;32m    147\u001b[0m \u001b[38;5;28;01mexcept\u001b[39;00m dialect\u001b[38;5;241m.\u001b[39mloaded_dbapi\u001b[38;5;241m.\u001b[39mError \u001b[38;5;28;01mas\u001b[39;00m err:\n",
      "File \u001b[1;32mc:\\Users\\dayan\\OneDrive - Universidad Autonoma de Occidente\\ETL\\Projecto 3\\ETL-Project\\project3\\Lib\\site-packages\\sqlalchemy\\engine\\base.py:3300\u001b[0m, in \u001b[0;36mEngine.raw_connection\u001b[1;34m(self)\u001b[0m\n\u001b[0;32m   3279\u001b[0m \u001b[38;5;250m\u001b[39m\u001b[38;5;124;03m\"\"\"Return a \"raw\" DBAPI connection from the connection pool.\u001b[39;00m\n\u001b[0;32m   3280\u001b[0m \n\u001b[0;32m   3281\u001b[0m \u001b[38;5;124;03mThe returned object is a proxied version of the DBAPI\u001b[39;00m\n\u001b[1;32m   (...)\u001b[0m\n\u001b[0;32m   3298\u001b[0m \n\u001b[0;32m   3299\u001b[0m \u001b[38;5;124;03m\"\"\"\u001b[39;00m\n\u001b[1;32m-> 3300\u001b[0m \u001b[38;5;28;01mreturn\u001b[39;00m \u001b[38;5;28;43mself\u001b[39;49m\u001b[38;5;241;43m.\u001b[39;49m\u001b[43mpool\u001b[49m\u001b[38;5;241;43m.\u001b[39;49m\u001b[43mconnect\u001b[49m\u001b[43m(\u001b[49m\u001b[43m)\u001b[49m\n",
      "File \u001b[1;32mc:\\Users\\dayan\\OneDrive - Universidad Autonoma de Occidente\\ETL\\Projecto 3\\ETL-Project\\project3\\Lib\\site-packages\\sqlalchemy\\pool\\base.py:449\u001b[0m, in \u001b[0;36mPool.connect\u001b[1;34m(self)\u001b[0m\n\u001b[0;32m    442\u001b[0m \u001b[38;5;250m\u001b[39m\u001b[38;5;124;03m\"\"\"Return a DBAPI connection from the pool.\u001b[39;00m\n\u001b[0;32m    443\u001b[0m \n\u001b[0;32m    444\u001b[0m \u001b[38;5;124;03mThe connection is instrumented such that when its\u001b[39;00m\n\u001b[1;32m   (...)\u001b[0m\n\u001b[0;32m    447\u001b[0m \n\u001b[0;32m    448\u001b[0m \u001b[38;5;124;03m\"\"\"\u001b[39;00m\n\u001b[1;32m--> 449\u001b[0m \u001b[38;5;28;01mreturn\u001b[39;00m \u001b[43m_ConnectionFairy\u001b[49m\u001b[38;5;241;43m.\u001b[39;49m\u001b[43m_checkout\u001b[49m\u001b[43m(\u001b[49m\u001b[38;5;28;43mself\u001b[39;49m\u001b[43m)\u001b[49m\n",
      "File \u001b[1;32mc:\\Users\\dayan\\OneDrive - Universidad Autonoma de Occidente\\ETL\\Projecto 3\\ETL-Project\\project3\\Lib\\site-packages\\sqlalchemy\\pool\\base.py:1263\u001b[0m, in \u001b[0;36m_ConnectionFairy._checkout\u001b[1;34m(cls, pool, threadconns, fairy)\u001b[0m\n\u001b[0;32m   1262\u001b[0m \u001b[38;5;28;01mif\u001b[39;00m \u001b[38;5;129;01mnot\u001b[39;00m fairy:\n\u001b[1;32m-> 1263\u001b[0m     fairy \u001b[38;5;241m=\u001b[39m \u001b[43m_ConnectionRecord\u001b[49m\u001b[38;5;241;43m.\u001b[39;49m\u001b[43mcheckout\u001b[49m\u001b[43m(\u001b[49m\u001b[43mpool\u001b[49m\u001b[43m)\u001b[49m\n\u001b[0;32m   1265\u001b[0m     \u001b[38;5;28;01mif\u001b[39;00m threadconns \u001b[38;5;129;01mis\u001b[39;00m \u001b[38;5;129;01mnot\u001b[39;00m \u001b[38;5;28;01mNone\u001b[39;00m:\n",
      "File \u001b[1;32mc:\\Users\\dayan\\OneDrive - Universidad Autonoma de Occidente\\ETL\\Projecto 3\\ETL-Project\\project3\\Lib\\site-packages\\sqlalchemy\\pool\\base.py:712\u001b[0m, in \u001b[0;36m_ConnectionRecord.checkout\u001b[1;34m(cls, pool)\u001b[0m\n\u001b[0;32m    711\u001b[0m \u001b[38;5;28;01melse\u001b[39;00m:\n\u001b[1;32m--> 712\u001b[0m     rec \u001b[38;5;241m=\u001b[39m \u001b[43mpool\u001b[49m\u001b[38;5;241;43m.\u001b[39;49m\u001b[43m_do_get\u001b[49m\u001b[43m(\u001b[49m\u001b[43m)\u001b[49m\n\u001b[0;32m    714\u001b[0m \u001b[38;5;28;01mtry\u001b[39;00m:\n",
      "File \u001b[1;32mc:\\Users\\dayan\\OneDrive - Universidad Autonoma de Occidente\\ETL\\Projecto 3\\ETL-Project\\project3\\Lib\\site-packages\\sqlalchemy\\pool\\impl.py:179\u001b[0m, in \u001b[0;36mQueuePool._do_get\u001b[1;34m(self)\u001b[0m\n\u001b[0;32m    178\u001b[0m \u001b[38;5;28;01mexcept\u001b[39;00m:\n\u001b[1;32m--> 179\u001b[0m \u001b[43m    \u001b[49m\u001b[38;5;28;43;01mwith\u001b[39;49;00m\u001b[43m \u001b[49m\u001b[43mutil\u001b[49m\u001b[38;5;241;43m.\u001b[39;49m\u001b[43msafe_reraise\u001b[49m\u001b[43m(\u001b[49m\u001b[43m)\u001b[49m\u001b[43m:\u001b[49m\n\u001b[0;32m    180\u001b[0m \u001b[43m        \u001b[49m\u001b[38;5;28;43mself\u001b[39;49m\u001b[38;5;241;43m.\u001b[39;49m\u001b[43m_dec_overflow\u001b[49m\u001b[43m(\u001b[49m\u001b[43m)\u001b[49m\n",
      "File \u001b[1;32mc:\\Users\\dayan\\OneDrive - Universidad Autonoma de Occidente\\ETL\\Projecto 3\\ETL-Project\\project3\\Lib\\site-packages\\sqlalchemy\\util\\langhelpers.py:146\u001b[0m, in \u001b[0;36msafe_reraise.__exit__\u001b[1;34m(self, type_, value, traceback)\u001b[0m\n\u001b[0;32m    145\u001b[0m     \u001b[38;5;28mself\u001b[39m\u001b[38;5;241m.\u001b[39m_exc_info \u001b[38;5;241m=\u001b[39m \u001b[38;5;28;01mNone\u001b[39;00m  \u001b[38;5;66;03m# remove potential circular references\u001b[39;00m\n\u001b[1;32m--> 146\u001b[0m     \u001b[38;5;28;01mraise\u001b[39;00m exc_value\u001b[38;5;241m.\u001b[39mwith_traceback(exc_tb)\n\u001b[0;32m    147\u001b[0m \u001b[38;5;28;01melse\u001b[39;00m:\n",
      "File \u001b[1;32mc:\\Users\\dayan\\OneDrive - Universidad Autonoma de Occidente\\ETL\\Projecto 3\\ETL-Project\\project3\\Lib\\site-packages\\sqlalchemy\\pool\\impl.py:177\u001b[0m, in \u001b[0;36mQueuePool._do_get\u001b[1;34m(self)\u001b[0m\n\u001b[0;32m    176\u001b[0m \u001b[38;5;28;01mtry\u001b[39;00m:\n\u001b[1;32m--> 177\u001b[0m     \u001b[38;5;28;01mreturn\u001b[39;00m \u001b[38;5;28;43mself\u001b[39;49m\u001b[38;5;241;43m.\u001b[39;49m\u001b[43m_create_connection\u001b[49m\u001b[43m(\u001b[49m\u001b[43m)\u001b[49m\n\u001b[0;32m    178\u001b[0m \u001b[38;5;28;01mexcept\u001b[39;00m:\n",
      "File \u001b[1;32mc:\\Users\\dayan\\OneDrive - Universidad Autonoma de Occidente\\ETL\\Projecto 3\\ETL-Project\\project3\\Lib\\site-packages\\sqlalchemy\\pool\\base.py:390\u001b[0m, in \u001b[0;36mPool._create_connection\u001b[1;34m(self)\u001b[0m\n\u001b[0;32m    388\u001b[0m \u001b[38;5;250m\u001b[39m\u001b[38;5;124;03m\"\"\"Called by subclasses to create a new ConnectionRecord.\"\"\"\u001b[39;00m\n\u001b[1;32m--> 390\u001b[0m \u001b[38;5;28;01mreturn\u001b[39;00m \u001b[43m_ConnectionRecord\u001b[49m\u001b[43m(\u001b[49m\u001b[38;5;28;43mself\u001b[39;49m\u001b[43m)\u001b[49m\n",
      "File \u001b[1;32mc:\\Users\\dayan\\OneDrive - Universidad Autonoma de Occidente\\ETL\\Projecto 3\\ETL-Project\\project3\\Lib\\site-packages\\sqlalchemy\\pool\\base.py:674\u001b[0m, in \u001b[0;36m_ConnectionRecord.__init__\u001b[1;34m(self, pool, connect)\u001b[0m\n\u001b[0;32m    673\u001b[0m \u001b[38;5;28;01mif\u001b[39;00m connect:\n\u001b[1;32m--> 674\u001b[0m     \u001b[38;5;28;43mself\u001b[39;49m\u001b[38;5;241;43m.\u001b[39;49m\u001b[43m__connect\u001b[49m\u001b[43m(\u001b[49m\u001b[43m)\u001b[49m\n\u001b[0;32m    675\u001b[0m \u001b[38;5;28mself\u001b[39m\u001b[38;5;241m.\u001b[39mfinalize_callback \u001b[38;5;241m=\u001b[39m deque()\n",
      "File \u001b[1;32mc:\\Users\\dayan\\OneDrive - Universidad Autonoma de Occidente\\ETL\\Projecto 3\\ETL-Project\\project3\\Lib\\site-packages\\sqlalchemy\\pool\\base.py:900\u001b[0m, in \u001b[0;36m_ConnectionRecord.__connect\u001b[1;34m(self)\u001b[0m\n\u001b[0;32m    899\u001b[0m \u001b[38;5;28;01mexcept\u001b[39;00m \u001b[38;5;167;01mBaseException\u001b[39;00m \u001b[38;5;28;01mas\u001b[39;00m e:\n\u001b[1;32m--> 900\u001b[0m \u001b[43m    \u001b[49m\u001b[38;5;28;43;01mwith\u001b[39;49;00m\u001b[43m \u001b[49m\u001b[43mutil\u001b[49m\u001b[38;5;241;43m.\u001b[39;49m\u001b[43msafe_reraise\u001b[49m\u001b[43m(\u001b[49m\u001b[43m)\u001b[49m\u001b[43m:\u001b[49m\n\u001b[0;32m    901\u001b[0m \u001b[43m        \u001b[49m\u001b[43mpool\u001b[49m\u001b[38;5;241;43m.\u001b[39;49m\u001b[43mlogger\u001b[49m\u001b[38;5;241;43m.\u001b[39;49m\u001b[43mdebug\u001b[49m\u001b[43m(\u001b[49m\u001b[38;5;124;43m\"\u001b[39;49m\u001b[38;5;124;43mError on connect(): \u001b[39;49m\u001b[38;5;132;43;01m%s\u001b[39;49;00m\u001b[38;5;124;43m\"\u001b[39;49m\u001b[43m,\u001b[49m\u001b[43m \u001b[49m\u001b[43me\u001b[49m\u001b[43m)\u001b[49m\n",
      "File \u001b[1;32mc:\\Users\\dayan\\OneDrive - Universidad Autonoma de Occidente\\ETL\\Projecto 3\\ETL-Project\\project3\\Lib\\site-packages\\sqlalchemy\\util\\langhelpers.py:146\u001b[0m, in \u001b[0;36msafe_reraise.__exit__\u001b[1;34m(self, type_, value, traceback)\u001b[0m\n\u001b[0;32m    145\u001b[0m     \u001b[38;5;28mself\u001b[39m\u001b[38;5;241m.\u001b[39m_exc_info \u001b[38;5;241m=\u001b[39m \u001b[38;5;28;01mNone\u001b[39;00m  \u001b[38;5;66;03m# remove potential circular references\u001b[39;00m\n\u001b[1;32m--> 146\u001b[0m     \u001b[38;5;28;01mraise\u001b[39;00m exc_value\u001b[38;5;241m.\u001b[39mwith_traceback(exc_tb)\n\u001b[0;32m    147\u001b[0m \u001b[38;5;28;01melse\u001b[39;00m:\n",
      "File \u001b[1;32mc:\\Users\\dayan\\OneDrive - Universidad Autonoma de Occidente\\ETL\\Projecto 3\\ETL-Project\\project3\\Lib\\site-packages\\sqlalchemy\\pool\\base.py:896\u001b[0m, in \u001b[0;36m_ConnectionRecord.__connect\u001b[1;34m(self)\u001b[0m\n\u001b[0;32m    895\u001b[0m \u001b[38;5;28mself\u001b[39m\u001b[38;5;241m.\u001b[39mstarttime \u001b[38;5;241m=\u001b[39m time\u001b[38;5;241m.\u001b[39mtime()\n\u001b[1;32m--> 896\u001b[0m \u001b[38;5;28mself\u001b[39m\u001b[38;5;241m.\u001b[39mdbapi_connection \u001b[38;5;241m=\u001b[39m connection \u001b[38;5;241m=\u001b[39m \u001b[43mpool\u001b[49m\u001b[38;5;241;43m.\u001b[39;49m\u001b[43m_invoke_creator\u001b[49m\u001b[43m(\u001b[49m\u001b[38;5;28;43mself\u001b[39;49m\u001b[43m)\u001b[49m\n\u001b[0;32m    897\u001b[0m pool\u001b[38;5;241m.\u001b[39mlogger\u001b[38;5;241m.\u001b[39mdebug(\u001b[38;5;124m\"\u001b[39m\u001b[38;5;124mCreated new connection \u001b[39m\u001b[38;5;132;01m%r\u001b[39;00m\u001b[38;5;124m\"\u001b[39m, connection)\n",
      "File \u001b[1;32mc:\\Users\\dayan\\OneDrive - Universidad Autonoma de Occidente\\ETL\\Projecto 3\\ETL-Project\\project3\\Lib\\site-packages\\sqlalchemy\\engine\\create.py:643\u001b[0m, in \u001b[0;36mcreate_engine.<locals>.connect\u001b[1;34m(connection_record)\u001b[0m\n\u001b[0;32m    641\u001b[0m             \u001b[38;5;28;01mreturn\u001b[39;00m connection\n\u001b[1;32m--> 643\u001b[0m \u001b[38;5;28;01mreturn\u001b[39;00m \u001b[43mdialect\u001b[49m\u001b[38;5;241;43m.\u001b[39;49m\u001b[43mconnect\u001b[49m\u001b[43m(\u001b[49m\u001b[38;5;241;43m*\u001b[39;49m\u001b[43mcargs\u001b[49m\u001b[43m,\u001b[49m\u001b[43m \u001b[49m\u001b[38;5;241;43m*\u001b[39;49m\u001b[38;5;241;43m*\u001b[39;49m\u001b[43mcparams\u001b[49m\u001b[43m)\u001b[49m\n",
      "File \u001b[1;32mc:\\Users\\dayan\\OneDrive - Universidad Autonoma de Occidente\\ETL\\Projecto 3\\ETL-Project\\project3\\Lib\\site-packages\\sqlalchemy\\engine\\default.py:620\u001b[0m, in \u001b[0;36mDefaultDialect.connect\u001b[1;34m(self, *cargs, **cparams)\u001b[0m\n\u001b[0;32m    618\u001b[0m \u001b[38;5;28;01mdef\u001b[39;00m \u001b[38;5;21mconnect\u001b[39m(\u001b[38;5;28mself\u001b[39m, \u001b[38;5;241m*\u001b[39mcargs, \u001b[38;5;241m*\u001b[39m\u001b[38;5;241m*\u001b[39mcparams):\n\u001b[0;32m    619\u001b[0m     \u001b[38;5;66;03m# inherits the docstring from interfaces.Dialect.connect\u001b[39;00m\n\u001b[1;32m--> 620\u001b[0m     \u001b[38;5;28;01mreturn\u001b[39;00m \u001b[38;5;28;43mself\u001b[39;49m\u001b[38;5;241;43m.\u001b[39;49m\u001b[43mloaded_dbapi\u001b[49m\u001b[38;5;241;43m.\u001b[39;49m\u001b[43mconnect\u001b[49m\u001b[43m(\u001b[49m\u001b[38;5;241;43m*\u001b[39;49m\u001b[43mcargs\u001b[49m\u001b[43m,\u001b[49m\u001b[43m \u001b[49m\u001b[38;5;241;43m*\u001b[39;49m\u001b[38;5;241;43m*\u001b[39;49m\u001b[43mcparams\u001b[49m\u001b[43m)\u001b[49m\n",
      "File \u001b[1;32mc:\\Users\\dayan\\OneDrive - Universidad Autonoma de Occidente\\ETL\\Projecto 3\\ETL-Project\\project3\\Lib\\site-packages\\psycopg2\\__init__.py:122\u001b[0m, in \u001b[0;36mconnect\u001b[1;34m(dsn, connection_factory, cursor_factory, **kwargs)\u001b[0m\n\u001b[0;32m    121\u001b[0m dsn \u001b[38;5;241m=\u001b[39m _ext\u001b[38;5;241m.\u001b[39mmake_dsn(dsn, \u001b[38;5;241m*\u001b[39m\u001b[38;5;241m*\u001b[39mkwargs)\n\u001b[1;32m--> 122\u001b[0m conn \u001b[38;5;241m=\u001b[39m \u001b[43m_connect\u001b[49m\u001b[43m(\u001b[49m\u001b[43mdsn\u001b[49m\u001b[43m,\u001b[49m\u001b[43m \u001b[49m\u001b[43mconnection_factory\u001b[49m\u001b[38;5;241;43m=\u001b[39;49m\u001b[43mconnection_factory\u001b[49m\u001b[43m,\u001b[49m\u001b[43m \u001b[49m\u001b[38;5;241;43m*\u001b[39;49m\u001b[38;5;241;43m*\u001b[39;49m\u001b[43mkwasync\u001b[49m\u001b[43m)\u001b[49m\n\u001b[0;32m    123\u001b[0m \u001b[38;5;28;01mif\u001b[39;00m cursor_factory \u001b[38;5;129;01mis\u001b[39;00m \u001b[38;5;129;01mnot\u001b[39;00m \u001b[38;5;28;01mNone\u001b[39;00m:\n",
      "\u001b[1;31mOperationalError\u001b[0m: connection to server at \"host.docker.internal\" (11.11.21.138), port 5432 failed: Connection timed out (0x0000274C/10060)\n\tIs the server running on that host and accepting TCP/IP connections?\n",
      "\nThe above exception was the direct cause of the following exception:\n",
      "\u001b[1;31mOperationalError\u001b[0m                          Traceback (most recent call last)",
      "Cell \u001b[1;32mIn[3], line 9\u001b[0m\n\u001b[0;32m      8\u001b[0m \u001b[38;5;28;01mtry\u001b[39;00m:\n\u001b[1;32m----> 9\u001b[0m     conn \u001b[38;5;241m=\u001b[39m \u001b[43mengine\u001b[49m\u001b[38;5;241;43m.\u001b[39;49m\u001b[43mconnect\u001b[49m\u001b[43m(\u001b[49m\u001b[43m)\u001b[49m\n\u001b[0;32m     10\u001b[0m     \u001b[38;5;28mprint\u001b[39m(\u001b[38;5;124m\"\u001b[39m\u001b[38;5;124mDatabase connection successful.\u001b[39m\u001b[38;5;124m\"\u001b[39m)\n",
      "File \u001b[1;32mc:\\Users\\dayan\\OneDrive - Universidad Autonoma de Occidente\\ETL\\Projecto 3\\ETL-Project\\project3\\Lib\\site-packages\\sqlalchemy\\engine\\base.py:3276\u001b[0m, in \u001b[0;36mEngine.connect\u001b[1;34m(self)\u001b[0m\n\u001b[0;32m   3254\u001b[0m \u001b[38;5;250m\u001b[39m\u001b[38;5;124;03m\"\"\"Return a new :class:`_engine.Connection` object.\u001b[39;00m\n\u001b[0;32m   3255\u001b[0m \n\u001b[0;32m   3256\u001b[0m \u001b[38;5;124;03mThe :class:`_engine.Connection` acts as a Python context manager, so\u001b[39;00m\n\u001b[1;32m   (...)\u001b[0m\n\u001b[0;32m   3273\u001b[0m \n\u001b[0;32m   3274\u001b[0m \u001b[38;5;124;03m\"\"\"\u001b[39;00m\n\u001b[1;32m-> 3276\u001b[0m \u001b[38;5;28;01mreturn\u001b[39;00m \u001b[38;5;28;43mself\u001b[39;49m\u001b[38;5;241;43m.\u001b[39;49m\u001b[43m_connection_cls\u001b[49m\u001b[43m(\u001b[49m\u001b[38;5;28;43mself\u001b[39;49m\u001b[43m)\u001b[49m\n",
      "File \u001b[1;32mc:\\Users\\dayan\\OneDrive - Universidad Autonoma de Occidente\\ETL\\Projecto 3\\ETL-Project\\project3\\Lib\\site-packages\\sqlalchemy\\engine\\base.py:148\u001b[0m, in \u001b[0;36mConnection.__init__\u001b[1;34m(self, engine, connection, _has_events, _allow_revalidate, _allow_autobegin)\u001b[0m\n\u001b[0;32m    147\u001b[0m \u001b[38;5;28;01mexcept\u001b[39;00m dialect\u001b[38;5;241m.\u001b[39mloaded_dbapi\u001b[38;5;241m.\u001b[39mError \u001b[38;5;28;01mas\u001b[39;00m err:\n\u001b[1;32m--> 148\u001b[0m     \u001b[43mConnection\u001b[49m\u001b[38;5;241;43m.\u001b[39;49m\u001b[43m_handle_dbapi_exception_noconnection\u001b[49m\u001b[43m(\u001b[49m\n\u001b[0;32m    149\u001b[0m \u001b[43m        \u001b[49m\u001b[43merr\u001b[49m\u001b[43m,\u001b[49m\u001b[43m \u001b[49m\u001b[43mdialect\u001b[49m\u001b[43m,\u001b[49m\u001b[43m \u001b[49m\u001b[43mengine\u001b[49m\n\u001b[0;32m    150\u001b[0m \u001b[43m    \u001b[49m\u001b[43m)\u001b[49m\n\u001b[0;32m    151\u001b[0m     \u001b[38;5;28;01mraise\u001b[39;00m\n",
      "File \u001b[1;32mc:\\Users\\dayan\\OneDrive - Universidad Autonoma de Occidente\\ETL\\Projecto 3\\ETL-Project\\project3\\Lib\\site-packages\\sqlalchemy\\engine\\base.py:2440\u001b[0m, in \u001b[0;36mConnection._handle_dbapi_exception_noconnection\u001b[1;34m(cls, e, dialect, engine, is_disconnect, invalidate_pool_on_disconnect, is_pre_ping)\u001b[0m\n\u001b[0;32m   2439\u001b[0m     \u001b[38;5;28;01massert\u001b[39;00m sqlalchemy_exception \u001b[38;5;129;01mis\u001b[39;00m \u001b[38;5;129;01mnot\u001b[39;00m \u001b[38;5;28;01mNone\u001b[39;00m\n\u001b[1;32m-> 2440\u001b[0m     \u001b[38;5;28;01mraise\u001b[39;00m sqlalchemy_exception\u001b[38;5;241m.\u001b[39mwith_traceback(exc_info[\u001b[38;5;241m2\u001b[39m]) \u001b[38;5;28;01mfrom\u001b[39;00m \u001b[38;5;21;01me\u001b[39;00m\n\u001b[0;32m   2441\u001b[0m \u001b[38;5;28;01melse\u001b[39;00m:\n",
      "File \u001b[1;32mc:\\Users\\dayan\\OneDrive - Universidad Autonoma de Occidente\\ETL\\Projecto 3\\ETL-Project\\project3\\Lib\\site-packages\\sqlalchemy\\engine\\base.py:146\u001b[0m, in \u001b[0;36mConnection.__init__\u001b[1;34m(self, engine, connection, _has_events, _allow_revalidate, _allow_autobegin)\u001b[0m\n\u001b[0;32m    145\u001b[0m \u001b[38;5;28;01mtry\u001b[39;00m:\n\u001b[1;32m--> 146\u001b[0m     \u001b[38;5;28mself\u001b[39m\u001b[38;5;241m.\u001b[39m_dbapi_connection \u001b[38;5;241m=\u001b[39m \u001b[43mengine\u001b[49m\u001b[38;5;241;43m.\u001b[39;49m\u001b[43mraw_connection\u001b[49m\u001b[43m(\u001b[49m\u001b[43m)\u001b[49m\n\u001b[0;32m    147\u001b[0m \u001b[38;5;28;01mexcept\u001b[39;00m dialect\u001b[38;5;241m.\u001b[39mloaded_dbapi\u001b[38;5;241m.\u001b[39mError \u001b[38;5;28;01mas\u001b[39;00m err:\n",
      "File \u001b[1;32mc:\\Users\\dayan\\OneDrive - Universidad Autonoma de Occidente\\ETL\\Projecto 3\\ETL-Project\\project3\\Lib\\site-packages\\sqlalchemy\\engine\\base.py:3300\u001b[0m, in \u001b[0;36mEngine.raw_connection\u001b[1;34m(self)\u001b[0m\n\u001b[0;32m   3279\u001b[0m \u001b[38;5;250m\u001b[39m\u001b[38;5;124;03m\"\"\"Return a \"raw\" DBAPI connection from the connection pool.\u001b[39;00m\n\u001b[0;32m   3280\u001b[0m \n\u001b[0;32m   3281\u001b[0m \u001b[38;5;124;03mThe returned object is a proxied version of the DBAPI\u001b[39;00m\n\u001b[1;32m   (...)\u001b[0m\n\u001b[0;32m   3298\u001b[0m \n\u001b[0;32m   3299\u001b[0m \u001b[38;5;124;03m\"\"\"\u001b[39;00m\n\u001b[1;32m-> 3300\u001b[0m \u001b[38;5;28;01mreturn\u001b[39;00m \u001b[38;5;28;43mself\u001b[39;49m\u001b[38;5;241;43m.\u001b[39;49m\u001b[43mpool\u001b[49m\u001b[38;5;241;43m.\u001b[39;49m\u001b[43mconnect\u001b[49m\u001b[43m(\u001b[49m\u001b[43m)\u001b[49m\n",
      "File \u001b[1;32mc:\\Users\\dayan\\OneDrive - Universidad Autonoma de Occidente\\ETL\\Projecto 3\\ETL-Project\\project3\\Lib\\site-packages\\sqlalchemy\\pool\\base.py:449\u001b[0m, in \u001b[0;36mPool.connect\u001b[1;34m(self)\u001b[0m\n\u001b[0;32m    442\u001b[0m \u001b[38;5;250m\u001b[39m\u001b[38;5;124;03m\"\"\"Return a DBAPI connection from the pool.\u001b[39;00m\n\u001b[0;32m    443\u001b[0m \n\u001b[0;32m    444\u001b[0m \u001b[38;5;124;03mThe connection is instrumented such that when its\u001b[39;00m\n\u001b[1;32m   (...)\u001b[0m\n\u001b[0;32m    447\u001b[0m \n\u001b[0;32m    448\u001b[0m \u001b[38;5;124;03m\"\"\"\u001b[39;00m\n\u001b[1;32m--> 449\u001b[0m \u001b[38;5;28;01mreturn\u001b[39;00m \u001b[43m_ConnectionFairy\u001b[49m\u001b[38;5;241;43m.\u001b[39;49m\u001b[43m_checkout\u001b[49m\u001b[43m(\u001b[49m\u001b[38;5;28;43mself\u001b[39;49m\u001b[43m)\u001b[49m\n",
      "File \u001b[1;32mc:\\Users\\dayan\\OneDrive - Universidad Autonoma de Occidente\\ETL\\Projecto 3\\ETL-Project\\project3\\Lib\\site-packages\\sqlalchemy\\pool\\base.py:1263\u001b[0m, in \u001b[0;36m_ConnectionFairy._checkout\u001b[1;34m(cls, pool, threadconns, fairy)\u001b[0m\n\u001b[0;32m   1262\u001b[0m \u001b[38;5;28;01mif\u001b[39;00m \u001b[38;5;129;01mnot\u001b[39;00m fairy:\n\u001b[1;32m-> 1263\u001b[0m     fairy \u001b[38;5;241m=\u001b[39m \u001b[43m_ConnectionRecord\u001b[49m\u001b[38;5;241;43m.\u001b[39;49m\u001b[43mcheckout\u001b[49m\u001b[43m(\u001b[49m\u001b[43mpool\u001b[49m\u001b[43m)\u001b[49m\n\u001b[0;32m   1265\u001b[0m     \u001b[38;5;28;01mif\u001b[39;00m threadconns \u001b[38;5;129;01mis\u001b[39;00m \u001b[38;5;129;01mnot\u001b[39;00m \u001b[38;5;28;01mNone\u001b[39;00m:\n",
      "File \u001b[1;32mc:\\Users\\dayan\\OneDrive - Universidad Autonoma de Occidente\\ETL\\Projecto 3\\ETL-Project\\project3\\Lib\\site-packages\\sqlalchemy\\pool\\base.py:712\u001b[0m, in \u001b[0;36m_ConnectionRecord.checkout\u001b[1;34m(cls, pool)\u001b[0m\n\u001b[0;32m    711\u001b[0m \u001b[38;5;28;01melse\u001b[39;00m:\n\u001b[1;32m--> 712\u001b[0m     rec \u001b[38;5;241m=\u001b[39m \u001b[43mpool\u001b[49m\u001b[38;5;241;43m.\u001b[39;49m\u001b[43m_do_get\u001b[49m\u001b[43m(\u001b[49m\u001b[43m)\u001b[49m\n\u001b[0;32m    714\u001b[0m \u001b[38;5;28;01mtry\u001b[39;00m:\n",
      "File \u001b[1;32mc:\\Users\\dayan\\OneDrive - Universidad Autonoma de Occidente\\ETL\\Projecto 3\\ETL-Project\\project3\\Lib\\site-packages\\sqlalchemy\\pool\\impl.py:179\u001b[0m, in \u001b[0;36mQueuePool._do_get\u001b[1;34m(self)\u001b[0m\n\u001b[0;32m    178\u001b[0m \u001b[38;5;28;01mexcept\u001b[39;00m:\n\u001b[1;32m--> 179\u001b[0m \u001b[43m    \u001b[49m\u001b[38;5;28;43;01mwith\u001b[39;49;00m\u001b[43m \u001b[49m\u001b[43mutil\u001b[49m\u001b[38;5;241;43m.\u001b[39;49m\u001b[43msafe_reraise\u001b[49m\u001b[43m(\u001b[49m\u001b[43m)\u001b[49m\u001b[43m:\u001b[49m\n\u001b[0;32m    180\u001b[0m \u001b[43m        \u001b[49m\u001b[38;5;28;43mself\u001b[39;49m\u001b[38;5;241;43m.\u001b[39;49m\u001b[43m_dec_overflow\u001b[49m\u001b[43m(\u001b[49m\u001b[43m)\u001b[49m\n",
      "File \u001b[1;32mc:\\Users\\dayan\\OneDrive - Universidad Autonoma de Occidente\\ETL\\Projecto 3\\ETL-Project\\project3\\Lib\\site-packages\\sqlalchemy\\util\\langhelpers.py:146\u001b[0m, in \u001b[0;36msafe_reraise.__exit__\u001b[1;34m(self, type_, value, traceback)\u001b[0m\n\u001b[0;32m    145\u001b[0m     \u001b[38;5;28mself\u001b[39m\u001b[38;5;241m.\u001b[39m_exc_info \u001b[38;5;241m=\u001b[39m \u001b[38;5;28;01mNone\u001b[39;00m  \u001b[38;5;66;03m# remove potential circular references\u001b[39;00m\n\u001b[1;32m--> 146\u001b[0m     \u001b[38;5;28;01mraise\u001b[39;00m exc_value\u001b[38;5;241m.\u001b[39mwith_traceback(exc_tb)\n\u001b[0;32m    147\u001b[0m \u001b[38;5;28;01melse\u001b[39;00m:\n",
      "File \u001b[1;32mc:\\Users\\dayan\\OneDrive - Universidad Autonoma de Occidente\\ETL\\Projecto 3\\ETL-Project\\project3\\Lib\\site-packages\\sqlalchemy\\pool\\impl.py:177\u001b[0m, in \u001b[0;36mQueuePool._do_get\u001b[1;34m(self)\u001b[0m\n\u001b[0;32m    176\u001b[0m \u001b[38;5;28;01mtry\u001b[39;00m:\n\u001b[1;32m--> 177\u001b[0m     \u001b[38;5;28;01mreturn\u001b[39;00m \u001b[38;5;28;43mself\u001b[39;49m\u001b[38;5;241;43m.\u001b[39;49m\u001b[43m_create_connection\u001b[49m\u001b[43m(\u001b[49m\u001b[43m)\u001b[49m\n\u001b[0;32m    178\u001b[0m \u001b[38;5;28;01mexcept\u001b[39;00m:\n",
      "File \u001b[1;32mc:\\Users\\dayan\\OneDrive - Universidad Autonoma de Occidente\\ETL\\Projecto 3\\ETL-Project\\project3\\Lib\\site-packages\\sqlalchemy\\pool\\base.py:390\u001b[0m, in \u001b[0;36mPool._create_connection\u001b[1;34m(self)\u001b[0m\n\u001b[0;32m    388\u001b[0m \u001b[38;5;250m\u001b[39m\u001b[38;5;124;03m\"\"\"Called by subclasses to create a new ConnectionRecord.\"\"\"\u001b[39;00m\n\u001b[1;32m--> 390\u001b[0m \u001b[38;5;28;01mreturn\u001b[39;00m \u001b[43m_ConnectionRecord\u001b[49m\u001b[43m(\u001b[49m\u001b[38;5;28;43mself\u001b[39;49m\u001b[43m)\u001b[49m\n",
      "File \u001b[1;32mc:\\Users\\dayan\\OneDrive - Universidad Autonoma de Occidente\\ETL\\Projecto 3\\ETL-Project\\project3\\Lib\\site-packages\\sqlalchemy\\pool\\base.py:674\u001b[0m, in \u001b[0;36m_ConnectionRecord.__init__\u001b[1;34m(self, pool, connect)\u001b[0m\n\u001b[0;32m    673\u001b[0m \u001b[38;5;28;01mif\u001b[39;00m connect:\n\u001b[1;32m--> 674\u001b[0m     \u001b[38;5;28;43mself\u001b[39;49m\u001b[38;5;241;43m.\u001b[39;49m\u001b[43m__connect\u001b[49m\u001b[43m(\u001b[49m\u001b[43m)\u001b[49m\n\u001b[0;32m    675\u001b[0m \u001b[38;5;28mself\u001b[39m\u001b[38;5;241m.\u001b[39mfinalize_callback \u001b[38;5;241m=\u001b[39m deque()\n",
      "File \u001b[1;32mc:\\Users\\dayan\\OneDrive - Universidad Autonoma de Occidente\\ETL\\Projecto 3\\ETL-Project\\project3\\Lib\\site-packages\\sqlalchemy\\pool\\base.py:900\u001b[0m, in \u001b[0;36m_ConnectionRecord.__connect\u001b[1;34m(self)\u001b[0m\n\u001b[0;32m    899\u001b[0m \u001b[38;5;28;01mexcept\u001b[39;00m \u001b[38;5;167;01mBaseException\u001b[39;00m \u001b[38;5;28;01mas\u001b[39;00m e:\n\u001b[1;32m--> 900\u001b[0m \u001b[43m    \u001b[49m\u001b[38;5;28;43;01mwith\u001b[39;49;00m\u001b[43m \u001b[49m\u001b[43mutil\u001b[49m\u001b[38;5;241;43m.\u001b[39;49m\u001b[43msafe_reraise\u001b[49m\u001b[43m(\u001b[49m\u001b[43m)\u001b[49m\u001b[43m:\u001b[49m\n\u001b[0;32m    901\u001b[0m \u001b[43m        \u001b[49m\u001b[43mpool\u001b[49m\u001b[38;5;241;43m.\u001b[39;49m\u001b[43mlogger\u001b[49m\u001b[38;5;241;43m.\u001b[39;49m\u001b[43mdebug\u001b[49m\u001b[43m(\u001b[49m\u001b[38;5;124;43m\"\u001b[39;49m\u001b[38;5;124;43mError on connect(): \u001b[39;49m\u001b[38;5;132;43;01m%s\u001b[39;49;00m\u001b[38;5;124;43m\"\u001b[39;49m\u001b[43m,\u001b[49m\u001b[43m \u001b[49m\u001b[43me\u001b[49m\u001b[43m)\u001b[49m\n",
      "File \u001b[1;32mc:\\Users\\dayan\\OneDrive - Universidad Autonoma de Occidente\\ETL\\Projecto 3\\ETL-Project\\project3\\Lib\\site-packages\\sqlalchemy\\util\\langhelpers.py:146\u001b[0m, in \u001b[0;36msafe_reraise.__exit__\u001b[1;34m(self, type_, value, traceback)\u001b[0m\n\u001b[0;32m    145\u001b[0m     \u001b[38;5;28mself\u001b[39m\u001b[38;5;241m.\u001b[39m_exc_info \u001b[38;5;241m=\u001b[39m \u001b[38;5;28;01mNone\u001b[39;00m  \u001b[38;5;66;03m# remove potential circular references\u001b[39;00m\n\u001b[1;32m--> 146\u001b[0m     \u001b[38;5;28;01mraise\u001b[39;00m exc_value\u001b[38;5;241m.\u001b[39mwith_traceback(exc_tb)\n\u001b[0;32m    147\u001b[0m \u001b[38;5;28;01melse\u001b[39;00m:\n",
      "File \u001b[1;32mc:\\Users\\dayan\\OneDrive - Universidad Autonoma de Occidente\\ETL\\Projecto 3\\ETL-Project\\project3\\Lib\\site-packages\\sqlalchemy\\pool\\base.py:896\u001b[0m, in \u001b[0;36m_ConnectionRecord.__connect\u001b[1;34m(self)\u001b[0m\n\u001b[0;32m    895\u001b[0m \u001b[38;5;28mself\u001b[39m\u001b[38;5;241m.\u001b[39mstarttime \u001b[38;5;241m=\u001b[39m time\u001b[38;5;241m.\u001b[39mtime()\n\u001b[1;32m--> 896\u001b[0m \u001b[38;5;28mself\u001b[39m\u001b[38;5;241m.\u001b[39mdbapi_connection \u001b[38;5;241m=\u001b[39m connection \u001b[38;5;241m=\u001b[39m \u001b[43mpool\u001b[49m\u001b[38;5;241;43m.\u001b[39;49m\u001b[43m_invoke_creator\u001b[49m\u001b[43m(\u001b[49m\u001b[38;5;28;43mself\u001b[39;49m\u001b[43m)\u001b[49m\n\u001b[0;32m    897\u001b[0m pool\u001b[38;5;241m.\u001b[39mlogger\u001b[38;5;241m.\u001b[39mdebug(\u001b[38;5;124m\"\u001b[39m\u001b[38;5;124mCreated new connection \u001b[39m\u001b[38;5;132;01m%r\u001b[39;00m\u001b[38;5;124m\"\u001b[39m, connection)\n",
      "File \u001b[1;32mc:\\Users\\dayan\\OneDrive - Universidad Autonoma de Occidente\\ETL\\Projecto 3\\ETL-Project\\project3\\Lib\\site-packages\\sqlalchemy\\engine\\create.py:643\u001b[0m, in \u001b[0;36mcreate_engine.<locals>.connect\u001b[1;34m(connection_record)\u001b[0m\n\u001b[0;32m    641\u001b[0m             \u001b[38;5;28;01mreturn\u001b[39;00m connection\n\u001b[1;32m--> 643\u001b[0m \u001b[38;5;28;01mreturn\u001b[39;00m \u001b[43mdialect\u001b[49m\u001b[38;5;241;43m.\u001b[39;49m\u001b[43mconnect\u001b[49m\u001b[43m(\u001b[49m\u001b[38;5;241;43m*\u001b[39;49m\u001b[43mcargs\u001b[49m\u001b[43m,\u001b[49m\u001b[43m \u001b[49m\u001b[38;5;241;43m*\u001b[39;49m\u001b[38;5;241;43m*\u001b[39;49m\u001b[43mcparams\u001b[49m\u001b[43m)\u001b[49m\n",
      "File \u001b[1;32mc:\\Users\\dayan\\OneDrive - Universidad Autonoma de Occidente\\ETL\\Projecto 3\\ETL-Project\\project3\\Lib\\site-packages\\sqlalchemy\\engine\\default.py:620\u001b[0m, in \u001b[0;36mDefaultDialect.connect\u001b[1;34m(self, *cargs, **cparams)\u001b[0m\n\u001b[0;32m    618\u001b[0m \u001b[38;5;28;01mdef\u001b[39;00m \u001b[38;5;21mconnect\u001b[39m(\u001b[38;5;28mself\u001b[39m, \u001b[38;5;241m*\u001b[39mcargs, \u001b[38;5;241m*\u001b[39m\u001b[38;5;241m*\u001b[39mcparams):\n\u001b[0;32m    619\u001b[0m     \u001b[38;5;66;03m# inherits the docstring from interfaces.Dialect.connect\u001b[39;00m\n\u001b[1;32m--> 620\u001b[0m     \u001b[38;5;28;01mreturn\u001b[39;00m \u001b[38;5;28;43mself\u001b[39;49m\u001b[38;5;241;43m.\u001b[39;49m\u001b[43mloaded_dbapi\u001b[49m\u001b[38;5;241;43m.\u001b[39;49m\u001b[43mconnect\u001b[49m\u001b[43m(\u001b[49m\u001b[38;5;241;43m*\u001b[39;49m\u001b[43mcargs\u001b[49m\u001b[43m,\u001b[49m\u001b[43m \u001b[49m\u001b[38;5;241;43m*\u001b[39;49m\u001b[38;5;241;43m*\u001b[39;49m\u001b[43mcparams\u001b[49m\u001b[43m)\u001b[49m\n",
      "File \u001b[1;32mc:\\Users\\dayan\\OneDrive - Universidad Autonoma de Occidente\\ETL\\Projecto 3\\ETL-Project\\project3\\Lib\\site-packages\\psycopg2\\__init__.py:122\u001b[0m, in \u001b[0;36mconnect\u001b[1;34m(dsn, connection_factory, cursor_factory, **kwargs)\u001b[0m\n\u001b[0;32m    121\u001b[0m dsn \u001b[38;5;241m=\u001b[39m _ext\u001b[38;5;241m.\u001b[39mmake_dsn(dsn, \u001b[38;5;241m*\u001b[39m\u001b[38;5;241m*\u001b[39mkwargs)\n\u001b[1;32m--> 122\u001b[0m conn \u001b[38;5;241m=\u001b[39m \u001b[43m_connect\u001b[49m\u001b[43m(\u001b[49m\u001b[43mdsn\u001b[49m\u001b[43m,\u001b[49m\u001b[43m \u001b[49m\u001b[43mconnection_factory\u001b[49m\u001b[38;5;241;43m=\u001b[39;49m\u001b[43mconnection_factory\u001b[49m\u001b[43m,\u001b[49m\u001b[43m \u001b[49m\u001b[38;5;241;43m*\u001b[39;49m\u001b[38;5;241;43m*\u001b[39;49m\u001b[43mkwasync\u001b[49m\u001b[43m)\u001b[49m\n\u001b[0;32m    123\u001b[0m \u001b[38;5;28;01mif\u001b[39;00m cursor_factory \u001b[38;5;129;01mis\u001b[39;00m \u001b[38;5;129;01mnot\u001b[39;00m \u001b[38;5;28;01mNone\u001b[39;00m:\n",
      "\u001b[1;31mOperationalError\u001b[0m: (psycopg2.OperationalError) connection to server at \"host.docker.internal\" (11.11.21.138), port 5432 failed: Connection timed out (0x0000274C/10060)\n\tIs the server running on that host and accepting TCP/IP connections?\n\n(Background on this error at: https://sqlalche.me/e/20/e3q8)",
      "\nDuring handling of the above exception, another exception occurred:\n",
      "\u001b[1;31mSystemExit\u001b[0m                                Traceback (most recent call last)",
      "    \u001b[1;31m[... skipping hidden 1 frame]\u001b[0m\n",
      "Cell \u001b[1;32mIn[3], line 13\u001b[0m\n\u001b[0;32m     12\u001b[0m \u001b[38;5;28mprint\u001b[39m(\u001b[38;5;124m\"\u001b[39m\u001b[38;5;124mDatabase connection failed:\u001b[39m\u001b[38;5;124m\"\u001b[39m, e)\n\u001b[1;32m---> 13\u001b[0m \u001b[43msys\u001b[49m\u001b[38;5;241;43m.\u001b[39;49m\u001b[43mexit\u001b[49m\u001b[43m(\u001b[49m\u001b[38;5;241;43m1\u001b[39;49m\u001b[43m)\u001b[49m\n",
      "\u001b[1;31mSystemExit\u001b[0m: 1",
      "\nDuring handling of the above exception, another exception occurred:\n",
      "\u001b[1;31mAttributeError\u001b[0m                            Traceback (most recent call last)",
      "    \u001b[1;31m[... skipping hidden 1 frame]\u001b[0m\n",
      "File \u001b[1;32mc:\\Users\\dayan\\OneDrive - Universidad Autonoma de Occidente\\ETL\\Projecto 3\\ETL-Project\\project3\\Lib\\site-packages\\IPython\\core\\interactiveshell.py:2145\u001b[0m, in \u001b[0;36mInteractiveShell.showtraceback\u001b[1;34m(self, exc_tuple, filename, tb_offset, exception_only, running_compiled_code)\u001b[0m\n\u001b[0;32m   2142\u001b[0m \u001b[38;5;28;01mif\u001b[39;00m exception_only:\n\u001b[0;32m   2143\u001b[0m     stb \u001b[38;5;241m=\u001b[39m [\u001b[38;5;124m'\u001b[39m\u001b[38;5;124mAn exception has occurred, use \u001b[39m\u001b[38;5;124m%\u001b[39m\u001b[38;5;124mtb to see \u001b[39m\u001b[38;5;124m'\u001b[39m\n\u001b[0;32m   2144\u001b[0m            \u001b[38;5;124m'\u001b[39m\u001b[38;5;124mthe full traceback.\u001b[39m\u001b[38;5;130;01m\\n\u001b[39;00m\u001b[38;5;124m'\u001b[39m]\n\u001b[1;32m-> 2145\u001b[0m     stb\u001b[38;5;241m.\u001b[39mextend(\u001b[38;5;28;43mself\u001b[39;49m\u001b[38;5;241;43m.\u001b[39;49m\u001b[43mInteractiveTB\u001b[49m\u001b[38;5;241;43m.\u001b[39;49m\u001b[43mget_exception_only\u001b[49m\u001b[43m(\u001b[49m\u001b[43metype\u001b[49m\u001b[43m,\u001b[49m\n\u001b[0;32m   2146\u001b[0m \u001b[43m                                                     \u001b[49m\u001b[43mvalue\u001b[49m\u001b[43m)\u001b[49m)\n\u001b[0;32m   2147\u001b[0m \u001b[38;5;28;01melse\u001b[39;00m:\n\u001b[0;32m   2149\u001b[0m     \u001b[38;5;28;01mdef\u001b[39;00m \u001b[38;5;21mcontains_exceptiongroup\u001b[39m(val):\n",
      "File \u001b[1;32mc:\\Users\\dayan\\OneDrive - Universidad Autonoma de Occidente\\ETL\\Projecto 3\\ETL-Project\\project3\\Lib\\site-packages\\IPython\\core\\ultratb.py:710\u001b[0m, in \u001b[0;36mListTB.get_exception_only\u001b[1;34m(self, etype, value)\u001b[0m\n\u001b[0;32m    702\u001b[0m \u001b[38;5;28;01mdef\u001b[39;00m \u001b[38;5;21mget_exception_only\u001b[39m(\u001b[38;5;28mself\u001b[39m, etype, value):\n\u001b[0;32m    703\u001b[0m \u001b[38;5;250m    \u001b[39m\u001b[38;5;124;03m\"\"\"Only print the exception type and message, without a traceback.\u001b[39;00m\n\u001b[0;32m    704\u001b[0m \n\u001b[0;32m    705\u001b[0m \u001b[38;5;124;03m    Parameters\u001b[39;00m\n\u001b[1;32m   (...)\u001b[0m\n\u001b[0;32m    708\u001b[0m \u001b[38;5;124;03m    value : exception value\u001b[39;00m\n\u001b[0;32m    709\u001b[0m \u001b[38;5;124;03m    \"\"\"\u001b[39;00m\n\u001b[1;32m--> 710\u001b[0m     \u001b[38;5;28;01mreturn\u001b[39;00m \u001b[43mListTB\u001b[49m\u001b[38;5;241;43m.\u001b[39;49m\u001b[43mstructured_traceback\u001b[49m\u001b[43m(\u001b[49m\u001b[38;5;28;43mself\u001b[39;49m\u001b[43m,\u001b[49m\u001b[43m \u001b[49m\u001b[43metype\u001b[49m\u001b[43m,\u001b[49m\u001b[43m \u001b[49m\u001b[43mvalue\u001b[49m\u001b[43m)\u001b[49m\n",
      "File \u001b[1;32mc:\\Users\\dayan\\OneDrive - Universidad Autonoma de Occidente\\ETL\\Projecto 3\\ETL-Project\\project3\\Lib\\site-packages\\IPython\\core\\ultratb.py:568\u001b[0m, in \u001b[0;36mListTB.structured_traceback\u001b[1;34m(self, etype, evalue, etb, tb_offset, context)\u001b[0m\n\u001b[0;32m    565\u001b[0m     chained_exc_ids\u001b[38;5;241m.\u001b[39madd(\u001b[38;5;28mid\u001b[39m(exception[\u001b[38;5;241m1\u001b[39m]))\n\u001b[0;32m    566\u001b[0m     chained_exceptions_tb_offset \u001b[38;5;241m=\u001b[39m \u001b[38;5;241m0\u001b[39m\n\u001b[0;32m    567\u001b[0m     out_list \u001b[38;5;241m=\u001b[39m (\n\u001b[1;32m--> 568\u001b[0m         \u001b[38;5;28;43mself\u001b[39;49m\u001b[38;5;241;43m.\u001b[39;49m\u001b[43mstructured_traceback\u001b[49m\u001b[43m(\u001b[49m\n\u001b[0;32m    569\u001b[0m \u001b[43m            \u001b[49m\u001b[43metype\u001b[49m\u001b[43m,\u001b[49m\n\u001b[0;32m    570\u001b[0m \u001b[43m            \u001b[49m\u001b[43mevalue\u001b[49m\u001b[43m,\u001b[49m\n\u001b[0;32m    571\u001b[0m \u001b[43m            \u001b[49m\u001b[43m(\u001b[49m\u001b[43metb\u001b[49m\u001b[43m,\u001b[49m\u001b[43m \u001b[49m\u001b[43mchained_exc_ids\u001b[49m\u001b[43m)\u001b[49m\u001b[43m,\u001b[49m\u001b[43m  \u001b[49m\u001b[38;5;66;43;03m# type: ignore\u001b[39;49;00m\n\u001b[0;32m    572\u001b[0m \u001b[43m            \u001b[49m\u001b[43mchained_exceptions_tb_offset\u001b[49m\u001b[43m,\u001b[49m\n\u001b[0;32m    573\u001b[0m \u001b[43m            \u001b[49m\u001b[43mcontext\u001b[49m\u001b[43m,\u001b[49m\n\u001b[0;32m    574\u001b[0m \u001b[43m        \u001b[49m\u001b[43m)\u001b[49m\n\u001b[0;32m    575\u001b[0m         \u001b[38;5;241m+\u001b[39m chained_exception_message\n\u001b[0;32m    576\u001b[0m         \u001b[38;5;241m+\u001b[39m out_list)\n\u001b[0;32m    578\u001b[0m \u001b[38;5;28;01mreturn\u001b[39;00m out_list\n",
      "File \u001b[1;32mc:\\Users\\dayan\\OneDrive - Universidad Autonoma de Occidente\\ETL\\Projecto 3\\ETL-Project\\project3\\Lib\\site-packages\\IPython\\core\\ultratb.py:1454\u001b[0m, in \u001b[0;36mAutoFormattedTB.structured_traceback\u001b[1;34m(self, etype, evalue, etb, tb_offset, number_of_lines_of_context)\u001b[0m\n\u001b[0;32m   1452\u001b[0m \u001b[38;5;28;01melse\u001b[39;00m:\n\u001b[0;32m   1453\u001b[0m     \u001b[38;5;28mself\u001b[39m\u001b[38;5;241m.\u001b[39mtb \u001b[38;5;241m=\u001b[39m etb\n\u001b[1;32m-> 1454\u001b[0m \u001b[38;5;28;01mreturn\u001b[39;00m \u001b[43mFormattedTB\u001b[49m\u001b[38;5;241;43m.\u001b[39;49m\u001b[43mstructured_traceback\u001b[49m\u001b[43m(\u001b[49m\n\u001b[0;32m   1455\u001b[0m \u001b[43m    \u001b[49m\u001b[38;5;28;43mself\u001b[39;49m\u001b[43m,\u001b[49m\u001b[43m \u001b[49m\u001b[43metype\u001b[49m\u001b[43m,\u001b[49m\u001b[43m \u001b[49m\u001b[43mevalue\u001b[49m\u001b[43m,\u001b[49m\u001b[43m \u001b[49m\u001b[43metb\u001b[49m\u001b[43m,\u001b[49m\u001b[43m \u001b[49m\u001b[43mtb_offset\u001b[49m\u001b[43m,\u001b[49m\u001b[43m \u001b[49m\u001b[43mnumber_of_lines_of_context\u001b[49m\n\u001b[0;32m   1456\u001b[0m \u001b[43m\u001b[49m\u001b[43m)\u001b[49m\n",
      "File \u001b[1;32mc:\\Users\\dayan\\OneDrive - Universidad Autonoma de Occidente\\ETL\\Projecto 3\\ETL-Project\\project3\\Lib\\site-packages\\IPython\\core\\ultratb.py:1345\u001b[0m, in \u001b[0;36mFormattedTB.structured_traceback\u001b[1;34m(self, etype, value, tb, tb_offset, number_of_lines_of_context)\u001b[0m\n\u001b[0;32m   1342\u001b[0m mode \u001b[38;5;241m=\u001b[39m \u001b[38;5;28mself\u001b[39m\u001b[38;5;241m.\u001b[39mmode\n\u001b[0;32m   1343\u001b[0m \u001b[38;5;28;01mif\u001b[39;00m mode \u001b[38;5;129;01min\u001b[39;00m \u001b[38;5;28mself\u001b[39m\u001b[38;5;241m.\u001b[39mverbose_modes:\n\u001b[0;32m   1344\u001b[0m     \u001b[38;5;66;03m# Verbose modes need a full traceback\u001b[39;00m\n\u001b[1;32m-> 1345\u001b[0m     \u001b[38;5;28;01mreturn\u001b[39;00m \u001b[43mVerboseTB\u001b[49m\u001b[38;5;241;43m.\u001b[39;49m\u001b[43mstructured_traceback\u001b[49m\u001b[43m(\u001b[49m\n\u001b[0;32m   1346\u001b[0m \u001b[43m        \u001b[49m\u001b[38;5;28;43mself\u001b[39;49m\u001b[43m,\u001b[49m\u001b[43m \u001b[49m\u001b[43metype\u001b[49m\u001b[43m,\u001b[49m\u001b[43m \u001b[49m\u001b[43mvalue\u001b[49m\u001b[43m,\u001b[49m\u001b[43m \u001b[49m\u001b[43mtb\u001b[49m\u001b[43m,\u001b[49m\u001b[43m \u001b[49m\u001b[43mtb_offset\u001b[49m\u001b[43m,\u001b[49m\u001b[43m \u001b[49m\u001b[43mnumber_of_lines_of_context\u001b[49m\n\u001b[0;32m   1347\u001b[0m \u001b[43m    \u001b[49m\u001b[43m)\u001b[49m\n\u001b[0;32m   1348\u001b[0m \u001b[38;5;28;01melif\u001b[39;00m mode \u001b[38;5;241m==\u001b[39m \u001b[38;5;124m'\u001b[39m\u001b[38;5;124mMinimal\u001b[39m\u001b[38;5;124m'\u001b[39m:\n\u001b[0;32m   1349\u001b[0m     \u001b[38;5;28;01mreturn\u001b[39;00m ListTB\u001b[38;5;241m.\u001b[39mget_exception_only(\u001b[38;5;28mself\u001b[39m, etype, value)\n",
      "File \u001b[1;32mc:\\Users\\dayan\\OneDrive - Universidad Autonoma de Occidente\\ETL\\Projecto 3\\ETL-Project\\project3\\Lib\\site-packages\\IPython\\core\\ultratb.py:1192\u001b[0m, in \u001b[0;36mVerboseTB.structured_traceback\u001b[1;34m(self, etype, evalue, etb, tb_offset, number_of_lines_of_context)\u001b[0m\n\u001b[0;32m   1183\u001b[0m \u001b[38;5;28;01mdef\u001b[39;00m \u001b[38;5;21mstructured_traceback\u001b[39m(\n\u001b[0;32m   1184\u001b[0m     \u001b[38;5;28mself\u001b[39m,\n\u001b[0;32m   1185\u001b[0m     etype: \u001b[38;5;28mtype\u001b[39m,\n\u001b[1;32m   (...)\u001b[0m\n\u001b[0;32m   1189\u001b[0m     number_of_lines_of_context: \u001b[38;5;28mint\u001b[39m \u001b[38;5;241m=\u001b[39m \u001b[38;5;241m5\u001b[39m,\n\u001b[0;32m   1190\u001b[0m ):\n\u001b[0;32m   1191\u001b[0m \u001b[38;5;250m    \u001b[39m\u001b[38;5;124;03m\"\"\"Return a nice text document describing the traceback.\"\"\"\u001b[39;00m\n\u001b[1;32m-> 1192\u001b[0m     formatted_exception \u001b[38;5;241m=\u001b[39m \u001b[38;5;28;43mself\u001b[39;49m\u001b[38;5;241;43m.\u001b[39;49m\u001b[43mformat_exception_as_a_whole\u001b[49m\u001b[43m(\u001b[49m\u001b[43metype\u001b[49m\u001b[43m,\u001b[49m\u001b[43m \u001b[49m\u001b[43mevalue\u001b[49m\u001b[43m,\u001b[49m\u001b[43m \u001b[49m\u001b[43metb\u001b[49m\u001b[43m,\u001b[49m\u001b[43m \u001b[49m\u001b[43mnumber_of_lines_of_context\u001b[49m\u001b[43m,\u001b[49m\n\u001b[0;32m   1193\u001b[0m \u001b[43m                                                           \u001b[49m\u001b[43mtb_offset\u001b[49m\u001b[43m)\u001b[49m\n\u001b[0;32m   1195\u001b[0m     colors \u001b[38;5;241m=\u001b[39m \u001b[38;5;28mself\u001b[39m\u001b[38;5;241m.\u001b[39mColors  \u001b[38;5;66;03m# just a shorthand + quicker name lookup\u001b[39;00m\n\u001b[0;32m   1196\u001b[0m     colorsnormal \u001b[38;5;241m=\u001b[39m colors\u001b[38;5;241m.\u001b[39mNormal  \u001b[38;5;66;03m# used a lot\u001b[39;00m\n",
      "File \u001b[1;32mc:\\Users\\dayan\\OneDrive - Universidad Autonoma de Occidente\\ETL\\Projecto 3\\ETL-Project\\project3\\Lib\\site-packages\\IPython\\core\\ultratb.py:1082\u001b[0m, in \u001b[0;36mVerboseTB.format_exception_as_a_whole\u001b[1;34m(self, etype, evalue, etb, number_of_lines_of_context, tb_offset)\u001b[0m\n\u001b[0;32m   1079\u001b[0m \u001b[38;5;28;01massert\u001b[39;00m \u001b[38;5;28misinstance\u001b[39m(tb_offset, \u001b[38;5;28mint\u001b[39m)\n\u001b[0;32m   1080\u001b[0m head \u001b[38;5;241m=\u001b[39m \u001b[38;5;28mself\u001b[39m\u001b[38;5;241m.\u001b[39mprepare_header(\u001b[38;5;28mstr\u001b[39m(etype), \u001b[38;5;28mself\u001b[39m\u001b[38;5;241m.\u001b[39mlong_header)\n\u001b[0;32m   1081\u001b[0m records \u001b[38;5;241m=\u001b[39m (\n\u001b[1;32m-> 1082\u001b[0m     \u001b[38;5;28;43mself\u001b[39;49m\u001b[38;5;241;43m.\u001b[39;49m\u001b[43mget_records\u001b[49m\u001b[43m(\u001b[49m\u001b[43metb\u001b[49m\u001b[43m,\u001b[49m\u001b[43m \u001b[49m\u001b[43mnumber_of_lines_of_context\u001b[49m\u001b[43m,\u001b[49m\u001b[43m \u001b[49m\u001b[43mtb_offset\u001b[49m\u001b[43m)\u001b[49m \u001b[38;5;28;01mif\u001b[39;00m etb \u001b[38;5;28;01melse\u001b[39;00m []\n\u001b[0;32m   1083\u001b[0m )\n\u001b[0;32m   1085\u001b[0m frames \u001b[38;5;241m=\u001b[39m []\n\u001b[0;32m   1086\u001b[0m skipped \u001b[38;5;241m=\u001b[39m \u001b[38;5;241m0\u001b[39m\n",
      "File \u001b[1;32mc:\\Users\\dayan\\OneDrive - Universidad Autonoma de Occidente\\ETL\\Projecto 3\\ETL-Project\\project3\\Lib\\site-packages\\IPython\\core\\ultratb.py:1150\u001b[0m, in \u001b[0;36mVerboseTB.get_records\u001b[1;34m(self, etb, number_of_lines_of_context, tb_offset)\u001b[0m\n\u001b[0;32m   1148\u001b[0m \u001b[38;5;28;01mwhile\u001b[39;00m cf \u001b[38;5;129;01mis\u001b[39;00m \u001b[38;5;129;01mnot\u001b[39;00m \u001b[38;5;28;01mNone\u001b[39;00m:\n\u001b[0;32m   1149\u001b[0m     \u001b[38;5;28;01mtry\u001b[39;00m:\n\u001b[1;32m-> 1150\u001b[0m         mod \u001b[38;5;241m=\u001b[39m inspect\u001b[38;5;241m.\u001b[39mgetmodule(\u001b[43mcf\u001b[49m\u001b[38;5;241;43m.\u001b[39;49m\u001b[43mtb_frame\u001b[49m)\n\u001b[0;32m   1151\u001b[0m         \u001b[38;5;28;01mif\u001b[39;00m mod \u001b[38;5;129;01mis\u001b[39;00m \u001b[38;5;129;01mnot\u001b[39;00m \u001b[38;5;28;01mNone\u001b[39;00m:\n\u001b[0;32m   1152\u001b[0m             mod_name \u001b[38;5;241m=\u001b[39m mod\u001b[38;5;241m.\u001b[39m\u001b[38;5;18m__name__\u001b[39m\n",
      "\u001b[1;31mAttributeError\u001b[0m: 'tuple' object has no attribute 'tb_frame'"
     ]
    }
   ],
   "source": [
    "sys.path.append('../config/')\n",
    "from dbconfig import configuration\n",
    "\n",
    "config = configuration('../config/database.ini')\n",
    "db_url = f\"postgresql+psycopg2://{config['user']}:{config['password']}@{config['host']}/{config['database']}\"\n",
    "engine = create_engine(db_url)\n",
    "\n",
    "try:\n",
    "    conn = engine.connect()\n",
    "    print(\"Database connection successful.\")\n",
    "except Exception as e:\n",
    "    print(\"Database connection failed:\", e)\n",
    "    sys.exit(1)\n"
   ]
  },
  {
   "cell_type": "markdown",
   "metadata": {},
   "source": [
    "Next, this part will be for the practical use of the dags and the follow-up of the steps."
   ]
  },
  {
   "cell_type": "markdown",
   "metadata": {},
   "source": [
    "### Load the CSV data into a DataFrame"
   ]
  },
  {
   "cell_type": "code",
   "execution_count": 4,
   "metadata": {},
   "outputs": [
    {
     "name": "stdout",
     "output_type": "stream",
     "text": [
      "CSV data loaded successfully with 14055 records.\n"
     ]
    }
   ],
   "source": [
    "metacritic_data_path = '../data/metacritic_data.csv'\n",
    "try:\n",
    "    metacritic_data = pd.read_csv(metacritic_data_path)\n",
    "    print(f\"CSV data loaded successfully with {len(metacritic_data)} records.\")\n",
    "except Exception as e:\n",
    "    print(\"Failed to load CSV data:\", e)\n",
    "    sys.exit(1)"
   ]
  },
  {
   "cell_type": "markdown",
   "metadata": {},
   "source": [
    "## API DATA"
   ]
  },
  {
   "cell_type": "markdown",
   "metadata": {},
   "source": [
    "#### List of CSV files"
   ]
  },
  {
   "cell_type": "code",
   "execution_count": 5,
   "metadata": {},
   "outputs": [],
   "source": [
    "api_data_path = '../data/'\n",
    "csv_files = [os.path.join(api_data_path, f'api_data_{i}.csv') for i in range(1, 14)]"
   ]
  },
  {
   "cell_type": "markdown",
   "metadata": {},
   "source": [
    "#### Store DataFrames"
   ]
  },
  {
   "cell_type": "code",
   "execution_count": 6,
   "metadata": {},
   "outputs": [
    {
     "name": "stdout",
     "output_type": "stream",
     "text": [
      "Loaded ../data/api_data_1.csv successfully with 1000 records.\n",
      "Loaded ../data/api_data_2.csv successfully with 1000 records.\n",
      "Loaded ../data/api_data_3.csv successfully with 900 records.\n",
      "Loaded ../data/api_data_4.csv successfully with 240 records.\n",
      "Loaded ../data/api_data_5.csv successfully with 1000 records.\n",
      "Loaded ../data/api_data_6.csv successfully with 1000 records.\n",
      "Loaded ../data/api_data_7.csv successfully with 1000 records.\n",
      "Loaded ../data/api_data_8.csv successfully with 1000 records.\n",
      "Loaded ../data/api_data_9.csv successfully with 1000 records.\n",
      "Loaded ../data/api_data_10.csv successfully with 1000 records.\n",
      "Loaded ../data/api_data_11.csv successfully with 1000 records.\n",
      "Loaded ../data/api_data_12.csv successfully with 1000 records.\n",
      "Loaded ../data/api_data_13.csv successfully with 1000 records.\n"
     ]
    }
   ],
   "source": [
    "dataframes = []\n",
    "for file in csv_files:\n",
    "    try:\n",
    "        df = pd.read_csv(file)\n",
    "        dataframes.append(df)\n",
    "        print(f\"Loaded {file} successfully with {len(df)} records.\")\n",
    "    except Exception as e:\n",
    "        print(f\"Failed to load {file}:\", e)\n",
    "        sys.exit(1)"
   ]
  },
  {
   "cell_type": "markdown",
   "metadata": {},
   "source": [
    "#### Concatenate all DataFrames into a single DataFrame"
   ]
  },
  {
   "cell_type": "code",
   "execution_count": 7,
   "metadata": {},
   "outputs": [
    {
     "name": "stdout",
     "output_type": "stream",
     "text": [
      "Combined API data has 12140 records.\n"
     ]
    }
   ],
   "source": [
    "combined_api_data = pd.concat(dataframes, ignore_index=True)\n",
    "print(f\"Combined API data has {len(combined_api_data)} records.\")"
   ]
  },
  {
   "cell_type": "code",
   "execution_count": 12,
   "metadata": {},
   "outputs": [
    {
     "name": "stdout",
     "output_type": "stream",
     "text": [
      "Data loaded into the PostgreSQL database successfully.\n"
     ]
    }
   ],
   "source": [
    "try:\n",
    "    combined_api_data.to_sql('api_data', conn, if_exists='replace', index=False)\n",
    "    print(\"Data loaded into the PostgreSQL database successfully.\")\n",
    "except Exception as e:\n",
    "    print(\"Failed to load data into the PostgreSQL database:\", e)\n",
    "    sys.exit(1)"
   ]
  },
  {
   "cell_type": "markdown",
   "metadata": {},
   "source": [
    "## General description"
   ]
  },
  {
   "cell_type": "code",
   "execution_count": 445,
   "metadata": {},
   "outputs": [
    {
     "data": {
      "text/html": [
       "<div>\n",
       "<style scoped>\n",
       "    .dataframe tbody tr th:only-of-type {\n",
       "        vertical-align: middle;\n",
       "    }\n",
       "\n",
       "    .dataframe tbody tr th {\n",
       "        vertical-align: top;\n",
       "    }\n",
       "\n",
       "    .dataframe thead th {\n",
       "        text-align: right;\n",
       "    }\n",
       "</style>\n",
       "<table border=\"1\" class=\"dataframe\">\n",
       "  <thead>\n",
       "    <tr style=\"text-align: right;\">\n",
       "      <th></th>\n",
       "      <th>id</th>\n",
       "      <th>slug</th>\n",
       "      <th>name</th>\n",
       "      <th>released</th>\n",
       "      <th>tba</th>\n",
       "      <th>background_image</th>\n",
       "      <th>rating</th>\n",
       "      <th>rating_top</th>\n",
       "      <th>ratings</th>\n",
       "      <th>ratings_count</th>\n",
       "      <th>...</th>\n",
       "      <th>dominant_color</th>\n",
       "      <th>platforms</th>\n",
       "      <th>parent_platforms</th>\n",
       "      <th>genres</th>\n",
       "      <th>stores</th>\n",
       "      <th>clip</th>\n",
       "      <th>tags</th>\n",
       "      <th>esrb_rating</th>\n",
       "      <th>short_screenshots</th>\n",
       "      <th>community_rating</th>\n",
       "    </tr>\n",
       "  </thead>\n",
       "  <tbody>\n",
       "    <tr>\n",
       "      <th>0</th>\n",
       "      <td>9907</td>\n",
       "      <td>pictopix</td>\n",
       "      <td>Pictopix</td>\n",
       "      <td>2017-01-05</td>\n",
       "      <td>False</td>\n",
       "      <td>https://media.rawg.io/media/screenshots/ff0/ff...</td>\n",
       "      <td>3.96</td>\n",
       "      <td>4</td>\n",
       "      <td>[{'id': 4, 'title': 'recommended', 'count': 20...</td>\n",
       "      <td>24</td>\n",
       "      <td>...</td>\n",
       "      <td>0f0f0f</td>\n",
       "      <td>[{'platform': {'id': 4, 'name': 'PC', 'slug': ...</td>\n",
       "      <td>[{'platform': {'id': 1, 'name': 'PC', 'slug': ...</td>\n",
       "      <td>[{'id': 40, 'name': 'Casual', 'slug': 'casual'...</td>\n",
       "      <td>[{'id': 10805, 'store': {'id': 1, 'name': 'Ste...</td>\n",
       "      <td>NaN</td>\n",
       "      <td>[{'id': 31, 'name': 'Singleplayer', 'slug': 's...</td>\n",
       "      <td>NaN</td>\n",
       "      <td>[{'id': -1, 'image': 'https://media.rawg.io/me...</td>\n",
       "      <td>NaN</td>\n",
       "    </tr>\n",
       "    <tr>\n",
       "      <th>1</th>\n",
       "      <td>4119</td>\n",
       "      <td>chronovolt</td>\n",
       "      <td>Chronovolt</td>\n",
       "      <td>2012-11-21</td>\n",
       "      <td>False</td>\n",
       "      <td>https://media.rawg.io/media/games/8dc/8dc50d62...</td>\n",
       "      <td>2.55</td>\n",
       "      <td>3</td>\n",
       "      <td>[{'id': 3, 'title': 'meh', 'count': 11, 'perce...</td>\n",
       "      <td>20</td>\n",
       "      <td>...</td>\n",
       "      <td>0f0f0f</td>\n",
       "      <td>[{'platform': {'id': 19, 'name': 'PS Vita', 's...</td>\n",
       "      <td>[{'platform': {'id': 2, 'name': 'PlayStation',...</td>\n",
       "      <td>[{'id': 4, 'name': 'Action', 'slug': 'action',...</td>\n",
       "      <td>[{'id': 4440, 'store': {'id': 3, 'name': 'Play...</td>\n",
       "      <td>NaN</td>\n",
       "      <td>[{'id': 37796, 'name': 'exclusive', 'slug': 'e...</td>\n",
       "      <td>{'id': 1, 'name': 'Everyone', 'slug': 'everyone'}</td>\n",
       "      <td>[{'id': -1, 'image': 'https://media.rawg.io/me...</td>\n",
       "      <td>NaN</td>\n",
       "    </tr>\n",
       "    <tr>\n",
       "      <th>2</th>\n",
       "      <td>3935</td>\n",
       "      <td>breakquest-extra-evolution</td>\n",
       "      <td>BreakQuest: Extra Evolution</td>\n",
       "      <td>2012-10-16</td>\n",
       "      <td>False</td>\n",
       "      <td>https://media.rawg.io/media/screenshots/4e3/4e...</td>\n",
       "      <td>2.60</td>\n",
       "      <td>3</td>\n",
       "      <td>[{'id': 3, 'title': 'meh', 'count': 10, 'perce...</td>\n",
       "      <td>20</td>\n",
       "      <td>...</td>\n",
       "      <td>0f0f0f</td>\n",
       "      <td>[{'platform': {'id': 16, 'name': 'PlayStation ...</td>\n",
       "      <td>[{'platform': {'id': 2, 'name': 'PlayStation',...</td>\n",
       "      <td>[{'id': 11, 'name': 'Arcade', 'slug': 'arcade'...</td>\n",
       "      <td>[{'id': 4253, 'store': {'id': 3, 'name': 'Play...</td>\n",
       "      <td>NaN</td>\n",
       "      <td>[{'id': 114, 'name': 'Physics', 'slug': 'physi...</td>\n",
       "      <td>{'id': 2, 'name': 'Everyone 10+', 'slug': 'eve...</td>\n",
       "      <td>[{'id': -1, 'image': 'https://media.rawg.io/me...</td>\n",
       "      <td>NaN</td>\n",
       "    </tr>\n",
       "    <tr>\n",
       "      <th>3</th>\n",
       "      <td>1991</td>\n",
       "      <td>killallzombies-2</td>\n",
       "      <td>#KILLALLZOMBIES</td>\n",
       "      <td>2014-10-28</td>\n",
       "      <td>False</td>\n",
       "      <td>https://media.rawg.io/media/screenshots/675/67...</td>\n",
       "      <td>2.36</td>\n",
       "      <td>1</td>\n",
       "      <td>[{'id': 1, 'title': 'skip', 'count': 5, 'perce...</td>\n",
       "      <td>11</td>\n",
       "      <td>...</td>\n",
       "      <td>0f0f0f</td>\n",
       "      <td>[{'platform': {'id': 1, 'name': 'Xbox One', 's...</td>\n",
       "      <td>[{'platform': {'id': 1, 'name': 'PC', 'slug': ...</td>\n",
       "      <td>[{'id': 4, 'name': 'Action', 'slug': 'action',...</td>\n",
       "      <td>[{'id': 2061, 'store': {'id': 2, 'name': 'Xbox...</td>\n",
       "      <td>NaN</td>\n",
       "      <td>[{'id': 31, 'name': 'Singleplayer', 'slug': 's...</td>\n",
       "      <td>NaN</td>\n",
       "      <td>[{'id': -1, 'image': 'https://media.rawg.io/me...</td>\n",
       "      <td>NaN</td>\n",
       "    </tr>\n",
       "    <tr>\n",
       "      <th>4</th>\n",
       "      <td>979</td>\n",
       "      <td>tethered</td>\n",
       "      <td>Tethered</td>\n",
       "      <td>2016-10-25</td>\n",
       "      <td>False</td>\n",
       "      <td>https://media.rawg.io/media/screenshots/1e6/1e...</td>\n",
       "      <td>2.75</td>\n",
       "      <td>4</td>\n",
       "      <td>[{'id': 4, 'title': 'recommended', 'count': 5,...</td>\n",
       "      <td>12</td>\n",
       "      <td>...</td>\n",
       "      <td>0f0f0f</td>\n",
       "      <td>[{'platform': {'id': 18, 'name': 'PlayStation ...</td>\n",
       "      <td>[{'platform': {'id': 1, 'name': 'PC', 'slug': ...</td>\n",
       "      <td>[{'id': 3, 'name': 'Adventure', 'slug': 'adven...</td>\n",
       "      <td>[{'id': 1002, 'store': {'id': 3, 'name': 'Play...</td>\n",
       "      <td>NaN</td>\n",
       "      <td>[{'id': 31, 'name': 'Singleplayer', 'slug': 's...</td>\n",
       "      <td>{'id': 2, 'name': 'Everyone 10+', 'slug': 'eve...</td>\n",
       "      <td>[{'id': -1, 'image': 'https://media.rawg.io/me...</td>\n",
       "      <td>NaN</td>\n",
       "    </tr>\n",
       "  </tbody>\n",
       "</table>\n",
       "<p>5 rows × 30 columns</p>\n",
       "</div>"
      ],
      "text/plain": [
       "     id                        slug                         name    released  \\\n",
       "0  9907                    pictopix                     Pictopix  2017-01-05   \n",
       "1  4119                  chronovolt                   Chronovolt  2012-11-21   \n",
       "2  3935  breakquest-extra-evolution  BreakQuest: Extra Evolution  2012-10-16   \n",
       "3  1991            killallzombies-2              #KILLALLZOMBIES  2014-10-28   \n",
       "4   979                    tethered                     Tethered  2016-10-25   \n",
       "\n",
       "     tba                                   background_image  rating  \\\n",
       "0  False  https://media.rawg.io/media/screenshots/ff0/ff...    3.96   \n",
       "1  False  https://media.rawg.io/media/games/8dc/8dc50d62...    2.55   \n",
       "2  False  https://media.rawg.io/media/screenshots/4e3/4e...    2.60   \n",
       "3  False  https://media.rawg.io/media/screenshots/675/67...    2.36   \n",
       "4  False  https://media.rawg.io/media/screenshots/1e6/1e...    2.75   \n",
       "\n",
       "   rating_top                                            ratings  \\\n",
       "0           4  [{'id': 4, 'title': 'recommended', 'count': 20...   \n",
       "1           3  [{'id': 3, 'title': 'meh', 'count': 11, 'perce...   \n",
       "2           3  [{'id': 3, 'title': 'meh', 'count': 10, 'perce...   \n",
       "3           1  [{'id': 1, 'title': 'skip', 'count': 5, 'perce...   \n",
       "4           4  [{'id': 4, 'title': 'recommended', 'count': 5,...   \n",
       "\n",
       "   ratings_count  ...  dominant_color  \\\n",
       "0             24  ...          0f0f0f   \n",
       "1             20  ...          0f0f0f   \n",
       "2             20  ...          0f0f0f   \n",
       "3             11  ...          0f0f0f   \n",
       "4             12  ...          0f0f0f   \n",
       "\n",
       "                                           platforms  \\\n",
       "0  [{'platform': {'id': 4, 'name': 'PC', 'slug': ...   \n",
       "1  [{'platform': {'id': 19, 'name': 'PS Vita', 's...   \n",
       "2  [{'platform': {'id': 16, 'name': 'PlayStation ...   \n",
       "3  [{'platform': {'id': 1, 'name': 'Xbox One', 's...   \n",
       "4  [{'platform': {'id': 18, 'name': 'PlayStation ...   \n",
       "\n",
       "                                    parent_platforms  \\\n",
       "0  [{'platform': {'id': 1, 'name': 'PC', 'slug': ...   \n",
       "1  [{'platform': {'id': 2, 'name': 'PlayStation',...   \n",
       "2  [{'platform': {'id': 2, 'name': 'PlayStation',...   \n",
       "3  [{'platform': {'id': 1, 'name': 'PC', 'slug': ...   \n",
       "4  [{'platform': {'id': 1, 'name': 'PC', 'slug': ...   \n",
       "\n",
       "                                              genres  \\\n",
       "0  [{'id': 40, 'name': 'Casual', 'slug': 'casual'...   \n",
       "1  [{'id': 4, 'name': 'Action', 'slug': 'action',...   \n",
       "2  [{'id': 11, 'name': 'Arcade', 'slug': 'arcade'...   \n",
       "3  [{'id': 4, 'name': 'Action', 'slug': 'action',...   \n",
       "4  [{'id': 3, 'name': 'Adventure', 'slug': 'adven...   \n",
       "\n",
       "                                              stores  clip  \\\n",
       "0  [{'id': 10805, 'store': {'id': 1, 'name': 'Ste...   NaN   \n",
       "1  [{'id': 4440, 'store': {'id': 3, 'name': 'Play...   NaN   \n",
       "2  [{'id': 4253, 'store': {'id': 3, 'name': 'Play...   NaN   \n",
       "3  [{'id': 2061, 'store': {'id': 2, 'name': 'Xbox...   NaN   \n",
       "4  [{'id': 1002, 'store': {'id': 3, 'name': 'Play...   NaN   \n",
       "\n",
       "                                                tags  \\\n",
       "0  [{'id': 31, 'name': 'Singleplayer', 'slug': 's...   \n",
       "1  [{'id': 37796, 'name': 'exclusive', 'slug': 'e...   \n",
       "2  [{'id': 114, 'name': 'Physics', 'slug': 'physi...   \n",
       "3  [{'id': 31, 'name': 'Singleplayer', 'slug': 's...   \n",
       "4  [{'id': 31, 'name': 'Singleplayer', 'slug': 's...   \n",
       "\n",
       "                                         esrb_rating  \\\n",
       "0                                                NaN   \n",
       "1  {'id': 1, 'name': 'Everyone', 'slug': 'everyone'}   \n",
       "2  {'id': 2, 'name': 'Everyone 10+', 'slug': 'eve...   \n",
       "3                                                NaN   \n",
       "4  {'id': 2, 'name': 'Everyone 10+', 'slug': 'eve...   \n",
       "\n",
       "                                   short_screenshots community_rating  \n",
       "0  [{'id': -1, 'image': 'https://media.rawg.io/me...              NaN  \n",
       "1  [{'id': -1, 'image': 'https://media.rawg.io/me...              NaN  \n",
       "2  [{'id': -1, 'image': 'https://media.rawg.io/me...              NaN  \n",
       "3  [{'id': -1, 'image': 'https://media.rawg.io/me...              NaN  \n",
       "4  [{'id': -1, 'image': 'https://media.rawg.io/me...              NaN  \n",
       "\n",
       "[5 rows x 30 columns]"
      ]
     },
     "execution_count": 445,
     "metadata": {},
     "output_type": "execute_result"
    }
   ],
   "source": [
    "combined_api_data.head()"
   ]
  },
  {
   "cell_type": "code",
   "execution_count": 446,
   "metadata": {},
   "outputs": [
    {
     "name": "stdout",
     "output_type": "stream",
     "text": [
      "<class 'pandas.core.frame.DataFrame'>\n",
      "RangeIndex: 12140 entries, 0 to 12139\n",
      "Data columns (total 30 columns):\n",
      " #   Column              Non-Null Count  Dtype  \n",
      "---  ------              --------------  -----  \n",
      " 0   id                  12140 non-null  int64  \n",
      " 1   slug                12140 non-null  object \n",
      " 2   name                12140 non-null  object \n",
      " 3   released            11881 non-null  object \n",
      " 4   tba                 12140 non-null  bool   \n",
      " 5   background_image    12120 non-null  object \n",
      " 6   rating              12140 non-null  float64\n",
      " 7   rating_top          12140 non-null  int64  \n",
      " 8   ratings             12140 non-null  object \n",
      " 9   ratings_count       12140 non-null  int64  \n",
      " 10  reviews_text_count  12140 non-null  int64  \n",
      " 11  added               12140 non-null  int64  \n",
      " 12  added_by_status     12140 non-null  object \n",
      " 13  metacritic          4628 non-null   float64\n",
      " 14  playtime            12140 non-null  int64  \n",
      " 15  suggestions_count   12140 non-null  int64  \n",
      " 16  updated             12140 non-null  object \n",
      " 17  user_game           0 non-null      float64\n",
      " 18  reviews_count       12140 non-null  int64  \n",
      " 19  saturated_color     12140 non-null  object \n",
      " 20  dominant_color      12140 non-null  object \n",
      " 21  platforms           12140 non-null  object \n",
      " 22  parent_platforms    12140 non-null  object \n",
      " 23  genres              12140 non-null  object \n",
      " 24  stores              12140 non-null  object \n",
      " 25  clip                0 non-null      float64\n",
      " 26  tags                12140 non-null  object \n",
      " 27  esrb_rating         4865 non-null   object \n",
      " 28  short_screenshots   12140 non-null  object \n",
      " 29  community_rating    1231 non-null   float64\n",
      "dtypes: bool(1), float64(5), int64(8), object(16)\n",
      "memory usage: 2.7+ MB\n"
     ]
    }
   ],
   "source": [
    "combined_api_data.info()"
   ]
  },
  {
   "cell_type": "code",
   "execution_count": 447,
   "metadata": {},
   "outputs": [
    {
     "data": {
      "text/html": [
       "<div>\n",
       "<style scoped>\n",
       "    .dataframe tbody tr th:only-of-type {\n",
       "        vertical-align: middle;\n",
       "    }\n",
       "\n",
       "    .dataframe tbody tr th {\n",
       "        vertical-align: top;\n",
       "    }\n",
       "\n",
       "    .dataframe thead th {\n",
       "        text-align: right;\n",
       "    }\n",
       "</style>\n",
       "<table border=\"1\" class=\"dataframe\">\n",
       "  <thead>\n",
       "    <tr style=\"text-align: right;\">\n",
       "      <th></th>\n",
       "      <th>title</th>\n",
       "      <th>released</th>\n",
       "      <th>developer</th>\n",
       "      <th>publisher</th>\n",
       "      <th>genres</th>\n",
       "      <th>rating</th>\n",
       "      <th>user score</th>\n",
       "      <th>ratings_count</th>\n",
       "      <th>platforms</th>\n",
       "    </tr>\n",
       "  </thead>\n",
       "  <tbody>\n",
       "    <tr>\n",
       "      <th>0</th>\n",
       "      <td>ZIGGURAT</td>\n",
       "      <td>2012-02-17</td>\n",
       "      <td>ACTION BUTTON ENTERTAINMENT</td>\n",
       "      <td>FRESHUU INC.</td>\n",
       "      <td>ACTION</td>\n",
       "      <td>NaN</td>\n",
       "      <td>6.9</td>\n",
       "      <td>14</td>\n",
       "      <td>IOS (IPHONE/IPAD)</td>\n",
       "    </tr>\n",
       "    <tr>\n",
       "      <th>1</th>\n",
       "      <td>4X4 EVO 2</td>\n",
       "      <td>2001-11-15</td>\n",
       "      <td>TERMINAL REALITY</td>\n",
       "      <td>GATHERING</td>\n",
       "      <td>AUTO RACING SIM</td>\n",
       "      <td>RATED E FOR EVERYONE</td>\n",
       "      <td>0.0</td>\n",
       "      <td>0</td>\n",
       "      <td>XBOX</td>\n",
       "    </tr>\n",
       "    <tr>\n",
       "      <th>2</th>\n",
       "      <td>MOTOGP 2</td>\n",
       "      <td>2002-01-22</td>\n",
       "      <td>NAMCO</td>\n",
       "      <td>NAMCO</td>\n",
       "      <td>AUTO RACING SIM</td>\n",
       "      <td>RATED E FOR EVERYONE</td>\n",
       "      <td>5.8</td>\n",
       "      <td>0</td>\n",
       "      <td>PLAYSTATION 2</td>\n",
       "    </tr>\n",
       "    <tr>\n",
       "      <th>3</th>\n",
       "      <td>GOTHIC 3</td>\n",
       "      <td>2006-11-14</td>\n",
       "      <td>PIRANHA BYTES</td>\n",
       "      <td>ASPYR</td>\n",
       "      <td>WESTERN RPG</td>\n",
       "      <td>RATED T FOR TEEN</td>\n",
       "      <td>7.5</td>\n",
       "      <td>832</td>\n",
       "      <td>PC</td>\n",
       "    </tr>\n",
       "    <tr>\n",
       "      <th>4</th>\n",
       "      <td>SIEGE SURVIVAL GLORIA VICTIS</td>\n",
       "      <td>2021-05-18</td>\n",
       "      <td>FISHTANKSTUDIO</td>\n",
       "      <td>BLACK EYE GAMES</td>\n",
       "      <td>RPG</td>\n",
       "      <td>NaN</td>\n",
       "      <td>6.5</td>\n",
       "      <td>10</td>\n",
       "      <td>PC</td>\n",
       "    </tr>\n",
       "  </tbody>\n",
       "</table>\n",
       "</div>"
      ],
      "text/plain": [
       "                          title    released                    developer  \\\n",
       "0                     ZIGGURAT   2012-02-17  ACTION BUTTON ENTERTAINMENT   \n",
       "1                     4X4 EVO 2  2001-11-15             TERMINAL REALITY   \n",
       "2                     MOTOGP 2   2002-01-22                        NAMCO   \n",
       "3                      GOTHIC 3  2006-11-14                PIRANHA BYTES   \n",
       "4  SIEGE SURVIVAL GLORIA VICTIS  2021-05-18               FISHTANKSTUDIO   \n",
       "\n",
       "         publisher           genres                rating  user score  \\\n",
       "0     FRESHUU INC.           ACTION                   NaN         6.9   \n",
       "1        GATHERING  AUTO RACING SIM  RATED E FOR EVERYONE         0.0   \n",
       "2            NAMCO  AUTO RACING SIM  RATED E FOR EVERYONE         5.8   \n",
       "3            ASPYR      WESTERN RPG      RATED T FOR TEEN         7.5   \n",
       "4  BLACK EYE GAMES              RPG                   NaN         6.5   \n",
       "\n",
       "   ratings_count          platforms  \n",
       "0             14  IOS (IPHONE/IPAD)  \n",
       "1              0               XBOX  \n",
       "2              0      PLAYSTATION 2  \n",
       "3            832                 PC  \n",
       "4             10                 PC  "
      ]
     },
     "execution_count": 447,
     "metadata": {},
     "output_type": "execute_result"
    }
   ],
   "source": [
    "metacritic_data.head()"
   ]
  },
  {
   "cell_type": "code",
   "execution_count": 448,
   "metadata": {},
   "outputs": [
    {
     "name": "stdout",
     "output_type": "stream",
     "text": [
      "<class 'pandas.core.frame.DataFrame'>\n",
      "RangeIndex: 14055 entries, 0 to 14054\n",
      "Data columns (total 9 columns):\n",
      " #   Column         Non-Null Count  Dtype  \n",
      "---  ------         --------------  -----  \n",
      " 0   title          14034 non-null  object \n",
      " 1   released       13991 non-null  object \n",
      " 2   developer      13917 non-null  object \n",
      " 3   publisher      13917 non-null  object \n",
      " 4   genres         14034 non-null  object \n",
      " 5   rating         11005 non-null  object \n",
      " 6   user score     14055 non-null  float64\n",
      " 7   ratings_count  14055 non-null  int64  \n",
      " 8   platforms      14026 non-null  object \n",
      "dtypes: float64(1), int64(1), object(7)\n",
      "memory usage: 988.4+ KB\n"
     ]
    }
   ],
   "source": [
    "metacritic_data.info()"
   ]
  },
  {
   "cell_type": "markdown",
   "metadata": {},
   "source": [
    "## Transformations and merge"
   ]
  },
  {
   "cell_type": "markdown",
   "metadata": {},
   "source": [
    "Function to extract platforms names"
   ]
  },
  {
   "cell_type": "code",
   "execution_count": 8,
   "metadata": {},
   "outputs": [
    {
     "name": "stdout",
     "output_type": "stream",
     "text": [
      "         rating\n",
      "0          None\n",
      "1      Everyone\n",
      "2  Everyone 10+\n",
      "3          None\n",
      "4  Everyone 10+\n"
     ]
    }
   ],
   "source": [
    "def extract_classification_names(json_str):\n",
    "    # Check if the input is actually a string\n",
    "    if isinstance(json_str, str):\n",
    "        try:\n",
    "            # Assuming the JSON strings are formatted with double quotes\n",
    "            classification_data = json.loads(json_str.replace(\"'\", '\"'))\n",
    "            # If the structure contains a list of platforms, we join them with a comma\n",
    "            if isinstance(classification_data, list):\n",
    "                classification_names = [classification['name'] for classification in classification_data]\n",
    "                return ', '.join(classification_names)\n",
    "            # If it's a dictionary and 'name' is the key for platform names\n",
    "            elif 'name' in classification_data:\n",
    "                return classification_data['name']\n",
    "            else:\n",
    "                return None\n",
    "        except json.JSONDecodeError:\n",
    "            return None\n",
    "    else:\n",
    "        return None\n",
    "\n",
    "combined_api_data['rating'] = combined_api_data['esrb_rating'].apply(extract_classification_names)\n",
    "\n",
    "# Check the transformation results\n",
    "print(combined_api_data[['rating']].head())"
   ]
  },
  {
   "cell_type": "code",
   "execution_count": 9,
   "metadata": {},
   "outputs": [
    {
     "name": "stdout",
     "output_type": "stream",
     "text": [
      "          genres\n",
      "0         Casual\n",
      "1         Action\n",
      "2         Arcade\n",
      "3         Action\n",
      "4      Adventure\n",
      "...          ...\n",
      "12135     Racing\n",
      "12136     Action\n",
      "12137  Adventure\n",
      "12138        RPG\n",
      "12139  Adventure\n",
      "\n",
      "[12140 rows x 1 columns]\n"
     ]
    }
   ],
   "source": [
    "def extract_first_genre_name(json_str):\n",
    "    if isinstance(json_str, str):\n",
    "        try:\n",
    "            # Correctly parse the JSON assuming single quotes in string representation\n",
    "            genre_data = json.loads(json_str.replace(\"'\", '\"'))\n",
    "            # Check if the data structure is a dictionary (single genre) or a list (multiple genres)\n",
    "            if isinstance(genre_data, dict):\n",
    "                # Return the name directly if it's a single genre\n",
    "                return genre_data['name']\n",
    "            elif isinstance(genre_data, list) and len(genre_data) > 0:\n",
    "                # Return the name of the first genre if there are multiple\n",
    "                return genre_data[0]['name']\n",
    "            else:\n",
    "                return None\n",
    "        except json.JSONDecodeError:\n",
    "            return None\n",
    "    else:\n",
    "        return None\n",
    "\n",
    "# Apply the modified function to the 'genres' column\n",
    "combined_api_data['genres'] = combined_api_data['genres'].apply(extract_first_genre_name)\n",
    "\n",
    "# Display the result to verify\n",
    "print(combined_api_data[['genres']])"
   ]
  },
  {
   "cell_type": "code",
   "execution_count": 10,
   "metadata": {},
   "outputs": [
    {
     "name": "stdout",
     "output_type": "stream",
     "text": [
      "0                   PC\n",
      "1              PS Vita\n",
      "2        PlayStation 3\n",
      "3             Xbox One\n",
      "4        PlayStation 4\n",
      "             ...      \n",
      "12135               PC\n",
      "12136               PC\n",
      "12137            macOS\n",
      "12138               PC\n",
      "12139               PC\n",
      "Name: platforms, Length: 12140, dtype: object\n"
     ]
    }
   ],
   "source": [
    "# Function to search for the word 'name' and extract the first platform name\n",
    "def extract_first_platform_name_from_string(json_str, index):\n",
    "    if not json_str or json_str.strip() in ['platforms', '']:\n",
    "        print(f\"Row {index}: Empty or placeholder string\")\n",
    "        return None\n",
    "    \n",
    "    # Check if the string is a plain text value\n",
    "    if json_str.isalpha():\n",
    "        print(f\"Row {index}: Plain text value: {json_str}\")\n",
    "        return json_str\n",
    "    \n",
    "    try:\n",
    "        # Replace single quotes with double quotes to form valid JSON\n",
    "        json_str = json_str.replace(\"'\", '\"')\n",
    "        \n",
    "        # Find the platform names using regular expressions\n",
    "        matches = re.findall(r'\"name\":\\s*\"([^\"]+)\"', json_str)\n",
    "        if matches:\n",
    "            return matches[0]  # Return the first match\n",
    "    except Exception as e:\n",
    "        print(f\"Row {index}: Error processing string: {e} - {json_str}\")\n",
    "        return None\n",
    "\n",
    "\n",
    "# Apply the function to the DataFrame\n",
    "combined_api_data['platforms'] = combined_api_data.apply(lambda row: extract_first_platform_name_from_string(row['platforms'], row.name), axis=1)\n",
    "\n",
    "# Display the DataFrame\n",
    "print(combined_api_data['platforms'])"
   ]
  },
  {
   "cell_type": "markdown",
   "metadata": {},
   "source": [
    "Genres in PostgreSQL are comma-separated strings, we will join API genres lists"
   ]
  },
  {
   "cell_type": "code",
   "execution_count": 452,
   "metadata": {},
   "outputs": [],
   "source": [
    "# Select relevant columns and make a copy to avoid SettingWithCopyWarning\n",
    "api_relevant_columns = [\n",
    "    'name', 'released', 'rating', 'ratings_count', 'metacritic', 'genres', 'platforms'\n",
    "]\n",
    "api_data_relevant = combined_api_data[api_relevant_columns].copy()\n",
    "\n",
    "\n",
    "# Standardize titles and release dates to ensure consistent formatting\n",
    "api_data_relevant['name'] = api_data_relevant['name'].str.strip().str.upper()\n",
    "api_data_relevant['released'] = pd.to_datetime(api_data_relevant['released']).dt.date\n",
    "\n"
   ]
  },
  {
   "cell_type": "code",
   "execution_count": 453,
   "metadata": {},
   "outputs": [],
   "source": [
    "api_data_relevant['name'] = api_data_relevant['name'].str.lower() \\\n",
    "                         .str.replace(r\"\\(.*\\)\", \"\", regex=True) \\\n",
    "                         .str.replace(r\"[-:,$#.//'\\[\\]()]\", \"\", regex=True)"
   ]
  },
  {
   "cell_type": "code",
   "execution_count": 454,
   "metadata": {},
   "outputs": [],
   "source": [
    "# Rename columns to match PostgreSQL data\n",
    "api_data_relevant.rename(columns={\n",
    "    'name': 'title',\n",
    "    'rating': 'rating',\n",
    "    'metacritic': 'metacritic_score',\n",
    "    'ratings_count': 'ratings_count'\n",
    "}, inplace=True)\n"
   ]
  },
  {
   "cell_type": "code",
   "execution_count": 455,
   "metadata": {},
   "outputs": [],
   "source": [
    "rating_mapping = {\n",
    "    \"Adults Only\": \"RATED AO FOR ADULTS ONLY\",\n",
    "    \"Everyone\": \"RATED E FOR EVERYONE\",\n",
    "    \"Everyone +10\": \"RATED E +10 FOR EVERYONE +10\",\n",
    "    \"Mature\": \"RATED M FOR MATURE\",\n",
    "    \"Rating Pending\": \"RATED RP FOR RATE PENDING\",\n",
    "    \"Teen\": \"RATED T FOR TEEN\"\n",
    "}\n",
    "# Define the mapping dictionary\n",
    "rating_mapping = {\n",
    "    \"Adults Only\": \"RATED AO FOR ADULTS ONLY\",\n",
    "    \"Everyone\": \"RATED E FOR EVERYONE\",\n",
    "    \"Everyone +10\": \"RATED E +10 FOR EVERYONE +10\",\n",
    "    \"Mature\": \"RATED M FOR MATURE\",\n",
    "    \"Rating Pending\": \"RATED RP FOR RATE PENDING\",\n",
    "    \"Teen\": \"RATED T FOR TEEN\"\n",
    "}\n",
    "\n",
    "# Apply the mapping to the 'rating' column in api_data_relevant\n",
    "api_data_relevant['rating'] = api_data_relevant['rating'].map(rating_mapping)"
   ]
  },
  {
   "cell_type": "markdown",
   "metadata": {},
   "source": [
    "Rename columns to match PostgreSQL data"
   ]
  },
  {
   "cell_type": "code",
   "execution_count": 456,
   "metadata": {},
   "outputs": [
    {
     "name": "stdout",
     "output_type": "stream",
     "text": [
      "API Data Relevant Columns: ['title', 'released', 'rating', 'ratings_count', 'metacritic_score', 'genres', 'platforms']\n"
     ]
    },
    {
     "data": {
      "text/html": [
       "<div>\n",
       "<style scoped>\n",
       "    .dataframe tbody tr th:only-of-type {\n",
       "        vertical-align: middle;\n",
       "    }\n",
       "\n",
       "    .dataframe tbody tr th {\n",
       "        vertical-align: top;\n",
       "    }\n",
       "\n",
       "    .dataframe thead th {\n",
       "        text-align: right;\n",
       "    }\n",
       "</style>\n",
       "<table border=\"1\" class=\"dataframe\">\n",
       "  <thead>\n",
       "    <tr style=\"text-align: right;\">\n",
       "      <th></th>\n",
       "      <th>title</th>\n",
       "      <th>released</th>\n",
       "      <th>rating</th>\n",
       "      <th>ratings_count</th>\n",
       "      <th>metacritic_score</th>\n",
       "      <th>genres</th>\n",
       "      <th>platforms</th>\n",
       "    </tr>\n",
       "  </thead>\n",
       "  <tbody>\n",
       "    <tr>\n",
       "      <th>0</th>\n",
       "      <td>pictopix</td>\n",
       "      <td>2017-01-05</td>\n",
       "      <td>NaN</td>\n",
       "      <td>24</td>\n",
       "      <td>NaN</td>\n",
       "      <td>Casual</td>\n",
       "      <td>PC</td>\n",
       "    </tr>\n",
       "    <tr>\n",
       "      <th>1</th>\n",
       "      <td>chronovolt</td>\n",
       "      <td>2012-11-21</td>\n",
       "      <td>RATED E FOR EVERYONE</td>\n",
       "      <td>20</td>\n",
       "      <td>44.0</td>\n",
       "      <td>Action</td>\n",
       "      <td>PS Vita</td>\n",
       "    </tr>\n",
       "    <tr>\n",
       "      <th>2</th>\n",
       "      <td>breakquest extra evolution</td>\n",
       "      <td>2012-10-16</td>\n",
       "      <td>NaN</td>\n",
       "      <td>20</td>\n",
       "      <td>NaN</td>\n",
       "      <td>Arcade</td>\n",
       "      <td>PlayStation 3</td>\n",
       "    </tr>\n",
       "    <tr>\n",
       "      <th>3</th>\n",
       "      <td>killallzombies</td>\n",
       "      <td>2014-10-28</td>\n",
       "      <td>NaN</td>\n",
       "      <td>11</td>\n",
       "      <td>NaN</td>\n",
       "      <td>Action</td>\n",
       "      <td>Xbox One</td>\n",
       "    </tr>\n",
       "    <tr>\n",
       "      <th>4</th>\n",
       "      <td>tethered</td>\n",
       "      <td>2016-10-25</td>\n",
       "      <td>NaN</td>\n",
       "      <td>12</td>\n",
       "      <td>NaN</td>\n",
       "      <td>Adventure</td>\n",
       "      <td>PlayStation 4</td>\n",
       "    </tr>\n",
       "  </tbody>\n",
       "</table>\n",
       "</div>"
      ],
      "text/plain": [
       "                        title    released                rating  \\\n",
       "0                    pictopix  2017-01-05                   NaN   \n",
       "1                  chronovolt  2012-11-21  RATED E FOR EVERYONE   \n",
       "2  breakquest extra evolution  2012-10-16                   NaN   \n",
       "3              killallzombies  2014-10-28                   NaN   \n",
       "4                    tethered  2016-10-25                   NaN   \n",
       "\n",
       "   ratings_count  metacritic_score     genres      platforms  \n",
       "0             24               NaN     Casual             PC  \n",
       "1             20              44.0     Action        PS Vita  \n",
       "2             20               NaN     Arcade  PlayStation 3  \n",
       "3             11               NaN     Action       Xbox One  \n",
       "4             12               NaN  Adventure  PlayStation 4  "
      ]
     },
     "execution_count": 456,
     "metadata": {},
     "output_type": "execute_result"
    }
   ],
   "source": [
    "# Standardize titles and release dates in db_data to ensure consistent formatting\n",
    "metacritic_data['title'] = metacritic_data['title'].str.strip().str.upper()\n",
    "metacritic_data['released'] = pd.to_datetime(metacritic_data['released']).dt.date\n",
    "\n",
    "# Debug: Display the column names of both DataFrames\n",
    "print(\"API Data Relevant Columns:\", api_data_relevant.columns.tolist())\n",
    "api_data_relevant.head()\n"
   ]
  },
  {
   "cell_type": "code",
   "execution_count": 457,
   "metadata": {},
   "outputs": [
    {
     "name": "stdout",
     "output_type": "stream",
     "text": [
      "Combined API data saved to 'api_data3.csv'\n"
     ]
    }
   ],
   "source": [
    "api_data_relevant.to_csv('../data/api_data3.csv', index=False)\n",
    "print(\"Combined API data saved to 'api_data3.csv'\")"
   ]
  },
  {
   "cell_type": "code",
   "execution_count": 458,
   "metadata": {},
   "outputs": [
    {
     "name": "stdout",
     "output_type": "stream",
     "text": [
      "Database Data Columns: ['title', 'released', 'developer', 'publisher', 'genres', 'rating', 'user score', 'ratings_count', 'platforms']\n"
     ]
    },
    {
     "data": {
      "text/html": [
       "<div>\n",
       "<style scoped>\n",
       "    .dataframe tbody tr th:only-of-type {\n",
       "        vertical-align: middle;\n",
       "    }\n",
       "\n",
       "    .dataframe tbody tr th {\n",
       "        vertical-align: top;\n",
       "    }\n",
       "\n",
       "    .dataframe thead th {\n",
       "        text-align: right;\n",
       "    }\n",
       "</style>\n",
       "<table border=\"1\" class=\"dataframe\">\n",
       "  <thead>\n",
       "    <tr style=\"text-align: right;\">\n",
       "      <th></th>\n",
       "      <th>title</th>\n",
       "      <th>released</th>\n",
       "      <th>developer</th>\n",
       "      <th>publisher</th>\n",
       "      <th>genres</th>\n",
       "      <th>rating</th>\n",
       "      <th>user score</th>\n",
       "      <th>ratings_count</th>\n",
       "      <th>platforms</th>\n",
       "    </tr>\n",
       "  </thead>\n",
       "  <tbody>\n",
       "    <tr>\n",
       "      <th>0</th>\n",
       "      <td>ZIGGURAT</td>\n",
       "      <td>2012-02-17</td>\n",
       "      <td>ACTION BUTTON ENTERTAINMENT</td>\n",
       "      <td>FRESHUU INC.</td>\n",
       "      <td>ACTION</td>\n",
       "      <td>NaN</td>\n",
       "      <td>6.9</td>\n",
       "      <td>14</td>\n",
       "      <td>IOS (IPHONE/IPAD)</td>\n",
       "    </tr>\n",
       "    <tr>\n",
       "      <th>1</th>\n",
       "      <td>4X4 EVO 2</td>\n",
       "      <td>2001-11-15</td>\n",
       "      <td>TERMINAL REALITY</td>\n",
       "      <td>GATHERING</td>\n",
       "      <td>AUTO RACING SIM</td>\n",
       "      <td>RATED E FOR EVERYONE</td>\n",
       "      <td>0.0</td>\n",
       "      <td>0</td>\n",
       "      <td>XBOX</td>\n",
       "    </tr>\n",
       "    <tr>\n",
       "      <th>2</th>\n",
       "      <td>MOTOGP 2</td>\n",
       "      <td>2002-01-22</td>\n",
       "      <td>NAMCO</td>\n",
       "      <td>NAMCO</td>\n",
       "      <td>AUTO RACING SIM</td>\n",
       "      <td>RATED E FOR EVERYONE</td>\n",
       "      <td>5.8</td>\n",
       "      <td>0</td>\n",
       "      <td>PLAYSTATION 2</td>\n",
       "    </tr>\n",
       "    <tr>\n",
       "      <th>3</th>\n",
       "      <td>GOTHIC 3</td>\n",
       "      <td>2006-11-14</td>\n",
       "      <td>PIRANHA BYTES</td>\n",
       "      <td>ASPYR</td>\n",
       "      <td>WESTERN RPG</td>\n",
       "      <td>RATED T FOR TEEN</td>\n",
       "      <td>7.5</td>\n",
       "      <td>832</td>\n",
       "      <td>PC</td>\n",
       "    </tr>\n",
       "    <tr>\n",
       "      <th>4</th>\n",
       "      <td>SIEGE SURVIVAL GLORIA VICTIS</td>\n",
       "      <td>2021-05-18</td>\n",
       "      <td>FISHTANKSTUDIO</td>\n",
       "      <td>BLACK EYE GAMES</td>\n",
       "      <td>RPG</td>\n",
       "      <td>NaN</td>\n",
       "      <td>6.5</td>\n",
       "      <td>10</td>\n",
       "      <td>PC</td>\n",
       "    </tr>\n",
       "  </tbody>\n",
       "</table>\n",
       "</div>"
      ],
      "text/plain": [
       "                          title    released                    developer  \\\n",
       "0                      ZIGGURAT  2012-02-17  ACTION BUTTON ENTERTAINMENT   \n",
       "1                     4X4 EVO 2  2001-11-15             TERMINAL REALITY   \n",
       "2                      MOTOGP 2  2002-01-22                        NAMCO   \n",
       "3                      GOTHIC 3  2006-11-14                PIRANHA BYTES   \n",
       "4  SIEGE SURVIVAL GLORIA VICTIS  2021-05-18               FISHTANKSTUDIO   \n",
       "\n",
       "         publisher           genres                rating  user score  \\\n",
       "0     FRESHUU INC.           ACTION                   NaN         6.9   \n",
       "1        GATHERING  AUTO RACING SIM  RATED E FOR EVERYONE         0.0   \n",
       "2            NAMCO  AUTO RACING SIM  RATED E FOR EVERYONE         5.8   \n",
       "3            ASPYR      WESTERN RPG      RATED T FOR TEEN         7.5   \n",
       "4  BLACK EYE GAMES              RPG                   NaN         6.5   \n",
       "\n",
       "   ratings_count          platforms  \n",
       "0             14  IOS (IPHONE/IPAD)  \n",
       "1              0               XBOX  \n",
       "2              0      PLAYSTATION 2  \n",
       "3            832                 PC  \n",
       "4             10                 PC  "
      ]
     },
     "execution_count": 458,
     "metadata": {},
     "output_type": "execute_result"
    }
   ],
   "source": [
    "print(\"Database Data Columns:\", metacritic_data.columns.tolist())\n",
    "metacritic_data.head()"
   ]
  },
  {
   "cell_type": "code",
   "execution_count": 459,
   "metadata": {},
   "outputs": [
    {
     "name": "stdout",
     "output_type": "stream",
     "text": [
      "Combined API data saved to 'metacritic_data2.csv'\n"
     ]
    }
   ],
   "source": [
    "metacritic_data.to_csv('../data/metacritic_data2.csv', index=False)\n",
    "print(\"Combined API data saved to 'metacritic_data2.csv'\")"
   ]
  },
  {
   "cell_type": "code",
   "execution_count": 460,
   "metadata": {},
   "outputs": [],
   "source": [
    "# Ensure 'genres' and 'platforms' columns exist in both DataFrames\n",
    "if 'genres' not in api_data_relevant.columns or 'genres' not in metacritic_data.columns:\n",
    "    print(\"Error: 'genres' column is missing in one of the DataFrames.\")\n",
    "    sys.exit(1)\n",
    "\n",
    "if 'platforms' not in api_data_relevant.columns or 'platforms' not in metacritic_data.columns:\n",
    "    print(\"Error: 'platforms' column is missing in one of the DataFrames.\")\n",
    "    sys.exit(1)"
   ]
  },
  {
   "cell_type": "code",
   "execution_count": 461,
   "metadata": {},
   "outputs": [],
   "source": [
    "api_data_relevant = api_data_relevant.map(lambda x: x.upper() if isinstance(x, str) else x)"
   ]
  },
  {
   "cell_type": "code",
   "execution_count": 462,
   "metadata": {},
   "outputs": [
    {
     "name": "stdout",
     "output_type": "stream",
     "text": [
      "Rows with NaN values:\n",
      "                                       title    released  \\\n",
      "0      \"GLOW BALL\"  THE BILLIARD PUZZLE GAME  2015-07-20   \n",
      "1                              'SPLOSION MAN  2009-07-22   \n",
      "2                      0 DAY ATTACK ON EARTH  2009-12-23   \n",
      "3                                007 LEGENDS  2012-10-16   \n",
      "4                                007 LEGENDS  2012-10-16   \n",
      "...                                      ...         ...   \n",
      "26190                                    NaN         NaT   \n",
      "26191                                    NaN         NaT   \n",
      "26192                                    NaN         NaT   \n",
      "26193                                    NaN         NaT   \n",
      "26194                                    NaN         NaT   \n",
      "\n",
      "                             rating  ratings_count  metacritic_score  \\\n",
      "0                               NaN              4               NaN   \n",
      "1      RATED E +10 FOR EVERYONE +10             91               NaN   \n",
      "2      RATED E +10 FOR EVERYONE +10              8               NaN   \n",
      "3                  RATED T FOR TEEN             44              37.0   \n",
      "4                  RATED T FOR TEEN             84               NaN   \n",
      "...                             ...            ...               ...   \n",
      "26190                           NaN              0               NaN   \n",
      "26191                           NaN              0               NaN   \n",
      "26192                           NaN              0               NaN   \n",
      "26193                           NaN              0               NaN   \n",
      "26194                           NaN              0               NaN   \n",
      "\n",
      "                     genres platforms            developer  \\\n",
      "0                  STRATEGY        PC                  NaN   \n",
      "1             2D PLATFORMER  XBOX 360  TWISTED PIXEL GAMES   \n",
      "2      THIRD PERSON SHOOTER  XBOX 360                GULTI   \n",
      "3                    ACTION     WII U                  NaN   \n",
      "4                       FPS  XBOX 360              EUROCOM   \n",
      "...                     ...       ...                  ...   \n",
      "26190                   NaN       NaN                  NaN   \n",
      "26191                   NaN       NaN                  NaN   \n",
      "26192                   NaN       NaN                  NaN   \n",
      "26193                   NaN       NaN                  NaN   \n",
      "26194                   NaN       NaN                  NaN   \n",
      "\n",
      "                 publisher  user score  \n",
      "0                      NaN         NaN  \n",
      "1      TWISTED PIXEL GAMES         7.3  \n",
      "2              SQUARE ENIX         5.9  \n",
      "3                      NaN         NaN  \n",
      "4               ACTIVISION         4.5  \n",
      "...                    ...         ...  \n",
      "26190                  NaN         0.0  \n",
      "26191                  NaN         0.0  \n",
      "26192                  NaN         0.0  \n",
      "26193                  NaN         0.0  \n",
      "26194                  NaN         0.0  \n",
      "\n",
      "[26195 rows x 10 columns]\n"
     ]
    }
   ],
   "source": [
    "# Merge the combined API data with the PostgreSQL data\n",
    "merged_data = pd.merge(api_data_relevant, metacritic_data, on=['title', 'released', 'genres', 'platforms', 'rating', 'ratings_count'], how='outer')\n",
    "\n",
    "# Display rows with NaN values to understand the mismatches\n",
    "nan_rows = merged_data[merged_data.isna().any(axis=1)]\n",
    "print(\"Rows with NaN values:\")\n",
    "print(nan_rows)"
   ]
  },
  {
   "cell_type": "code",
   "execution_count": 463,
   "metadata": {},
   "outputs": [
    {
     "name": "stdout",
     "output_type": "stream",
     "text": [
      "Merged Data:\n"
     ]
    },
    {
     "data": {
      "text/html": [
       "<div>\n",
       "<style scoped>\n",
       "    .dataframe tbody tr th:only-of-type {\n",
       "        vertical-align: middle;\n",
       "    }\n",
       "\n",
       "    .dataframe tbody tr th {\n",
       "        vertical-align: top;\n",
       "    }\n",
       "\n",
       "    .dataframe thead th {\n",
       "        text-align: right;\n",
       "    }\n",
       "</style>\n",
       "<table border=\"1\" class=\"dataframe\">\n",
       "  <thead>\n",
       "    <tr style=\"text-align: right;\">\n",
       "      <th></th>\n",
       "      <th>title</th>\n",
       "      <th>released</th>\n",
       "      <th>rating</th>\n",
       "      <th>ratings_count</th>\n",
       "      <th>metacritic_score</th>\n",
       "      <th>genres</th>\n",
       "      <th>platforms</th>\n",
       "      <th>developer</th>\n",
       "      <th>publisher</th>\n",
       "      <th>user score</th>\n",
       "    </tr>\n",
       "  </thead>\n",
       "  <tbody>\n",
       "    <tr>\n",
       "      <th>0</th>\n",
       "      <td>\"GLOW BALL\"  THE BILLIARD PUZZLE GAME</td>\n",
       "      <td>2015-07-20</td>\n",
       "      <td>NaN</td>\n",
       "      <td>4</td>\n",
       "      <td>NaN</td>\n",
       "      <td>STRATEGY</td>\n",
       "      <td>PC</td>\n",
       "      <td>NaN</td>\n",
       "      <td>NaN</td>\n",
       "      <td>NaN</td>\n",
       "    </tr>\n",
       "    <tr>\n",
       "      <th>1</th>\n",
       "      <td>'SPLOSION MAN</td>\n",
       "      <td>2009-07-22</td>\n",
       "      <td>RATED E +10 FOR EVERYONE +10</td>\n",
       "      <td>91</td>\n",
       "      <td>NaN</td>\n",
       "      <td>2D PLATFORMER</td>\n",
       "      <td>XBOX 360</td>\n",
       "      <td>TWISTED PIXEL GAMES</td>\n",
       "      <td>TWISTED PIXEL GAMES</td>\n",
       "      <td>7.3</td>\n",
       "    </tr>\n",
       "    <tr>\n",
       "      <th>2</th>\n",
       "      <td>0 DAY ATTACK ON EARTH</td>\n",
       "      <td>2009-12-23</td>\n",
       "      <td>RATED E +10 FOR EVERYONE +10</td>\n",
       "      <td>8</td>\n",
       "      <td>NaN</td>\n",
       "      <td>THIRD PERSON SHOOTER</td>\n",
       "      <td>XBOX 360</td>\n",
       "      <td>GULTI</td>\n",
       "      <td>SQUARE ENIX</td>\n",
       "      <td>5.9</td>\n",
       "    </tr>\n",
       "    <tr>\n",
       "      <th>3</th>\n",
       "      <td>007 LEGENDS</td>\n",
       "      <td>2012-10-16</td>\n",
       "      <td>RATED T FOR TEEN</td>\n",
       "      <td>44</td>\n",
       "      <td>37.0</td>\n",
       "      <td>ACTION</td>\n",
       "      <td>WII U</td>\n",
       "      <td>NaN</td>\n",
       "      <td>NaN</td>\n",
       "      <td>NaN</td>\n",
       "    </tr>\n",
       "    <tr>\n",
       "      <th>4</th>\n",
       "      <td>007 LEGENDS</td>\n",
       "      <td>2012-10-16</td>\n",
       "      <td>RATED T FOR TEEN</td>\n",
       "      <td>84</td>\n",
       "      <td>NaN</td>\n",
       "      <td>FPS</td>\n",
       "      <td>XBOX 360</td>\n",
       "      <td>EUROCOM</td>\n",
       "      <td>ACTIVISION</td>\n",
       "      <td>4.5</td>\n",
       "    </tr>\n",
       "  </tbody>\n",
       "</table>\n",
       "</div>"
      ],
      "text/plain": [
       "                                   title    released  \\\n",
       "0  \"GLOW BALL\"  THE BILLIARD PUZZLE GAME  2015-07-20   \n",
       "1                          'SPLOSION MAN  2009-07-22   \n",
       "2                  0 DAY ATTACK ON EARTH  2009-12-23   \n",
       "3                            007 LEGENDS  2012-10-16   \n",
       "4                            007 LEGENDS  2012-10-16   \n",
       "\n",
       "                         rating  ratings_count  metacritic_score  \\\n",
       "0                           NaN              4               NaN   \n",
       "1  RATED E +10 FOR EVERYONE +10             91               NaN   \n",
       "2  RATED E +10 FOR EVERYONE +10              8               NaN   \n",
       "3              RATED T FOR TEEN             44              37.0   \n",
       "4              RATED T FOR TEEN             84               NaN   \n",
       "\n",
       "                 genres platforms            developer            publisher  \\\n",
       "0              STRATEGY        PC                  NaN                  NaN   \n",
       "1         2D PLATFORMER  XBOX 360  TWISTED PIXEL GAMES  TWISTED PIXEL GAMES   \n",
       "2  THIRD PERSON SHOOTER  XBOX 360                GULTI          SQUARE ENIX   \n",
       "3                ACTION     WII U                  NaN                  NaN   \n",
       "4                   FPS  XBOX 360              EUROCOM           ACTIVISION   \n",
       "\n",
       "   user score  \n",
       "0         NaN  \n",
       "1         7.3  \n",
       "2         5.9  \n",
       "3         NaN  \n",
       "4         4.5  "
      ]
     },
     "execution_count": 463,
     "metadata": {},
     "output_type": "execute_result"
    }
   ],
   "source": [
    "# Display merged data\n",
    "print(\"Merged Data:\")\n",
    "merged_data.head()"
   ]
  },
  {
   "cell_type": "code",
   "execution_count": 464,
   "metadata": {},
   "outputs": [],
   "source": [
    "merged_data.drop(columns=['metacritic_score', 'user score', 'developer', 'publisher'], inplace=True)"
   ]
  },
  {
   "cell_type": "code",
   "execution_count": 465,
   "metadata": {},
   "outputs": [
    {
     "data": {
      "text/html": [
       "<div>\n",
       "<style scoped>\n",
       "    .dataframe tbody tr th:only-of-type {\n",
       "        vertical-align: middle;\n",
       "    }\n",
       "\n",
       "    .dataframe tbody tr th {\n",
       "        vertical-align: top;\n",
       "    }\n",
       "\n",
       "    .dataframe thead th {\n",
       "        text-align: right;\n",
       "    }\n",
       "</style>\n",
       "<table border=\"1\" class=\"dataframe\">\n",
       "  <thead>\n",
       "    <tr style=\"text-align: right;\">\n",
       "      <th></th>\n",
       "      <th>title</th>\n",
       "      <th>released</th>\n",
       "      <th>rating</th>\n",
       "      <th>ratings_count</th>\n",
       "      <th>genres</th>\n",
       "      <th>platforms</th>\n",
       "    </tr>\n",
       "  </thead>\n",
       "  <tbody>\n",
       "    <tr>\n",
       "      <th>0</th>\n",
       "      <td>\"GLOW BALL\"  THE BILLIARD PUZZLE GAME</td>\n",
       "      <td>2015-07-20</td>\n",
       "      <td>NaN</td>\n",
       "      <td>4</td>\n",
       "      <td>STRATEGY</td>\n",
       "      <td>PC</td>\n",
       "    </tr>\n",
       "    <tr>\n",
       "      <th>1</th>\n",
       "      <td>'SPLOSION MAN</td>\n",
       "      <td>2009-07-22</td>\n",
       "      <td>RATED E +10 FOR EVERYONE +10</td>\n",
       "      <td>91</td>\n",
       "      <td>2D PLATFORMER</td>\n",
       "      <td>XBOX 360</td>\n",
       "    </tr>\n",
       "    <tr>\n",
       "      <th>2</th>\n",
       "      <td>0 DAY ATTACK ON EARTH</td>\n",
       "      <td>2009-12-23</td>\n",
       "      <td>RATED E +10 FOR EVERYONE +10</td>\n",
       "      <td>8</td>\n",
       "      <td>THIRD PERSON SHOOTER</td>\n",
       "      <td>XBOX 360</td>\n",
       "    </tr>\n",
       "    <tr>\n",
       "      <th>3</th>\n",
       "      <td>007 LEGENDS</td>\n",
       "      <td>2012-10-16</td>\n",
       "      <td>RATED T FOR TEEN</td>\n",
       "      <td>44</td>\n",
       "      <td>ACTION</td>\n",
       "      <td>WII U</td>\n",
       "    </tr>\n",
       "    <tr>\n",
       "      <th>4</th>\n",
       "      <td>007 LEGENDS</td>\n",
       "      <td>2012-10-16</td>\n",
       "      <td>RATED T FOR TEEN</td>\n",
       "      <td>84</td>\n",
       "      <td>FPS</td>\n",
       "      <td>XBOX 360</td>\n",
       "    </tr>\n",
       "  </tbody>\n",
       "</table>\n",
       "</div>"
      ],
      "text/plain": [
       "                                   title    released  \\\n",
       "0  \"GLOW BALL\"  THE BILLIARD PUZZLE GAME  2015-07-20   \n",
       "1                          'SPLOSION MAN  2009-07-22   \n",
       "2                  0 DAY ATTACK ON EARTH  2009-12-23   \n",
       "3                            007 LEGENDS  2012-10-16   \n",
       "4                            007 LEGENDS  2012-10-16   \n",
       "\n",
       "                         rating  ratings_count                genres platforms  \n",
       "0                           NaN              4              STRATEGY        PC  \n",
       "1  RATED E +10 FOR EVERYONE +10             91         2D PLATFORMER  XBOX 360  \n",
       "2  RATED E +10 FOR EVERYONE +10              8  THIRD PERSON SHOOTER  XBOX 360  \n",
       "3              RATED T FOR TEEN             44                ACTION     WII U  \n",
       "4              RATED T FOR TEEN             84                   FPS  XBOX 360  "
      ]
     },
     "execution_count": 465,
     "metadata": {},
     "output_type": "execute_result"
    }
   ],
   "source": [
    "merged_data.head()"
   ]
  },
  {
   "cell_type": "code",
   "execution_count": 466,
   "metadata": {},
   "outputs": [
    {
     "name": "stdout",
     "output_type": "stream",
     "text": [
      "Merged data saved to 'merged_data.csv'\n"
     ]
    }
   ],
   "source": [
    "merged_data.to_csv('../data/merged_data.csv', index=False)\n",
    "print(\"Merged data saved to 'merged_data.csv'\")"
   ]
  },
  {
   "cell_type": "code",
   "execution_count": 467,
   "metadata": {},
   "outputs": [
    {
     "name": "stdout",
     "output_type": "stream",
     "text": [
      "Rows with NaN values:\n",
      "                                       title    released rating  \\\n",
      "0      \"GLOW BALL\"  THE BILLIARD PUZZLE GAME  2015-07-20    NaN   \n",
      "10                                 0RBITALIS  2015-05-28    NaN   \n",
      "11                                 0RBITALIS  2015-05-28    NaN   \n",
      "13              1 MOMENT OF TIME SILENTVILLE  2016-07-22    NaN   \n",
      "14                                    1 RIDE  2016-07-28    NaN   \n",
      "...                                      ...         ...    ...   \n",
      "26190                                    NaN         NaT    NaN   \n",
      "26191                                    NaN         NaT    NaN   \n",
      "26192                                    NaN         NaT    NaN   \n",
      "26193                                    NaN         NaT    NaN   \n",
      "26194                                    NaN         NaT    NaN   \n",
      "\n",
      "       ratings_count         genres platforms  \n",
      "0                  4       STRATEGY        PC  \n",
      "10                 5  ACTION PUZZLE        PC  \n",
      "11                 7     SIMULATION     MACOS  \n",
      "13                 7      ADVENTURE     MACOS  \n",
      "14                15         ACTION        PC  \n",
      "...              ...            ...       ...  \n",
      "26190              0            NaN       NaN  \n",
      "26191              0            NaN       NaN  \n",
      "26192              0            NaN       NaN  \n",
      "26193              0            NaN       NaN  \n",
      "26194              0            NaN       NaN  \n",
      "\n",
      "[11488 rows x 6 columns]\n"
     ]
    }
   ],
   "source": [
    "# Display rows with NaN values to understand the mismatches\n",
    "nan_rows = merged_data[merged_data.isna().any(axis=1)]\n",
    "print(\"Rows with NaN values:\")\n",
    "print(nan_rows)"
   ]
  },
  {
   "cell_type": "code",
   "execution_count": 468,
   "metadata": {},
   "outputs": [
    {
     "name": "stdout",
     "output_type": "stream",
     "text": [
      "Cleaned Merged Data:\n",
      "                   title    released                        rating  \\\n",
      "1          'SPLOSION MAN  2009-07-22  RATED E +10 FOR EVERYONE +10   \n",
      "2  0 DAY ATTACK ON EARTH  2009-12-23  RATED E +10 FOR EVERYONE +10   \n",
      "3            007 LEGENDS  2012-10-16              RATED T FOR TEEN   \n",
      "4            007 LEGENDS  2012-10-16              RATED T FOR TEEN   \n",
      "5          007 NIGHTFIRE  2002-11-18              RATED T FOR TEEN   \n",
      "\n",
      "   ratings_count                genres platforms  \n",
      "1             91         2D PLATFORMER  XBOX 360  \n",
      "2              8  THIRD PERSON SHOOTER  XBOX 360  \n",
      "3             44                ACTION     WII U  \n",
      "4             84                   FPS  XBOX 360  \n",
      "5             20                   FPS  GAMECUBE  \n"
     ]
    }
   ],
   "source": [
    "# Drop rows with NaN values\n",
    "cleaned_merged_data = merged_data.dropna()\n",
    "\n",
    "# Display cleaned merged data\n",
    "print(\"Cleaned Merged Data:\")\n",
    "print(cleaned_merged_data.head())"
   ]
  },
  {
   "cell_type": "code",
   "execution_count": 469,
   "metadata": {},
   "outputs": [],
   "source": [
    "# Drop rows with NaN values\n",
    "cleaned_merged_data = merged_data.dropna()"
   ]
  },
  {
   "cell_type": "code",
   "execution_count": 470,
   "metadata": {},
   "outputs": [
    {
     "name": "stdout",
     "output_type": "stream",
     "text": [
      "<class 'pandas.core.frame.DataFrame'>\n",
      "Index: 14707 entries, 1 to 26152\n",
      "Data columns (total 6 columns):\n",
      " #   Column         Non-Null Count  Dtype \n",
      "---  ------         --------------  ----- \n",
      " 0   title          14707 non-null  object\n",
      " 1   released       14707 non-null  object\n",
      " 2   rating         14707 non-null  object\n",
      " 3   ratings_count  14707 non-null  int64 \n",
      " 4   genres         14707 non-null  object\n",
      " 5   platforms      14707 non-null  object\n",
      "dtypes: int64(1), object(5)\n",
      "memory usage: 804.3+ KB\n"
     ]
    }
   ],
   "source": [
    "cleaned_merged_data.info()"
   ]
  }
 ],
 "metadata": {
  "kernelspec": {
   "display_name": "Python 3 (ipykernel)",
   "language": "python",
   "name": "python3"
  },
  "language_info": {
   "codemirror_mode": {
    "name": "ipython",
    "version": 3
   },
   "file_extension": ".py",
   "mimetype": "text/x-python",
   "name": "python",
   "nbconvert_exporter": "python",
   "pygments_lexer": "ipython3",
   "version": "3.12.2"
  }
 },
 "nbformat": 4,
 "nbformat_minor": 4
}
