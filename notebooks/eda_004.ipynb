{
 "cells": [
  {
   "cell_type": "markdown",
   "metadata": {},
   "source": [
    "# MERGE DATASET - API DATA"
   ]
  },
  {
   "cell_type": "markdown",
   "metadata": {},
   "source": [
    "### Libreries used"
   ]
  },
  {
   "cell_type": "code",
   "execution_count": 33,
   "metadata": {},
   "outputs": [],
   "source": [
    "import matplotlib.pyplot as plt\n",
    "import pandas as pd\n",
    "import seaborn as sns\n",
    "from sqlalchemy import create_engine\n",
    "import psycopg2\n",
    "import sys\n",
    "import os"
   ]
  },
  {
   "cell_type": "markdown",
   "metadata": {},
   "source": [
    "## Connection to database"
   ]
  },
  {
   "cell_type": "code",
   "execution_count": 34,
   "metadata": {},
   "outputs": [
    {
     "name": "stdout",
     "output_type": "stream",
     "text": [
      "Reading configuration from ../otherconfig/database.ini\n",
      "Database connection successful.\n"
     ]
    }
   ],
   "source": [
    "sys.path.append('../otherconfig/')\n",
    "from dbconfig import configuration\n",
    "\n",
    "config = configuration('../otherconfig/database.ini')\n",
    "db_url = f\"postgresql+psycopg2://{config['user']}:{config['password']}@{config['host']}/{config['database']}\"\n",
    "engine = create_engine(db_url)\n",
    "\n",
    "try:\n",
    "    conn = engine.connect()\n",
    "    print(\"Database connection successful.\")\n",
    "except Exception as e:\n",
    "    print(\"Database connection failed:\", e)\n",
    "    sys.exit(1)\n"
   ]
  },
  {
   "cell_type": "markdown",
   "metadata": {},
   "source": [
    "Next, this part will be for the practical use of the dags and the follow-up of the steps."
   ]
  },
  {
   "cell_type": "markdown",
   "metadata": {},
   "source": [
    "### Load the CSV data into a DataFrame"
   ]
  },
  {
   "cell_type": "code",
   "execution_count": 35,
   "metadata": {},
   "outputs": [
    {
     "name": "stdout",
     "output_type": "stream",
     "text": [
      "CSV data loaded successfully with 14055 records.\n"
     ]
    }
   ],
   "source": [
    "metacritic_data_path = '../data/metacritic_data.csv'\n",
    "try:\n",
    "    metacritic_data = pd.read_csv(metacritic_data_path)\n",
    "    print(f\"CSV data loaded successfully with {len(metacritic_data)} records.\")\n",
    "except Exception as e:\n",
    "    print(\"Failed to load CSV data:\", e)\n",
    "    sys.exit(1)"
   ]
  },
  {
   "cell_type": "markdown",
   "metadata": {},
   "source": [
    "### Load data into PostgreSQL database"
   ]
  },
  {
   "cell_type": "code",
   "execution_count": 36,
   "metadata": {},
   "outputs": [
    {
     "name": "stdout",
     "output_type": "stream",
     "text": [
      "Data loaded into the PostgreSQL database successfully.\n"
     ]
    }
   ],
   "source": [
    "try:\n",
    "    metacritic_data.to_sql('metacritic_data', conn, if_exists='replace', index=False)\n",
    "    print(\"Data loaded into the PostgreSQL database successfully.\")\n",
    "except Exception as e:\n",
    "    print(\"Failed to load data into the PostgreSQL database:\", e)\n",
    "    sys.exit(1)"
   ]
  },
  {
   "cell_type": "markdown",
   "metadata": {},
   "source": [
    "## API DATA"
   ]
  },
  {
   "cell_type": "markdown",
   "metadata": {},
   "source": [
    "#### List of CSV files"
   ]
  },
  {
   "cell_type": "code",
   "execution_count": 37,
   "metadata": {},
   "outputs": [],
   "source": [
    "api_data_path = '../data/'\n",
    "csv_files = [os.path.join(api_data_path, f'api_data_{i}.csv') for i in range(1, 14)]"
   ]
  },
  {
   "cell_type": "markdown",
   "metadata": {},
   "source": [
    "#### Store DataFrames"
   ]
  },
  {
   "cell_type": "code",
   "execution_count": 38,
   "metadata": {},
   "outputs": [
    {
     "name": "stdout",
     "output_type": "stream",
     "text": [
      "Loaded ../data/api_data_1.csv successfully with 1000 records.\n",
      "Loaded ../data/api_data_2.csv successfully with 1000 records.\n",
      "Loaded ../data/api_data_3.csv successfully with 900 records.\n",
      "Loaded ../data/api_data_4.csv successfully with 240 records.\n",
      "Loaded ../data/api_data_5.csv successfully with 1000 records.\n",
      "Loaded ../data/api_data_6.csv successfully with 1000 records.\n",
      "Loaded ../data/api_data_7.csv successfully with 1000 records.\n",
      "Loaded ../data/api_data_8.csv successfully with 1000 records.\n",
      "Loaded ../data/api_data_9.csv successfully with 1000 records.\n",
      "Loaded ../data/api_data_10.csv successfully with 1000 records.\n",
      "Loaded ../data/api_data_11.csv successfully with 1000 records.\n",
      "Loaded ../data/api_data_12.csv successfully with 1000 records.\n",
      "Loaded ../data/api_data_13.csv successfully with 1000 records.\n"
     ]
    }
   ],
   "source": [
    "dataframes = []\n",
    "for file in csv_files:\n",
    "    try:\n",
    "        df = pd.read_csv(file)\n",
    "        dataframes.append(df)\n",
    "        print(f\"Loaded {file} successfully with {len(df)} records.\")\n",
    "    except Exception as e:\n",
    "        print(f\"Failed to load {file}:\", e)\n",
    "        sys.exit(1)"
   ]
  },
  {
   "cell_type": "markdown",
   "metadata": {},
   "source": [
    "#### Concatenate all DataFrames into a single DataFrame"
   ]
  },
  {
   "cell_type": "code",
   "execution_count": 39,
   "metadata": {},
   "outputs": [
    {
     "name": "stdout",
     "output_type": "stream",
     "text": [
      "Combined API data has 12140 records.\n"
     ]
    }
   ],
   "source": [
    "combined_api_data = pd.concat(dataframes, ignore_index=True)\n",
    "print(f\"Combined API data has {len(combined_api_data)} records.\")"
   ]
  },
  {
   "cell_type": "code",
   "execution_count": 40,
   "metadata": {},
   "outputs": [
    {
     "name": "stdout",
     "output_type": "stream",
     "text": [
      "Combined API data saved to 'api_data.csv'\n"
     ]
    }
   ],
   "source": [
    "combined_api_data.to_csv('../data/api_data.csv', index=False)\n",
    "print(\"Combined API data saved to 'api_data.csv'\")"
   ]
  },
  {
   "cell_type": "markdown",
   "metadata": {},
   "source": [
    "## General description"
   ]
  },
  {
   "cell_type": "code",
   "execution_count": 41,
   "metadata": {},
   "outputs": [
    {
     "data": {
      "text/html": [
       "<div>\n",
       "<style scoped>\n",
       "    .dataframe tbody tr th:only-of-type {\n",
       "        vertical-align: middle;\n",
       "    }\n",
       "\n",
       "    .dataframe tbody tr th {\n",
       "        vertical-align: top;\n",
       "    }\n",
       "\n",
       "    .dataframe thead th {\n",
       "        text-align: right;\n",
       "    }\n",
       "</style>\n",
       "<table border=\"1\" class=\"dataframe\">\n",
       "  <thead>\n",
       "    <tr style=\"text-align: right;\">\n",
       "      <th></th>\n",
       "      <th>id</th>\n",
       "      <th>slug</th>\n",
       "      <th>name</th>\n",
       "      <th>released</th>\n",
       "      <th>tba</th>\n",
       "      <th>background_image</th>\n",
       "      <th>rating</th>\n",
       "      <th>rating_top</th>\n",
       "      <th>ratings</th>\n",
       "      <th>ratings_count</th>\n",
       "      <th>...</th>\n",
       "      <th>dominant_color</th>\n",
       "      <th>platforms</th>\n",
       "      <th>parent_platforms</th>\n",
       "      <th>genres</th>\n",
       "      <th>stores</th>\n",
       "      <th>clip</th>\n",
       "      <th>tags</th>\n",
       "      <th>esrb_rating</th>\n",
       "      <th>short_screenshots</th>\n",
       "      <th>community_rating</th>\n",
       "    </tr>\n",
       "  </thead>\n",
       "  <tbody>\n",
       "    <tr>\n",
       "      <th>0</th>\n",
       "      <td>9907</td>\n",
       "      <td>pictopix</td>\n",
       "      <td>Pictopix</td>\n",
       "      <td>2017-01-05</td>\n",
       "      <td>False</td>\n",
       "      <td>https://media.rawg.io/media/screenshots/ff0/ff...</td>\n",
       "      <td>3.96</td>\n",
       "      <td>4</td>\n",
       "      <td>[{'id': 4, 'title': 'recommended', 'count': 20...</td>\n",
       "      <td>24</td>\n",
       "      <td>...</td>\n",
       "      <td>0f0f0f</td>\n",
       "      <td>[{'platform': {'id': 4, 'name': 'PC', 'slug': ...</td>\n",
       "      <td>[{'platform': {'id': 1, 'name': 'PC', 'slug': ...</td>\n",
       "      <td>[{'id': 40, 'name': 'Casual', 'slug': 'casual'...</td>\n",
       "      <td>[{'id': 10805, 'store': {'id': 1, 'name': 'Ste...</td>\n",
       "      <td>NaN</td>\n",
       "      <td>[{'id': 31, 'name': 'Singleplayer', 'slug': 's...</td>\n",
       "      <td>NaN</td>\n",
       "      <td>[{'id': -1, 'image': 'https://media.rawg.io/me...</td>\n",
       "      <td>NaN</td>\n",
       "    </tr>\n",
       "    <tr>\n",
       "      <th>1</th>\n",
       "      <td>4119</td>\n",
       "      <td>chronovolt</td>\n",
       "      <td>Chronovolt</td>\n",
       "      <td>2012-11-21</td>\n",
       "      <td>False</td>\n",
       "      <td>https://media.rawg.io/media/games/8dc/8dc50d62...</td>\n",
       "      <td>2.55</td>\n",
       "      <td>3</td>\n",
       "      <td>[{'id': 3, 'title': 'meh', 'count': 11, 'perce...</td>\n",
       "      <td>20</td>\n",
       "      <td>...</td>\n",
       "      <td>0f0f0f</td>\n",
       "      <td>[{'platform': {'id': 19, 'name': 'PS Vita', 's...</td>\n",
       "      <td>[{'platform': {'id': 2, 'name': 'PlayStation',...</td>\n",
       "      <td>[{'id': 4, 'name': 'Action', 'slug': 'action',...</td>\n",
       "      <td>[{'id': 4440, 'store': {'id': 3, 'name': 'Play...</td>\n",
       "      <td>NaN</td>\n",
       "      <td>[{'id': 37796, 'name': 'exclusive', 'slug': 'e...</td>\n",
       "      <td>{'id': 1, 'name': 'Everyone', 'slug': 'everyone'}</td>\n",
       "      <td>[{'id': -1, 'image': 'https://media.rawg.io/me...</td>\n",
       "      <td>NaN</td>\n",
       "    </tr>\n",
       "    <tr>\n",
       "      <th>2</th>\n",
       "      <td>3935</td>\n",
       "      <td>breakquest-extra-evolution</td>\n",
       "      <td>BreakQuest: Extra Evolution</td>\n",
       "      <td>2012-10-16</td>\n",
       "      <td>False</td>\n",
       "      <td>https://media.rawg.io/media/screenshots/4e3/4e...</td>\n",
       "      <td>2.60</td>\n",
       "      <td>3</td>\n",
       "      <td>[{'id': 3, 'title': 'meh', 'count': 10, 'perce...</td>\n",
       "      <td>20</td>\n",
       "      <td>...</td>\n",
       "      <td>0f0f0f</td>\n",
       "      <td>[{'platform': {'id': 16, 'name': 'PlayStation ...</td>\n",
       "      <td>[{'platform': {'id': 2, 'name': 'PlayStation',...</td>\n",
       "      <td>[{'id': 11, 'name': 'Arcade', 'slug': 'arcade'...</td>\n",
       "      <td>[{'id': 4253, 'store': {'id': 3, 'name': 'Play...</td>\n",
       "      <td>NaN</td>\n",
       "      <td>[{'id': 114, 'name': 'Physics', 'slug': 'physi...</td>\n",
       "      <td>{'id': 2, 'name': 'Everyone 10+', 'slug': 'eve...</td>\n",
       "      <td>[{'id': -1, 'image': 'https://media.rawg.io/me...</td>\n",
       "      <td>NaN</td>\n",
       "    </tr>\n",
       "    <tr>\n",
       "      <th>3</th>\n",
       "      <td>1991</td>\n",
       "      <td>killallzombies-2</td>\n",
       "      <td>#KILLALLZOMBIES</td>\n",
       "      <td>2014-10-28</td>\n",
       "      <td>False</td>\n",
       "      <td>https://media.rawg.io/media/screenshots/675/67...</td>\n",
       "      <td>2.36</td>\n",
       "      <td>1</td>\n",
       "      <td>[{'id': 1, 'title': 'skip', 'count': 5, 'perce...</td>\n",
       "      <td>11</td>\n",
       "      <td>...</td>\n",
       "      <td>0f0f0f</td>\n",
       "      <td>[{'platform': {'id': 1, 'name': 'Xbox One', 's...</td>\n",
       "      <td>[{'platform': {'id': 1, 'name': 'PC', 'slug': ...</td>\n",
       "      <td>[{'id': 4, 'name': 'Action', 'slug': 'action',...</td>\n",
       "      <td>[{'id': 2061, 'store': {'id': 2, 'name': 'Xbox...</td>\n",
       "      <td>NaN</td>\n",
       "      <td>[{'id': 31, 'name': 'Singleplayer', 'slug': 's...</td>\n",
       "      <td>NaN</td>\n",
       "      <td>[{'id': -1, 'image': 'https://media.rawg.io/me...</td>\n",
       "      <td>NaN</td>\n",
       "    </tr>\n",
       "    <tr>\n",
       "      <th>4</th>\n",
       "      <td>979</td>\n",
       "      <td>tethered</td>\n",
       "      <td>Tethered</td>\n",
       "      <td>2016-10-25</td>\n",
       "      <td>False</td>\n",
       "      <td>https://media.rawg.io/media/screenshots/1e6/1e...</td>\n",
       "      <td>2.75</td>\n",
       "      <td>4</td>\n",
       "      <td>[{'id': 4, 'title': 'recommended', 'count': 5,...</td>\n",
       "      <td>12</td>\n",
       "      <td>...</td>\n",
       "      <td>0f0f0f</td>\n",
       "      <td>[{'platform': {'id': 18, 'name': 'PlayStation ...</td>\n",
       "      <td>[{'platform': {'id': 1, 'name': 'PC', 'slug': ...</td>\n",
       "      <td>[{'id': 3, 'name': 'Adventure', 'slug': 'adven...</td>\n",
       "      <td>[{'id': 1002, 'store': {'id': 3, 'name': 'Play...</td>\n",
       "      <td>NaN</td>\n",
       "      <td>[{'id': 31, 'name': 'Singleplayer', 'slug': 's...</td>\n",
       "      <td>{'id': 2, 'name': 'Everyone 10+', 'slug': 'eve...</td>\n",
       "      <td>[{'id': -1, 'image': 'https://media.rawg.io/me...</td>\n",
       "      <td>NaN</td>\n",
       "    </tr>\n",
       "  </tbody>\n",
       "</table>\n",
       "<p>5 rows × 30 columns</p>\n",
       "</div>"
      ],
      "text/plain": [
       "     id                        slug                         name    released  \\\n",
       "0  9907                    pictopix                     Pictopix  2017-01-05   \n",
       "1  4119                  chronovolt                   Chronovolt  2012-11-21   \n",
       "2  3935  breakquest-extra-evolution  BreakQuest: Extra Evolution  2012-10-16   \n",
       "3  1991            killallzombies-2              #KILLALLZOMBIES  2014-10-28   \n",
       "4   979                    tethered                     Tethered  2016-10-25   \n",
       "\n",
       "     tba                                   background_image  rating  \\\n",
       "0  False  https://media.rawg.io/media/screenshots/ff0/ff...    3.96   \n",
       "1  False  https://media.rawg.io/media/games/8dc/8dc50d62...    2.55   \n",
       "2  False  https://media.rawg.io/media/screenshots/4e3/4e...    2.60   \n",
       "3  False  https://media.rawg.io/media/screenshots/675/67...    2.36   \n",
       "4  False  https://media.rawg.io/media/screenshots/1e6/1e...    2.75   \n",
       "\n",
       "   rating_top                                            ratings  \\\n",
       "0           4  [{'id': 4, 'title': 'recommended', 'count': 20...   \n",
       "1           3  [{'id': 3, 'title': 'meh', 'count': 11, 'perce...   \n",
       "2           3  [{'id': 3, 'title': 'meh', 'count': 10, 'perce...   \n",
       "3           1  [{'id': 1, 'title': 'skip', 'count': 5, 'perce...   \n",
       "4           4  [{'id': 4, 'title': 'recommended', 'count': 5,...   \n",
       "\n",
       "   ratings_count  ...  dominant_color  \\\n",
       "0             24  ...          0f0f0f   \n",
       "1             20  ...          0f0f0f   \n",
       "2             20  ...          0f0f0f   \n",
       "3             11  ...          0f0f0f   \n",
       "4             12  ...          0f0f0f   \n",
       "\n",
       "                                           platforms  \\\n",
       "0  [{'platform': {'id': 4, 'name': 'PC', 'slug': ...   \n",
       "1  [{'platform': {'id': 19, 'name': 'PS Vita', 's...   \n",
       "2  [{'platform': {'id': 16, 'name': 'PlayStation ...   \n",
       "3  [{'platform': {'id': 1, 'name': 'Xbox One', 's...   \n",
       "4  [{'platform': {'id': 18, 'name': 'PlayStation ...   \n",
       "\n",
       "                                    parent_platforms  \\\n",
       "0  [{'platform': {'id': 1, 'name': 'PC', 'slug': ...   \n",
       "1  [{'platform': {'id': 2, 'name': 'PlayStation',...   \n",
       "2  [{'platform': {'id': 2, 'name': 'PlayStation',...   \n",
       "3  [{'platform': {'id': 1, 'name': 'PC', 'slug': ...   \n",
       "4  [{'platform': {'id': 1, 'name': 'PC', 'slug': ...   \n",
       "\n",
       "                                              genres  \\\n",
       "0  [{'id': 40, 'name': 'Casual', 'slug': 'casual'...   \n",
       "1  [{'id': 4, 'name': 'Action', 'slug': 'action',...   \n",
       "2  [{'id': 11, 'name': 'Arcade', 'slug': 'arcade'...   \n",
       "3  [{'id': 4, 'name': 'Action', 'slug': 'action',...   \n",
       "4  [{'id': 3, 'name': 'Adventure', 'slug': 'adven...   \n",
       "\n",
       "                                              stores  clip  \\\n",
       "0  [{'id': 10805, 'store': {'id': 1, 'name': 'Ste...   NaN   \n",
       "1  [{'id': 4440, 'store': {'id': 3, 'name': 'Play...   NaN   \n",
       "2  [{'id': 4253, 'store': {'id': 3, 'name': 'Play...   NaN   \n",
       "3  [{'id': 2061, 'store': {'id': 2, 'name': 'Xbox...   NaN   \n",
       "4  [{'id': 1002, 'store': {'id': 3, 'name': 'Play...   NaN   \n",
       "\n",
       "                                                tags  \\\n",
       "0  [{'id': 31, 'name': 'Singleplayer', 'slug': 's...   \n",
       "1  [{'id': 37796, 'name': 'exclusive', 'slug': 'e...   \n",
       "2  [{'id': 114, 'name': 'Physics', 'slug': 'physi...   \n",
       "3  [{'id': 31, 'name': 'Singleplayer', 'slug': 's...   \n",
       "4  [{'id': 31, 'name': 'Singleplayer', 'slug': 's...   \n",
       "\n",
       "                                         esrb_rating  \\\n",
       "0                                                NaN   \n",
       "1  {'id': 1, 'name': 'Everyone', 'slug': 'everyone'}   \n",
       "2  {'id': 2, 'name': 'Everyone 10+', 'slug': 'eve...   \n",
       "3                                                NaN   \n",
       "4  {'id': 2, 'name': 'Everyone 10+', 'slug': 'eve...   \n",
       "\n",
       "                                   short_screenshots community_rating  \n",
       "0  [{'id': -1, 'image': 'https://media.rawg.io/me...              NaN  \n",
       "1  [{'id': -1, 'image': 'https://media.rawg.io/me...              NaN  \n",
       "2  [{'id': -1, 'image': 'https://media.rawg.io/me...              NaN  \n",
       "3  [{'id': -1, 'image': 'https://media.rawg.io/me...              NaN  \n",
       "4  [{'id': -1, 'image': 'https://media.rawg.io/me...              NaN  \n",
       "\n",
       "[5 rows x 30 columns]"
      ]
     },
     "execution_count": 41,
     "metadata": {},
     "output_type": "execute_result"
    }
   ],
   "source": [
    "combined_api_data.head()"
   ]
  },
  {
   "cell_type": "code",
   "execution_count": 42,
   "metadata": {},
   "outputs": [
    {
     "name": "stdout",
     "output_type": "stream",
     "text": [
      "<class 'pandas.core.frame.DataFrame'>\n",
      "RangeIndex: 12140 entries, 0 to 12139\n",
      "Data columns (total 30 columns):\n",
      " #   Column              Non-Null Count  Dtype  \n",
      "---  ------              --------------  -----  \n",
      " 0   id                  12140 non-null  int64  \n",
      " 1   slug                12140 non-null  object \n",
      " 2   name                12140 non-null  object \n",
      " 3   released            11881 non-null  object \n",
      " 4   tba                 12140 non-null  bool   \n",
      " 5   background_image    12120 non-null  object \n",
      " 6   rating              12140 non-null  float64\n",
      " 7   rating_top          12140 non-null  int64  \n",
      " 8   ratings             12140 non-null  object \n",
      " 9   ratings_count       12140 non-null  int64  \n",
      " 10  reviews_text_count  12140 non-null  int64  \n",
      " 11  added               12140 non-null  int64  \n",
      " 12  added_by_status     12140 non-null  object \n",
      " 13  metacritic          4628 non-null   float64\n",
      " 14  playtime            12140 non-null  int64  \n",
      " 15  suggestions_count   12140 non-null  int64  \n",
      " 16  updated             12140 non-null  object \n",
      " 17  user_game           0 non-null      float64\n",
      " 18  reviews_count       12140 non-null  int64  \n",
      " 19  saturated_color     12140 non-null  object \n",
      " 20  dominant_color      12140 non-null  object \n",
      " 21  platforms           12140 non-null  object \n",
      " 22  parent_platforms    12140 non-null  object \n",
      " 23  genres              12140 non-null  object \n",
      " 24  stores              12140 non-null  object \n",
      " 25  clip                0 non-null      float64\n",
      " 26  tags                12140 non-null  object \n",
      " 27  esrb_rating         4865 non-null   object \n",
      " 28  short_screenshots   12140 non-null  object \n",
      " 29  community_rating    1231 non-null   float64\n",
      "dtypes: bool(1), float64(5), int64(8), object(16)\n",
      "memory usage: 2.7+ MB\n"
     ]
    }
   ],
   "source": [
    "combined_api_data.info()"
   ]
  },
  {
   "cell_type": "code",
   "execution_count": 43,
   "metadata": {},
   "outputs": [
    {
     "data": {
      "text/html": [
       "<div>\n",
       "<style scoped>\n",
       "    .dataframe tbody tr th:only-of-type {\n",
       "        vertical-align: middle;\n",
       "    }\n",
       "\n",
       "    .dataframe tbody tr th {\n",
       "        vertical-align: top;\n",
       "    }\n",
       "\n",
       "    .dataframe thead th {\n",
       "        text-align: right;\n",
       "    }\n",
       "</style>\n",
       "<table border=\"1\" class=\"dataframe\">\n",
       "  <thead>\n",
       "    <tr style=\"text-align: right;\">\n",
       "      <th></th>\n",
       "      <th>Title</th>\n",
       "      <th>released</th>\n",
       "      <th>Developer</th>\n",
       "      <th>Publisher</th>\n",
       "      <th>Genres</th>\n",
       "      <th>rating</th>\n",
       "      <th>User Score</th>\n",
       "      <th>ratings_count</th>\n",
       "    </tr>\n",
       "  </thead>\n",
       "  <tbody>\n",
       "    <tr>\n",
       "      <th>0</th>\n",
       "      <td>ZIGGURAT</td>\n",
       "      <td>2012-02-17</td>\n",
       "      <td>ACTION BUTTON ENTERTAINMENT</td>\n",
       "      <td>FRESHUU INC.</td>\n",
       "      <td>ACTION</td>\n",
       "      <td>NaN</td>\n",
       "      <td>6.9</td>\n",
       "      <td>14</td>\n",
       "    </tr>\n",
       "    <tr>\n",
       "      <th>1</th>\n",
       "      <td>4X4 EVO 2</td>\n",
       "      <td>2001-11-15</td>\n",
       "      <td>TERMINAL REALITY</td>\n",
       "      <td>GATHERING</td>\n",
       "      <td>AUTO RACING SIM</td>\n",
       "      <td>RATED E FOR EVERYONE</td>\n",
       "      <td>0.0</td>\n",
       "      <td>0</td>\n",
       "    </tr>\n",
       "    <tr>\n",
       "      <th>2</th>\n",
       "      <td>MOTOGP 2</td>\n",
       "      <td>2002-01-22</td>\n",
       "      <td>NAMCO</td>\n",
       "      <td>NAMCO</td>\n",
       "      <td>AUTO RACING SIM</td>\n",
       "      <td>RATED E FOR EVERYONE</td>\n",
       "      <td>5.8</td>\n",
       "      <td>0</td>\n",
       "    </tr>\n",
       "    <tr>\n",
       "      <th>3</th>\n",
       "      <td>GOTHIC 3</td>\n",
       "      <td>2006-11-14</td>\n",
       "      <td>PIRANHA BYTES</td>\n",
       "      <td>ASPYR</td>\n",
       "      <td>WESTERN RPG</td>\n",
       "      <td>RATED T FOR TEEN</td>\n",
       "      <td>7.5</td>\n",
       "      <td>832</td>\n",
       "    </tr>\n",
       "    <tr>\n",
       "      <th>4</th>\n",
       "      <td>SIEGE SURVIVAL GLORIA VICTIS</td>\n",
       "      <td>2021-05-18</td>\n",
       "      <td>FISHTANKSTUDIO</td>\n",
       "      <td>BLACK EYE GAMES</td>\n",
       "      <td>RPG</td>\n",
       "      <td>NaN</td>\n",
       "      <td>6.5</td>\n",
       "      <td>10</td>\n",
       "    </tr>\n",
       "  </tbody>\n",
       "</table>\n",
       "</div>"
      ],
      "text/plain": [
       "                          Title    released                    Developer  \\\n",
       "0                     ZIGGURAT   2012-02-17  ACTION BUTTON ENTERTAINMENT   \n",
       "1                     4X4 EVO 2  2001-11-15             TERMINAL REALITY   \n",
       "2                     MOTOGP 2   2002-01-22                        NAMCO   \n",
       "3                      GOTHIC 3  2006-11-14                PIRANHA BYTES   \n",
       "4  SIEGE SURVIVAL GLORIA VICTIS  2021-05-18               FISHTANKSTUDIO   \n",
       "\n",
       "         Publisher           Genres                rating  User Score  \\\n",
       "0     FRESHUU INC.           ACTION                   NaN         6.9   \n",
       "1        GATHERING  AUTO RACING SIM  RATED E FOR EVERYONE         0.0   \n",
       "2            NAMCO  AUTO RACING SIM  RATED E FOR EVERYONE         5.8   \n",
       "3            ASPYR      WESTERN RPG      RATED T FOR TEEN         7.5   \n",
       "4  BLACK EYE GAMES              RPG                   NaN         6.5   \n",
       "\n",
       "   ratings_count  \n",
       "0             14  \n",
       "1              0  \n",
       "2              0  \n",
       "3            832  \n",
       "4             10  "
      ]
     },
     "execution_count": 43,
     "metadata": {},
     "output_type": "execute_result"
    }
   ],
   "source": [
    "metacritic_data.head()"
   ]
  },
  {
   "cell_type": "code",
   "execution_count": 44,
   "metadata": {},
   "outputs": [
    {
     "name": "stdout",
     "output_type": "stream",
     "text": [
      "<class 'pandas.core.frame.DataFrame'>\n",
      "RangeIndex: 14055 entries, 0 to 14054\n",
      "Data columns (total 8 columns):\n",
      " #   Column         Non-Null Count  Dtype  \n",
      "---  ------         --------------  -----  \n",
      " 0   Title          14034 non-null  object \n",
      " 1   released       13991 non-null  object \n",
      " 2   Developer      13917 non-null  object \n",
      " 3   Publisher      13917 non-null  object \n",
      " 4   Genres         14034 non-null  object \n",
      " 5   rating         11005 non-null  object \n",
      " 6   User Score     14055 non-null  float64\n",
      " 7   ratings_count  14055 non-null  int64  \n",
      "dtypes: float64(1), int64(1), object(6)\n",
      "memory usage: 878.6+ KB\n"
     ]
    }
   ],
   "source": [
    "metacritic_data.info()"
   ]
  },
  {
   "cell_type": "markdown",
   "metadata": {},
   "source": [
    "## Transformations and merge"
   ]
  },
  {
   "cell_type": "markdown",
   "metadata": {},
   "source": [
    "Genres in PostgreSQL are comma-separated strings, we will join API genres lists"
   ]
  },
  {
   "cell_type": "code",
   "execution_count": 48,
   "metadata": {},
   "outputs": [],
   "source": [
    "api_relevant_columns = [\n",
    "    'name', 'released', 'rating', 'ratings_count', 'metacritic', 'genres'\n",
    "]\n",
    "api_data_relevant = combined_api_data[api_relevant_columns].copy()\n",
    "\n",
    "api_data_relevant['genres'] = api_data_relevant['genres'].apply(\n",
    "    lambda x: ', '.join([genre['name'] for genre in eval(x)]) if pd.notnull(x) else x\n",
    ")"
   ]
  },
  {
   "cell_type": "markdown",
   "metadata": {},
   "source": [
    "Rename columns to match PostgreSQL data"
   ]
  },
  {
   "cell_type": "code",
   "execution_count": 49,
   "metadata": {},
   "outputs": [],
   "source": [
    "api_data_relevant.rename(columns={\n",
    "    'name': 'Title',\n",
    "    'rating': 'Rating',\n",
    "    'metacritic': 'Metacritic Score',\n",
    "    'ratings_count': 'Ratings Count'\n",
    "}, inplace=True)"
   ]
  },
  {
   "cell_type": "markdown",
   "metadata": {},
   "source": [
    "Merge the combined API data with the PostgreSQL data"
   ]
  },
  {
   "cell_type": "code",
   "execution_count": 52,
   "metadata": {},
   "outputs": [
    {
     "name": "stdout",
     "output_type": "stream",
     "text": [
      "API Data Relevant Columns: ['Title', 'released', 'Rating', 'Ratings Count', 'Metacritic Score', 'genres']\n",
      "Database Data Columns: ['Title', 'released', 'Developer', 'Publisher', 'Genres', 'rating', 'User Score', 'ratings_count']\n"
     ]
    }
   ],
   "source": [
    "# Debug: Display the column names of both DataFrames\n",
    "print(\"API Data Relevant Columns:\", api_data_relevant.columns.tolist())\n",
    "print(\"Database Data Columns:\", metacritic_data.columns.tolist())"
   ]
  },
  {
   "cell_type": "code",
   "execution_count": 53,
   "metadata": {},
   "outputs": [
    {
     "ename": "KeyError",
     "evalue": "'genres'",
     "output_type": "error",
     "traceback": [
      "\u001b[1;31m---------------------------------------------------------------------------\u001b[0m",
      "\u001b[1;31mKeyError\u001b[0m                                  Traceback (most recent call last)",
      "\u001b[1;32m~\\AppData\\Local\\Temp\\ipykernel_33268\\324575126.py\u001b[0m in \u001b[0;36m?\u001b[1;34m()\u001b[0m\n\u001b[0;32m      1\u001b[0m \u001b[1;31m# Merge the combined API data with the PostgreSQL data\u001b[0m\u001b[1;33m\u001b[0m\u001b[1;33m\u001b[0m\u001b[0m\n\u001b[1;32m----> 2\u001b[1;33m \u001b[0mmerged_data\u001b[0m \u001b[1;33m=\u001b[0m \u001b[0mpd\u001b[0m\u001b[1;33m.\u001b[0m\u001b[0mmerge\u001b[0m\u001b[1;33m(\u001b[0m\u001b[0mapi_data_relevant\u001b[0m\u001b[1;33m,\u001b[0m \u001b[0mmetacritic_data\u001b[0m\u001b[1;33m,\u001b[0m \u001b[0mon\u001b[0m\u001b[1;33m=\u001b[0m\u001b[1;33m[\u001b[0m\u001b[1;34m'Title'\u001b[0m\u001b[1;33m,\u001b[0m \u001b[1;34m'released'\u001b[0m\u001b[1;33m,\u001b[0m \u001b[1;34m'genres'\u001b[0m\u001b[1;33m]\u001b[0m\u001b[1;33m,\u001b[0m \u001b[0mhow\u001b[0m\u001b[1;33m=\u001b[0m\u001b[1;34m'outer'\u001b[0m\u001b[1;33m)\u001b[0m\u001b[1;33m\u001b[0m\u001b[1;33m\u001b[0m\u001b[0m\n\u001b[0m\u001b[0;32m      3\u001b[0m \u001b[1;33m\u001b[0m\u001b[0m\n\u001b[0;32m      4\u001b[0m \u001b[1;31m# Display merged data\u001b[0m\u001b[1;33m\u001b[0m\u001b[1;33m\u001b[0m\u001b[0m\n\u001b[0;32m      5\u001b[0m \u001b[0mprint\u001b[0m\u001b[1;33m(\u001b[0m\u001b[1;34m\"Merged Data:\"\u001b[0m\u001b[1;33m)\u001b[0m\u001b[1;33m\u001b[0m\u001b[1;33m\u001b[0m\u001b[0m\n",
      "\u001b[1;32mc:\\Users\\dayan\\OneDrive - Universidad Autonoma de Occidente\\ETL\\corte3\\ETL-Project\\Pj3\\Lib\\site-packages\\pandas\\core\\reshape\\merge.py\u001b[0m in \u001b[0;36m?\u001b[1;34m(left, right, how, on, left_on, right_on, left_index, right_index, sort, suffixes, copy, indicator, validate)\u001b[0m\n\u001b[0;32m    166\u001b[0m             \u001b[0mvalidate\u001b[0m\u001b[1;33m=\u001b[0m\u001b[0mvalidate\u001b[0m\u001b[1;33m,\u001b[0m\u001b[1;33m\u001b[0m\u001b[1;33m\u001b[0m\u001b[0m\n\u001b[0;32m    167\u001b[0m             \u001b[0mcopy\u001b[0m\u001b[1;33m=\u001b[0m\u001b[0mcopy\u001b[0m\u001b[1;33m,\u001b[0m\u001b[1;33m\u001b[0m\u001b[1;33m\u001b[0m\u001b[0m\n\u001b[0;32m    168\u001b[0m         \u001b[1;33m)\u001b[0m\u001b[1;33m\u001b[0m\u001b[1;33m\u001b[0m\u001b[0m\n\u001b[0;32m    169\u001b[0m     \u001b[1;32melse\u001b[0m\u001b[1;33m:\u001b[0m\u001b[1;33m\u001b[0m\u001b[1;33m\u001b[0m\u001b[0m\n\u001b[1;32m--> 170\u001b[1;33m         op = _MergeOperation(\n\u001b[0m\u001b[0;32m    171\u001b[0m             \u001b[0mleft_df\u001b[0m\u001b[1;33m,\u001b[0m\u001b[1;33m\u001b[0m\u001b[1;33m\u001b[0m\u001b[0m\n\u001b[0;32m    172\u001b[0m             \u001b[0mright_df\u001b[0m\u001b[1;33m,\u001b[0m\u001b[1;33m\u001b[0m\u001b[1;33m\u001b[0m\u001b[0m\n\u001b[0;32m    173\u001b[0m             \u001b[0mhow\u001b[0m\u001b[1;33m=\u001b[0m\u001b[0mhow\u001b[0m\u001b[1;33m,\u001b[0m\u001b[1;33m\u001b[0m\u001b[1;33m\u001b[0m\u001b[0m\n",
      "\u001b[1;32mc:\\Users\\dayan\\OneDrive - Universidad Autonoma de Occidente\\ETL\\corte3\\ETL-Project\\Pj3\\Lib\\site-packages\\pandas\\core\\reshape\\merge.py\u001b[0m in \u001b[0;36m?\u001b[1;34m(self, left, right, how, on, left_on, right_on, left_index, right_index, sort, suffixes, indicator, validate)\u001b[0m\n\u001b[0;32m    790\u001b[0m             \u001b[0mself\u001b[0m\u001b[1;33m.\u001b[0m\u001b[0mright_join_keys\u001b[0m\u001b[1;33m,\u001b[0m\u001b[1;33m\u001b[0m\u001b[1;33m\u001b[0m\u001b[0m\n\u001b[0;32m    791\u001b[0m             \u001b[0mself\u001b[0m\u001b[1;33m.\u001b[0m\u001b[0mjoin_names\u001b[0m\u001b[1;33m,\u001b[0m\u001b[1;33m\u001b[0m\u001b[1;33m\u001b[0m\u001b[0m\n\u001b[0;32m    792\u001b[0m             \u001b[0mleft_drop\u001b[0m\u001b[1;33m,\u001b[0m\u001b[1;33m\u001b[0m\u001b[1;33m\u001b[0m\u001b[0m\n\u001b[0;32m    793\u001b[0m             \u001b[0mright_drop\u001b[0m\u001b[1;33m,\u001b[0m\u001b[1;33m\u001b[0m\u001b[1;33m\u001b[0m\u001b[0m\n\u001b[1;32m--> 794\u001b[1;33m         \u001b[1;33m)\u001b[0m \u001b[1;33m=\u001b[0m \u001b[0mself\u001b[0m\u001b[1;33m.\u001b[0m\u001b[0m_get_merge_keys\u001b[0m\u001b[1;33m(\u001b[0m\u001b[1;33m)\u001b[0m\u001b[1;33m\u001b[0m\u001b[1;33m\u001b[0m\u001b[0m\n\u001b[0m\u001b[0;32m    795\u001b[0m \u001b[1;33m\u001b[0m\u001b[0m\n\u001b[0;32m    796\u001b[0m         \u001b[1;32mif\u001b[0m \u001b[0mleft_drop\u001b[0m\u001b[1;33m:\u001b[0m\u001b[1;33m\u001b[0m\u001b[1;33m\u001b[0m\u001b[0m\n\u001b[0;32m    797\u001b[0m             \u001b[0mself\u001b[0m\u001b[1;33m.\u001b[0m\u001b[0mleft\u001b[0m \u001b[1;33m=\u001b[0m \u001b[0mself\u001b[0m\u001b[1;33m.\u001b[0m\u001b[0mleft\u001b[0m\u001b[1;33m.\u001b[0m\u001b[0m_drop_labels_or_levels\u001b[0m\u001b[1;33m(\u001b[0m\u001b[0mleft_drop\u001b[0m\u001b[1;33m)\u001b[0m\u001b[1;33m\u001b[0m\u001b[1;33m\u001b[0m\u001b[0m\n",
      "\u001b[1;32mc:\\Users\\dayan\\OneDrive - Universidad Autonoma de Occidente\\ETL\\corte3\\ETL-Project\\Pj3\\Lib\\site-packages\\pandas\\core\\reshape\\merge.py\u001b[0m in \u001b[0;36m?\u001b[1;34m(self)\u001b[0m\n\u001b[0;32m   1293\u001b[0m                         \u001b[1;31m# Then we're either Hashable or a wrong-length arraylike,\u001b[0m\u001b[1;33m\u001b[0m\u001b[1;33m\u001b[0m\u001b[0m\n\u001b[0;32m   1294\u001b[0m                         \u001b[1;31m#  the latter of which will raise\u001b[0m\u001b[1;33m\u001b[0m\u001b[1;33m\u001b[0m\u001b[0m\n\u001b[0;32m   1295\u001b[0m                         \u001b[0mrk\u001b[0m \u001b[1;33m=\u001b[0m \u001b[0mcast\u001b[0m\u001b[1;33m(\u001b[0m\u001b[0mHashable\u001b[0m\u001b[1;33m,\u001b[0m \u001b[0mrk\u001b[0m\u001b[1;33m)\u001b[0m\u001b[1;33m\u001b[0m\u001b[1;33m\u001b[0m\u001b[0m\n\u001b[0;32m   1296\u001b[0m                         \u001b[1;32mif\u001b[0m \u001b[0mrk\u001b[0m \u001b[1;32mis\u001b[0m \u001b[1;32mnot\u001b[0m \u001b[1;32mNone\u001b[0m\u001b[1;33m:\u001b[0m\u001b[1;33m\u001b[0m\u001b[1;33m\u001b[0m\u001b[0m\n\u001b[1;32m-> 1297\u001b[1;33m                             \u001b[0mright_keys\u001b[0m\u001b[1;33m.\u001b[0m\u001b[0mappend\u001b[0m\u001b[1;33m(\u001b[0m\u001b[0mright\u001b[0m\u001b[1;33m.\u001b[0m\u001b[0m_get_label_or_level_values\u001b[0m\u001b[1;33m(\u001b[0m\u001b[0mrk\u001b[0m\u001b[1;33m)\u001b[0m\u001b[1;33m)\u001b[0m\u001b[1;33m\u001b[0m\u001b[1;33m\u001b[0m\u001b[0m\n\u001b[0m\u001b[0;32m   1298\u001b[0m                         \u001b[1;32melse\u001b[0m\u001b[1;33m:\u001b[0m\u001b[1;33m\u001b[0m\u001b[1;33m\u001b[0m\u001b[0m\n\u001b[0;32m   1299\u001b[0m                             \u001b[1;31m# work-around for merge_asof(right_index=True)\u001b[0m\u001b[1;33m\u001b[0m\u001b[1;33m\u001b[0m\u001b[0m\n\u001b[0;32m   1300\u001b[0m                             \u001b[0mright_keys\u001b[0m\u001b[1;33m.\u001b[0m\u001b[0mappend\u001b[0m\u001b[1;33m(\u001b[0m\u001b[0mright\u001b[0m\u001b[1;33m.\u001b[0m\u001b[0mindex\u001b[0m\u001b[1;33m.\u001b[0m\u001b[0m_values\u001b[0m\u001b[1;33m)\u001b[0m\u001b[1;33m\u001b[0m\u001b[1;33m\u001b[0m\u001b[0m\n",
      "\u001b[1;32mc:\\Users\\dayan\\OneDrive - Universidad Autonoma de Occidente\\ETL\\corte3\\ETL-Project\\Pj3\\Lib\\site-packages\\pandas\\core\\generic.py\u001b[0m in \u001b[0;36m?\u001b[1;34m(self, key, axis)\u001b[0m\n\u001b[0;32m   1907\u001b[0m             \u001b[0mvalues\u001b[0m \u001b[1;33m=\u001b[0m \u001b[0mself\u001b[0m\u001b[1;33m.\u001b[0m\u001b[0mxs\u001b[0m\u001b[1;33m(\u001b[0m\u001b[0mkey\u001b[0m\u001b[1;33m,\u001b[0m \u001b[0maxis\u001b[0m\u001b[1;33m=\u001b[0m\u001b[0mother_axes\u001b[0m\u001b[1;33m[\u001b[0m\u001b[1;36m0\u001b[0m\u001b[1;33m]\u001b[0m\u001b[1;33m)\u001b[0m\u001b[1;33m.\u001b[0m\u001b[0m_values\u001b[0m\u001b[1;33m\u001b[0m\u001b[1;33m\u001b[0m\u001b[0m\n\u001b[0;32m   1908\u001b[0m         \u001b[1;32melif\u001b[0m \u001b[0mself\u001b[0m\u001b[1;33m.\u001b[0m\u001b[0m_is_level_reference\u001b[0m\u001b[1;33m(\u001b[0m\u001b[0mkey\u001b[0m\u001b[1;33m,\u001b[0m \u001b[0maxis\u001b[0m\u001b[1;33m=\u001b[0m\u001b[0maxis\u001b[0m\u001b[1;33m)\u001b[0m\u001b[1;33m:\u001b[0m\u001b[1;33m\u001b[0m\u001b[1;33m\u001b[0m\u001b[0m\n\u001b[0;32m   1909\u001b[0m             \u001b[0mvalues\u001b[0m \u001b[1;33m=\u001b[0m \u001b[0mself\u001b[0m\u001b[1;33m.\u001b[0m\u001b[0maxes\u001b[0m\u001b[1;33m[\u001b[0m\u001b[0maxis\u001b[0m\u001b[1;33m]\u001b[0m\u001b[1;33m.\u001b[0m\u001b[0mget_level_values\u001b[0m\u001b[1;33m(\u001b[0m\u001b[0mkey\u001b[0m\u001b[1;33m)\u001b[0m\u001b[1;33m.\u001b[0m\u001b[0m_values\u001b[0m\u001b[1;33m\u001b[0m\u001b[1;33m\u001b[0m\u001b[0m\n\u001b[0;32m   1910\u001b[0m         \u001b[1;32melse\u001b[0m\u001b[1;33m:\u001b[0m\u001b[1;33m\u001b[0m\u001b[1;33m\u001b[0m\u001b[0m\n\u001b[1;32m-> 1911\u001b[1;33m             \u001b[1;32mraise\u001b[0m \u001b[0mKeyError\u001b[0m\u001b[1;33m(\u001b[0m\u001b[0mkey\u001b[0m\u001b[1;33m)\u001b[0m\u001b[1;33m\u001b[0m\u001b[1;33m\u001b[0m\u001b[0m\n\u001b[0m\u001b[0;32m   1912\u001b[0m \u001b[1;33m\u001b[0m\u001b[0m\n\u001b[0;32m   1913\u001b[0m         \u001b[1;31m# Check for duplicates\u001b[0m\u001b[1;33m\u001b[0m\u001b[1;33m\u001b[0m\u001b[0m\n\u001b[0;32m   1914\u001b[0m         \u001b[1;32mif\u001b[0m \u001b[0mvalues\u001b[0m\u001b[1;33m.\u001b[0m\u001b[0mndim\u001b[0m \u001b[1;33m>\u001b[0m \u001b[1;36m1\u001b[0m\u001b[1;33m:\u001b[0m\u001b[1;33m\u001b[0m\u001b[1;33m\u001b[0m\u001b[0m\n",
      "\u001b[1;31mKeyError\u001b[0m: 'genres'"
     ]
    }
   ],
   "source": [
    "# Merge the combined API data with the PostgreSQL data\n",
    "merged_data = pd.merge(api_data_relevant, metacritic_data, on=['Title', 'released', 'genres'], how='outer')\n",
    "\n",
    "# Display merged data\n",
    "print(\"Merged Data:\")\n",
    "print(merged_data.head())"
   ]
  },
  {
   "cell_type": "code",
   "execution_count": null,
   "metadata": {},
   "outputs": [],
   "source": []
  }
 ],
 "metadata": {
  "kernelspec": {
   "display_name": "Python 3 (ipykernel)",
   "language": "python",
   "name": "python3"
  },
  "language_info": {
   "codemirror_mode": {
    "name": "ipython",
    "version": 3
   },
   "file_extension": ".py",
   "mimetype": "text/x-python",
   "name": "python",
   "nbconvert_exporter": "python",
   "pygments_lexer": "ipython3",
   "version": "3.12.2"
  }
 },
 "nbformat": 4,
 "nbformat_minor": 4
}
