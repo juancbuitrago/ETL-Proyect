{
 "cells": [
  {
   "cell_type": "markdown",
   "metadata": {},
   "source": [
    "# MERGE DATASET - API DATA"
   ]
  },
  {
   "cell_type": "markdown",
   "metadata": {},
   "source": [
    "### Libreries used"
   ]
  },
  {
   "cell_type": "code",
   "execution_count": 11,
   "metadata": {},
   "outputs": [],
   "source": [
    "import matplotlib.pyplot as plt\n",
    "import pandas as pd\n",
    "import seaborn as sns\n",
    "from sqlalchemy import create_engine\n",
    "import psycopg2\n",
    "import sys"
   ]
  },
  {
   "cell_type": "markdown",
   "metadata": {},
   "source": [
    "## Connection to database"
   ]
  },
  {
   "cell_type": "code",
   "execution_count": 12,
   "metadata": {},
   "outputs": [
    {
     "name": "stdout",
     "output_type": "stream",
     "text": [
      "Reading configuration from ../otherconfig/database.ini\n"
     ]
    }
   ],
   "source": [
    "sys.path.append('../otherconfig/')\n",
    "from dbconfig import configuration\n",
    "\n",
    "config = configuration('../otherconfig/database.ini')\n",
    "db_url = f\"postgresql+psycopg2://{config['user']}:{config['password']}@{config['host']}/{config['database']}\"\n",
    "engine = create_engine(db_url)\n",
    "\n",
    "try:\n",
    "    conn = engine.connect()\n",
    "    log.(\"Database connection successful.\")\n",
    "except Exception as e:\n",
    "    log.(\"Database connection failed:\", e)\n",
    "    sys.exit(1)\n"
   ]
  },
  {
   "cell_type": "code",
   "execution_count": 13,
   "metadata": {},
   "outputs": [],
   "source": [
    "# Load the CSV data into a DataFrame\n",
    "metacritic_data_path = '../data/metacritic_data.csv'\n",
    "try:\n",
    "    metacritic_data = pd.read_csv(metacritic_data_path)\n",
    "    log.(f\"CSV data loaded successfully with {len(metacritic_data)} records.\")\n",
    "except Exception as e:\n",
    "    log.(\"Failed to load CSV data:\", e)\n",
    "    sys.exit(1)"
   ]
  },
  {
   "cell_type": "code",
   "execution_count": null,
   "metadata": {},
   "outputs": [],
   "source": [
    "# Load data into PostgreSQL database\n",
    "try:\n",
    "    metacritic_data.to_sql('metacritic_data', conn, if_exists='replace', index=False)\n",
    "    print(\"Data loaded into the PostgreSQL database successfully.\")\n",
    "except Exception as e:\n",
    "    print(\"Failed to load data into the PostgreSQL database:\", e)\n",
    "    sys.exit(1)"
   ]
  },
  {
   "cell_type": "code",
   "execution_count": null,
   "metadata": {},
   "outputs": [],
   "source": []
  }
 ],
 "metadata": {
  "kernelspec": {
   "display_name": "Lpj",
   "language": "python",
   "name": "python3"
  },
  "language_info": {
   "codemirror_mode": {
    "name": "ipython",
    "version": 3
   },
   "file_extension": ".py",
   "mimetype": "text/x-python",
   "name": "python",
   "nbconvert_exporter": "python",
   "pygments_lexer": "ipython3",
   "version": "3.12.2"
  }
 },
 "nbformat": 4,
 "nbformat_minor": 2
}
