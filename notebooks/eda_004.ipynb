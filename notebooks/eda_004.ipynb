{
 "cells": [
  {
   "cell_type": "markdown",
   "metadata": {},
   "source": [
    "# MERGE DATASET - API DATA"
   ]
  },
  {
   "cell_type": "markdown",
   "metadata": {},
   "source": [
    "### Libreries used"
   ]
  },
  {
   "cell_type": "code",
   "execution_count": 25,
   "metadata": {},
   "outputs": [],
   "source": [
    "import matplotlib.pyplot as plt\n",
    "import pandas as pd\n",
    "import seaborn as sns\n",
    "from sqlalchemy import create_engine\n",
    "import psycopg2\n",
    "import sys\n",
    "import os"
   ]
  },
  {
   "cell_type": "markdown",
   "metadata": {},
   "source": [
    "## Connection to database"
   ]
  },
  {
   "cell_type": "code",
   "execution_count": 26,
   "metadata": {},
   "outputs": [
    {
     "name": "stdout",
     "output_type": "stream",
     "text": [
      "Reading configuration from ../otherconfig/database.ini\n",
      "Database connection successful.\n"
     ]
    }
   ],
   "source": [
    "sys.path.append('../otherconfig/')\n",
    "from dbconfig import configuration\n",
    "\n",
    "config = configuration('../otherconfig/database.ini')\n",
    "db_url = f\"postgresql+psycopg2://{config['user']}:{config['password']}@{config['host']}/{config['database']}\"\n",
    "engine = create_engine(db_url)\n",
    "\n",
    "try:\n",
    "    conn = engine.connect()\n",
    "    print(\"Database connection successful.\")\n",
    "except Exception as e:\n",
    "    print(\"Database connection failed:\", e)\n",
    "    sys.exit(1)\n"
   ]
  },
  {
   "cell_type": "markdown",
   "metadata": {},
   "source": [
    "Next, this part will be for the practical use of the dags and the follow-up of the steps."
   ]
  },
  {
   "cell_type": "markdown",
   "metadata": {},
   "source": [
    "### Load the CSV data into a DataFrame"
   ]
  },
  {
   "cell_type": "code",
   "execution_count": 27,
   "metadata": {},
   "outputs": [
    {
     "name": "stdout",
     "output_type": "stream",
     "text": [
      "CSV data loaded successfully with 14055 records.\n"
     ]
    }
   ],
   "source": [
    "\n",
    "metacritic_data_path = '../data/metacritic_data.csv'\n",
    "try:\n",
    "    metacritic_data = pd.read_csv(metacritic_data_path)\n",
    "    print(f\"CSV data loaded successfully with {len(metacritic_data)} records.\")\n",
    "except Exception as e:\n",
    "    print(\"Failed to load CSV data:\", e)\n",
    "    sys.exit(1)"
   ]
  },
  {
   "cell_type": "markdown",
   "metadata": {},
   "source": [
    "### Load data into PostgreSQL database"
   ]
  },
  {
   "cell_type": "code",
   "execution_count": 28,
   "metadata": {},
   "outputs": [
    {
     "name": "stdout",
     "output_type": "stream",
     "text": [
      "Data loaded into the PostgreSQL database successfully.\n"
     ]
    }
   ],
   "source": [
    "\n",
    "try:\n",
    "    metacritic_data.to_sql('metacritic_data', conn, if_exists='replace', index=False)\n",
    "    print(\"Data loaded into the PostgreSQL database successfully.\")\n",
    "except Exception as e:\n",
    "    print(\"Failed to load data into the PostgreSQL database:\", e)\n",
    "    sys.exit(1)"
   ]
  },
  {
   "cell_type": "markdown",
   "metadata": {},
   "source": [
    "## API DATA"
   ]
  },
  {
   "cell_type": "code",
   "execution_count": 40,
   "metadata": {},
   "outputs": [],
   "source": [
    "# Path to the directory containing the API data CSV files\n",
    "api_data_path = '../data/'\n",
    "# List of CSV files\n",
    "csv_files = [os.path.join(api_data_path, f'api_data_{i}.csv') for i in range(1, 14)]\n",
    "\n"
   ]
  },
  {
   "cell_type": "code",
   "execution_count": 41,
   "metadata": {},
   "outputs": [
    {
     "name": "stdout",
     "output_type": "stream",
     "text": [
      "Loaded ../data/api_data_1.csv successfully with 1000 records.\n",
      "Loaded ../data/api_data_2.csv successfully with 1000 records.\n",
      "Loaded ../data/api_data_3.csv successfully with 900 records.\n",
      "Loaded ../data/api_data_4.csv successfully with 240 records.\n",
      "Loaded ../data/api_data_5.csv successfully with 1000 records.\n",
      "Loaded ../data/api_data_6.csv successfully with 1000 records.\n",
      "Loaded ../data/api_data_7.csv successfully with 1000 records.\n",
      "Loaded ../data/api_data_8.csv successfully with 1000 records.\n",
      "Loaded ../data/api_data_9.csv successfully with 1000 records.\n",
      "Loaded ../data/api_data_10.csv successfully with 1000 records.\n",
      "Loaded ../data/api_data_11.csv successfully with 1000 records.\n",
      "Loaded ../data/api_data_12.csv successfully with 1000 records.\n",
      "Loaded ../data/api_data_13.csv successfully with 1000 records.\n"
     ]
    }
   ],
   "source": [
    "# Initialize an empty list to store DataFrames\n",
    "dataframes = []\n",
    "\n",
    "# Loop through the CSV files and load each into a DataFrame\n",
    "for file in csv_files:\n",
    "    try:\n",
    "        df = pd.read_csv(file)\n",
    "        dataframes.append(df)\n",
    "        print(f\"Loaded {file} successfully with {len(df)} records.\")\n",
    "    except Exception as e:\n",
    "        print(f\"Failed to load {file}:\", e)\n",
    "        sys.exit(1)\n"
   ]
  },
  {
   "cell_type": "code",
   "execution_count": 42,
   "metadata": {},
   "outputs": [
    {
     "name": "stdout",
     "output_type": "stream",
     "text": [
      "Combined API data has 12140 records.\n"
     ]
    }
   ],
   "source": [
    "# Concatenate all DataFrames into a single DataFrame\n",
    "combined_api_data = pd.concat(dataframes, ignore_index=True)\n",
    "print(f\"Combined API data has {len(combined_api_data)} records.\")"
   ]
  },
  {
   "cell_type": "code",
   "execution_count": 44,
   "metadata": {},
   "outputs": [
    {
     "data": {
      "text/html": [
       "<div>\n",
       "<style scoped>\n",
       "    .dataframe tbody tr th:only-of-type {\n",
       "        vertical-align: middle;\n",
       "    }\n",
       "\n",
       "    .dataframe tbody tr th {\n",
       "        vertical-align: top;\n",
       "    }\n",
       "\n",
       "    .dataframe thead th {\n",
       "        text-align: right;\n",
       "    }\n",
       "</style>\n",
       "<table border=\"1\" class=\"dataframe\">\n",
       "  <thead>\n",
       "    <tr style=\"text-align: right;\">\n",
       "      <th></th>\n",
       "      <th>id</th>\n",
       "      <th>slug</th>\n",
       "      <th>name</th>\n",
       "      <th>released</th>\n",
       "      <th>tba</th>\n",
       "      <th>background_image</th>\n",
       "      <th>rating</th>\n",
       "      <th>rating_top</th>\n",
       "      <th>ratings</th>\n",
       "      <th>ratings_count</th>\n",
       "      <th>...</th>\n",
       "      <th>dominant_color</th>\n",
       "      <th>platforms</th>\n",
       "      <th>parent_platforms</th>\n",
       "      <th>genres</th>\n",
       "      <th>stores</th>\n",
       "      <th>clip</th>\n",
       "      <th>tags</th>\n",
       "      <th>esrb_rating</th>\n",
       "      <th>short_screenshots</th>\n",
       "      <th>community_rating</th>\n",
       "    </tr>\n",
       "  </thead>\n",
       "  <tbody>\n",
       "    <tr>\n",
       "      <th>0</th>\n",
       "      <td>9907</td>\n",
       "      <td>pictopix</td>\n",
       "      <td>Pictopix</td>\n",
       "      <td>2017-01-05</td>\n",
       "      <td>False</td>\n",
       "      <td>https://media.rawg.io/media/screenshots/ff0/ff...</td>\n",
       "      <td>3.96</td>\n",
       "      <td>4</td>\n",
       "      <td>[{'id': 4, 'title': 'recommended', 'count': 20...</td>\n",
       "      <td>24</td>\n",
       "      <td>...</td>\n",
       "      <td>0f0f0f</td>\n",
       "      <td>[{'platform': {'id': 4, 'name': 'PC', 'slug': ...</td>\n",
       "      <td>[{'platform': {'id': 1, 'name': 'PC', 'slug': ...</td>\n",
       "      <td>[{'id': 40, 'name': 'Casual', 'slug': 'casual'...</td>\n",
       "      <td>[{'id': 10805, 'store': {'id': 1, 'name': 'Ste...</td>\n",
       "      <td>NaN</td>\n",
       "      <td>[{'id': 31, 'name': 'Singleplayer', 'slug': 's...</td>\n",
       "      <td>NaN</td>\n",
       "      <td>[{'id': -1, 'image': 'https://media.rawg.io/me...</td>\n",
       "      <td>NaN</td>\n",
       "    </tr>\n",
       "    <tr>\n",
       "      <th>1</th>\n",
       "      <td>4119</td>\n",
       "      <td>chronovolt</td>\n",
       "      <td>Chronovolt</td>\n",
       "      <td>2012-11-21</td>\n",
       "      <td>False</td>\n",
       "      <td>https://media.rawg.io/media/games/8dc/8dc50d62...</td>\n",
       "      <td>2.55</td>\n",
       "      <td>3</td>\n",
       "      <td>[{'id': 3, 'title': 'meh', 'count': 11, 'perce...</td>\n",
       "      <td>20</td>\n",
       "      <td>...</td>\n",
       "      <td>0f0f0f</td>\n",
       "      <td>[{'platform': {'id': 19, 'name': 'PS Vita', 's...</td>\n",
       "      <td>[{'platform': {'id': 2, 'name': 'PlayStation',...</td>\n",
       "      <td>[{'id': 4, 'name': 'Action', 'slug': 'action',...</td>\n",
       "      <td>[{'id': 4440, 'store': {'id': 3, 'name': 'Play...</td>\n",
       "      <td>NaN</td>\n",
       "      <td>[{'id': 37796, 'name': 'exclusive', 'slug': 'e...</td>\n",
       "      <td>{'id': 1, 'name': 'Everyone', 'slug': 'everyone'}</td>\n",
       "      <td>[{'id': -1, 'image': 'https://media.rawg.io/me...</td>\n",
       "      <td>NaN</td>\n",
       "    </tr>\n",
       "    <tr>\n",
       "      <th>2</th>\n",
       "      <td>3935</td>\n",
       "      <td>breakquest-extra-evolution</td>\n",
       "      <td>BreakQuest: Extra Evolution</td>\n",
       "      <td>2012-10-16</td>\n",
       "      <td>False</td>\n",
       "      <td>https://media.rawg.io/media/screenshots/4e3/4e...</td>\n",
       "      <td>2.60</td>\n",
       "      <td>3</td>\n",
       "      <td>[{'id': 3, 'title': 'meh', 'count': 10, 'perce...</td>\n",
       "      <td>20</td>\n",
       "      <td>...</td>\n",
       "      <td>0f0f0f</td>\n",
       "      <td>[{'platform': {'id': 16, 'name': 'PlayStation ...</td>\n",
       "      <td>[{'platform': {'id': 2, 'name': 'PlayStation',...</td>\n",
       "      <td>[{'id': 11, 'name': 'Arcade', 'slug': 'arcade'...</td>\n",
       "      <td>[{'id': 4253, 'store': {'id': 3, 'name': 'Play...</td>\n",
       "      <td>NaN</td>\n",
       "      <td>[{'id': 114, 'name': 'Physics', 'slug': 'physi...</td>\n",
       "      <td>{'id': 2, 'name': 'Everyone 10+', 'slug': 'eve...</td>\n",
       "      <td>[{'id': -1, 'image': 'https://media.rawg.io/me...</td>\n",
       "      <td>NaN</td>\n",
       "    </tr>\n",
       "    <tr>\n",
       "      <th>3</th>\n",
       "      <td>1991</td>\n",
       "      <td>killallzombies-2</td>\n",
       "      <td>#KILLALLZOMBIES</td>\n",
       "      <td>2014-10-28</td>\n",
       "      <td>False</td>\n",
       "      <td>https://media.rawg.io/media/screenshots/675/67...</td>\n",
       "      <td>2.36</td>\n",
       "      <td>1</td>\n",
       "      <td>[{'id': 1, 'title': 'skip', 'count': 5, 'perce...</td>\n",
       "      <td>11</td>\n",
       "      <td>...</td>\n",
       "      <td>0f0f0f</td>\n",
       "      <td>[{'platform': {'id': 1, 'name': 'Xbox One', 's...</td>\n",
       "      <td>[{'platform': {'id': 1, 'name': 'PC', 'slug': ...</td>\n",
       "      <td>[{'id': 4, 'name': 'Action', 'slug': 'action',...</td>\n",
       "      <td>[{'id': 2061, 'store': {'id': 2, 'name': 'Xbox...</td>\n",
       "      <td>NaN</td>\n",
       "      <td>[{'id': 31, 'name': 'Singleplayer', 'slug': 's...</td>\n",
       "      <td>NaN</td>\n",
       "      <td>[{'id': -1, 'image': 'https://media.rawg.io/me...</td>\n",
       "      <td>NaN</td>\n",
       "    </tr>\n",
       "    <tr>\n",
       "      <th>4</th>\n",
       "      <td>979</td>\n",
       "      <td>tethered</td>\n",
       "      <td>Tethered</td>\n",
       "      <td>2016-10-25</td>\n",
       "      <td>False</td>\n",
       "      <td>https://media.rawg.io/media/screenshots/1e6/1e...</td>\n",
       "      <td>2.75</td>\n",
       "      <td>4</td>\n",
       "      <td>[{'id': 4, 'title': 'recommended', 'count': 5,...</td>\n",
       "      <td>12</td>\n",
       "      <td>...</td>\n",
       "      <td>0f0f0f</td>\n",
       "      <td>[{'platform': {'id': 18, 'name': 'PlayStation ...</td>\n",
       "      <td>[{'platform': {'id': 1, 'name': 'PC', 'slug': ...</td>\n",
       "      <td>[{'id': 3, 'name': 'Adventure', 'slug': 'adven...</td>\n",
       "      <td>[{'id': 1002, 'store': {'id': 3, 'name': 'Play...</td>\n",
       "      <td>NaN</td>\n",
       "      <td>[{'id': 31, 'name': 'Singleplayer', 'slug': 's...</td>\n",
       "      <td>{'id': 2, 'name': 'Everyone 10+', 'slug': 'eve...</td>\n",
       "      <td>[{'id': -1, 'image': 'https://media.rawg.io/me...</td>\n",
       "      <td>NaN</td>\n",
       "    </tr>\n",
       "  </tbody>\n",
       "</table>\n",
       "<p>5 rows × 30 columns</p>\n",
       "</div>"
      ],
      "text/plain": [
       "     id                        slug                         name    released  \\\n",
       "0  9907                    pictopix                     Pictopix  2017-01-05   \n",
       "1  4119                  chronovolt                   Chronovolt  2012-11-21   \n",
       "2  3935  breakquest-extra-evolution  BreakQuest: Extra Evolution  2012-10-16   \n",
       "3  1991            killallzombies-2              #KILLALLZOMBIES  2014-10-28   \n",
       "4   979                    tethered                     Tethered  2016-10-25   \n",
       "\n",
       "     tba                                   background_image  rating  \\\n",
       "0  False  https://media.rawg.io/media/screenshots/ff0/ff...    3.96   \n",
       "1  False  https://media.rawg.io/media/games/8dc/8dc50d62...    2.55   \n",
       "2  False  https://media.rawg.io/media/screenshots/4e3/4e...    2.60   \n",
       "3  False  https://media.rawg.io/media/screenshots/675/67...    2.36   \n",
       "4  False  https://media.rawg.io/media/screenshots/1e6/1e...    2.75   \n",
       "\n",
       "   rating_top                                            ratings  \\\n",
       "0           4  [{'id': 4, 'title': 'recommended', 'count': 20...   \n",
       "1           3  [{'id': 3, 'title': 'meh', 'count': 11, 'perce...   \n",
       "2           3  [{'id': 3, 'title': 'meh', 'count': 10, 'perce...   \n",
       "3           1  [{'id': 1, 'title': 'skip', 'count': 5, 'perce...   \n",
       "4           4  [{'id': 4, 'title': 'recommended', 'count': 5,...   \n",
       "\n",
       "   ratings_count  ...  dominant_color  \\\n",
       "0             24  ...          0f0f0f   \n",
       "1             20  ...          0f0f0f   \n",
       "2             20  ...          0f0f0f   \n",
       "3             11  ...          0f0f0f   \n",
       "4             12  ...          0f0f0f   \n",
       "\n",
       "                                           platforms  \\\n",
       "0  [{'platform': {'id': 4, 'name': 'PC', 'slug': ...   \n",
       "1  [{'platform': {'id': 19, 'name': 'PS Vita', 's...   \n",
       "2  [{'platform': {'id': 16, 'name': 'PlayStation ...   \n",
       "3  [{'platform': {'id': 1, 'name': 'Xbox One', 's...   \n",
       "4  [{'platform': {'id': 18, 'name': 'PlayStation ...   \n",
       "\n",
       "                                    parent_platforms  \\\n",
       "0  [{'platform': {'id': 1, 'name': 'PC', 'slug': ...   \n",
       "1  [{'platform': {'id': 2, 'name': 'PlayStation',...   \n",
       "2  [{'platform': {'id': 2, 'name': 'PlayStation',...   \n",
       "3  [{'platform': {'id': 1, 'name': 'PC', 'slug': ...   \n",
       "4  [{'platform': {'id': 1, 'name': 'PC', 'slug': ...   \n",
       "\n",
       "                                              genres  \\\n",
       "0  [{'id': 40, 'name': 'Casual', 'slug': 'casual'...   \n",
       "1  [{'id': 4, 'name': 'Action', 'slug': 'action',...   \n",
       "2  [{'id': 11, 'name': 'Arcade', 'slug': 'arcade'...   \n",
       "3  [{'id': 4, 'name': 'Action', 'slug': 'action',...   \n",
       "4  [{'id': 3, 'name': 'Adventure', 'slug': 'adven...   \n",
       "\n",
       "                                              stores  clip  \\\n",
       "0  [{'id': 10805, 'store': {'id': 1, 'name': 'Ste...   NaN   \n",
       "1  [{'id': 4440, 'store': {'id': 3, 'name': 'Play...   NaN   \n",
       "2  [{'id': 4253, 'store': {'id': 3, 'name': 'Play...   NaN   \n",
       "3  [{'id': 2061, 'store': {'id': 2, 'name': 'Xbox...   NaN   \n",
       "4  [{'id': 1002, 'store': {'id': 3, 'name': 'Play...   NaN   \n",
       "\n",
       "                                                tags  \\\n",
       "0  [{'id': 31, 'name': 'Singleplayer', 'slug': 's...   \n",
       "1  [{'id': 37796, 'name': 'exclusive', 'slug': 'e...   \n",
       "2  [{'id': 114, 'name': 'Physics', 'slug': 'physi...   \n",
       "3  [{'id': 31, 'name': 'Singleplayer', 'slug': 's...   \n",
       "4  [{'id': 31, 'name': 'Singleplayer', 'slug': 's...   \n",
       "\n",
       "                                         esrb_rating  \\\n",
       "0                                                NaN   \n",
       "1  {'id': 1, 'name': 'Everyone', 'slug': 'everyone'}   \n",
       "2  {'id': 2, 'name': 'Everyone 10+', 'slug': 'eve...   \n",
       "3                                                NaN   \n",
       "4  {'id': 2, 'name': 'Everyone 10+', 'slug': 'eve...   \n",
       "\n",
       "                                   short_screenshots community_rating  \n",
       "0  [{'id': -1, 'image': 'https://media.rawg.io/me...              NaN  \n",
       "1  [{'id': -1, 'image': 'https://media.rawg.io/me...              NaN  \n",
       "2  [{'id': -1, 'image': 'https://media.rawg.io/me...              NaN  \n",
       "3  [{'id': -1, 'image': 'https://media.rawg.io/me...              NaN  \n",
       "4  [{'id': -1, 'image': 'https://media.rawg.io/me...              NaN  \n",
       "\n",
       "[5 rows x 30 columns]"
      ]
     },
     "execution_count": 44,
     "metadata": {},
     "output_type": "execute_result"
    }
   ],
   "source": [
    "# Display the first few rows of the combined data\n",
    "combined_api_data.head()"
   ]
  },
  {
   "cell_type": "markdown",
   "metadata": {},
   "source": [
    "## General description"
   ]
  },
  {
   "cell_type": "code",
   "execution_count": 22,
   "metadata": {},
   "outputs": [
    {
     "name": "stdout",
     "output_type": "stream",
     "text": [
      "<class 'pandas.core.frame.DataFrame'>\n",
      "RangeIndex: 14055 entries, 0 to 14054\n",
      "Data columns (total 8 columns):\n",
      " #   Column         Non-Null Count  Dtype  \n",
      "---  ------         --------------  -----  \n",
      " 0   Title          14034 non-null  object \n",
      " 1   released       13991 non-null  object \n",
      " 2   Developer      13917 non-null  object \n",
      " 3   Publisher      13917 non-null  object \n",
      " 4   Genres         14034 non-null  object \n",
      " 5   rating         11005 non-null  object \n",
      " 6   User Score     14055 non-null  float64\n",
      " 7   ratings_count  14055 non-null  int64  \n",
      "dtypes: float64(1), int64(1), object(6)\n",
      "memory usage: 878.6+ KB\n"
     ]
    }
   ],
   "source": [
    "metacritic_data.info()"
   ]
  },
  {
   "cell_type": "code",
   "execution_count": null,
   "metadata": {},
   "outputs": [],
   "source": []
  }
 ],
 "metadata": {
  "kernelspec": {
   "display_name": "Lpj",
   "language": "python",
   "name": "python3"
  },
  "language_info": {
   "codemirror_mode": {
    "name": "ipython",
    "version": 3
   },
   "file_extension": ".py",
   "mimetype": "text/x-python",
   "name": "python",
   "nbconvert_exporter": "python",
   "pygments_lexer": "ipython3",
   "version": "3.12.2"
  }
 },
 "nbformat": 4,
 "nbformat_minor": 2
}
