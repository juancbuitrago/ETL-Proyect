{
 "cells": [
  {
   "cell_type": "markdown",
   "id": "d7756b12",
   "metadata": {},
   "source": [
    "# Exploratory data analisis of METACRITIC Dataset"
   ]
  },
  {
   "cell_type": "markdown",
   "id": "e9c8c909-5716-4206-b04a-afc48df954df",
   "metadata": {},
   "source": [
    "#### Libraries used"
   ]
  },
  {
   "cell_type": "code",
   "execution_count": 372,
   "id": "f46fa8b7-2c03-4549-be11-dd4fd23292e3",
   "metadata": {},
   "outputs": [],
   "source": [
    "from io import StringIO\n",
    "import json\n",
    "import matplotlib.pyplot as plt\n",
    "import pandas as pd\n",
    "import psycopg2\n",
    "import seaborn as sns\n",
    "import sys\n",
    "sys.path.append('../dbconfig/')\n",
    "from dbconfig import configuration"
   ]
  },
  {
   "cell_type": "code",
   "execution_count": 373,
   "id": "02e0fb98-ebed-4d38-8f75-ca3c61990161",
   "metadata": {},
   "outputs": [
    {
     "name": "stdout",
     "output_type": "stream",
     "text": [
      "Reading configuration from database.ini\n",
      "Opened database successfully\n"
     ]
    }
   ],
   "source": [
    "params = configuration()\n",
    "\n",
    "conn = psycopg2.connect(**params)\n",
    "cursor = conn.cursor()\n",
    "print(\"Opened database successfully\")"
   ]
  },
  {
   "cell_type": "markdown",
   "id": "f0f6981b",
   "metadata": {},
   "source": [
    "## Bring the dataset from the csv file"
   ]
  },
  {
   "cell_type": "code",
   "execution_count": 374,
   "id": "17a41197",
   "metadata": {},
   "outputs": [
    {
     "data": {
      "text/html": [
       "<div>\n",
       "<style scoped>\n",
       "    .dataframe tbody tr th:only-of-type {\n",
       "        vertical-align: middle;\n",
       "    }\n",
       "\n",
       "    .dataframe tbody tr th {\n",
       "        vertical-align: top;\n",
       "    }\n",
       "\n",
       "    .dataframe thead th {\n",
       "        text-align: right;\n",
       "    }\n",
       "</style>\n",
       "<table border=\"1\" class=\"dataframe\">\n",
       "  <thead>\n",
       "    <tr style=\"text-align: right;\">\n",
       "      <th></th>\n",
       "      <th>title</th>\n",
       "      <th>release_date</th>\n",
       "      <th>developer</th>\n",
       "      <th>publisher</th>\n",
       "      <th>genres</th>\n",
       "      <th>product_rating</th>\n",
       "      <th>user_score</th>\n",
       "      <th>user_ratings_count</th>\n",
       "      <th>platforms_info</th>\n",
       "    </tr>\n",
       "  </thead>\n",
       "  <tbody>\n",
       "    <tr>\n",
       "      <th>0</th>\n",
       "      <td>Ziggurat (2012)</td>\n",
       "      <td>2/17/2012</td>\n",
       "      <td>Action Button Entertainment</td>\n",
       "      <td>Freshuu Inc.</td>\n",
       "      <td>Action</td>\n",
       "      <td>NaN</td>\n",
       "      <td>6.9</td>\n",
       "      <td>14.0</td>\n",
       "      <td>[{'Platform': 'iOS (iPhone/iPad)', 'Platform M...</td>\n",
       "    </tr>\n",
       "    <tr>\n",
       "      <th>1</th>\n",
       "      <td>4X4 EVO 2</td>\n",
       "      <td>11/15/2001</td>\n",
       "      <td>Terminal Reality</td>\n",
       "      <td>Gathering</td>\n",
       "      <td>Auto Racing Sim</td>\n",
       "      <td>Rated E For Everyone</td>\n",
       "      <td>NaN</td>\n",
       "      <td>NaN</td>\n",
       "      <td>[{'Platform': 'Xbox', 'Platform Metascore': '5...</td>\n",
       "    </tr>\n",
       "    <tr>\n",
       "      <th>2</th>\n",
       "      <td>MotoGP 2 (2001)</td>\n",
       "      <td>1/22/2002</td>\n",
       "      <td>Namco</td>\n",
       "      <td>Namco</td>\n",
       "      <td>Auto Racing Sim</td>\n",
       "      <td>Rated E For Everyone</td>\n",
       "      <td>5.8</td>\n",
       "      <td>NaN</td>\n",
       "      <td>[{'Platform': 'PlayStation 2', 'Platform Metas...</td>\n",
       "    </tr>\n",
       "    <tr>\n",
       "      <th>3</th>\n",
       "      <td>Gothic 3</td>\n",
       "      <td>11/14/2006</td>\n",
       "      <td>Piranha Bytes</td>\n",
       "      <td>Aspyr</td>\n",
       "      <td>Western RPG</td>\n",
       "      <td>Rated T For Teen</td>\n",
       "      <td>7.5</td>\n",
       "      <td>832.0</td>\n",
       "      <td>[{'Platform': 'PC', 'Platform Metascore': '63'...</td>\n",
       "    </tr>\n",
       "    <tr>\n",
       "      <th>4</th>\n",
       "      <td>Siege Survival: Gloria Victis</td>\n",
       "      <td>5/18/2021</td>\n",
       "      <td>FishTankStudio</td>\n",
       "      <td>Black Eye Games</td>\n",
       "      <td>RPG</td>\n",
       "      <td>NaN</td>\n",
       "      <td>6.5</td>\n",
       "      <td>10.0</td>\n",
       "      <td>[{'Platform': 'PC', 'Platform Metascore': '69'...</td>\n",
       "    </tr>\n",
       "  </tbody>\n",
       "</table>\n",
       "</div>"
      ],
      "text/plain": [
       "                           title release_date                    developer  \\\n",
       "0                Ziggurat (2012)    2/17/2012  Action Button Entertainment   \n",
       "1                      4X4 EVO 2   11/15/2001             Terminal Reality   \n",
       "2                MotoGP 2 (2001)    1/22/2002                        Namco   \n",
       "3                       Gothic 3   11/14/2006                Piranha Bytes   \n",
       "4  Siege Survival: Gloria Victis    5/18/2021               FishTankStudio   \n",
       "\n",
       "         publisher           genres        product_rating  user_score  \\\n",
       "0     Freshuu Inc.           Action                   NaN         6.9   \n",
       "1        Gathering  Auto Racing Sim  Rated E For Everyone         NaN   \n",
       "2            Namco  Auto Racing Sim  Rated E For Everyone         5.8   \n",
       "3            Aspyr      Western RPG      Rated T For Teen         7.5   \n",
       "4  Black Eye Games              RPG                   NaN         6.5   \n",
       "\n",
       "   user_ratings_count                                     platforms_info  \n",
       "0                14.0  [{'Platform': 'iOS (iPhone/iPad)', 'Platform M...  \n",
       "1                 NaN  [{'Platform': 'Xbox', 'Platform Metascore': '5...  \n",
       "2                 NaN  [{'Platform': 'PlayStation 2', 'Platform Metas...  \n",
       "3               832.0  [{'Platform': 'PC', 'Platform Metascore': '63'...  \n",
       "4                10.0  [{'Platform': 'PC', 'Platform Metascore': '69'...  "
      ]
     },
     "execution_count": 374,
     "metadata": {},
     "output_type": "execute_result"
    }
   ],
   "source": [
    "sys.path.append('../data/')\n",
    "games_data = pd.read_csv('../data/games_clean.csv')\n",
    "\n",
    "\n",
    "games_data.head()"
   ]
  },
  {
   "cell_type": "markdown",
   "id": "473085dd",
   "metadata": {},
   "source": [
    "# Description"
   ]
  },
  {
   "cell_type": "code",
   "execution_count": 375,
   "id": "b82a56dc",
   "metadata": {},
   "outputs": [
    {
     "data": {
      "text/html": [
       "<div>\n",
       "<style scoped>\n",
       "    .dataframe tbody tr th:only-of-type {\n",
       "        vertical-align: middle;\n",
       "    }\n",
       "\n",
       "    .dataframe tbody tr th {\n",
       "        vertical-align: top;\n",
       "    }\n",
       "\n",
       "    .dataframe thead th {\n",
       "        text-align: right;\n",
       "    }\n",
       "</style>\n",
       "<table border=\"1\" class=\"dataframe\">\n",
       "  <thead>\n",
       "    <tr style=\"text-align: right;\">\n",
       "      <th></th>\n",
       "      <th>user_score</th>\n",
       "      <th>user_ratings_count</th>\n",
       "    </tr>\n",
       "  </thead>\n",
       "  <tbody>\n",
       "    <tr>\n",
       "      <th>count</th>\n",
       "      <td>11714.000000</td>\n",
       "      <td>11299.000000</td>\n",
       "    </tr>\n",
       "    <tr>\n",
       "      <th>mean</th>\n",
       "      <td>6.894852</td>\n",
       "      <td>245.642977</td>\n",
       "    </tr>\n",
       "    <tr>\n",
       "      <th>std</th>\n",
       "      <td>1.392213</td>\n",
       "      <td>1847.895353</td>\n",
       "    </tr>\n",
       "    <tr>\n",
       "      <th>min</th>\n",
       "      <td>0.300000</td>\n",
       "      <td>5.000000</td>\n",
       "    </tr>\n",
       "    <tr>\n",
       "      <th>25%</th>\n",
       "      <td>6.200000</td>\n",
       "      <td>14.000000</td>\n",
       "    </tr>\n",
       "    <tr>\n",
       "      <th>50%</th>\n",
       "      <td>7.200000</td>\n",
       "      <td>34.000000</td>\n",
       "    </tr>\n",
       "    <tr>\n",
       "      <th>75%</th>\n",
       "      <td>7.900000</td>\n",
       "      <td>111.000000</td>\n",
       "    </tr>\n",
       "    <tr>\n",
       "      <th>max</th>\n",
       "      <td>10.000000</td>\n",
       "      <td>163419.000000</td>\n",
       "    </tr>\n",
       "  </tbody>\n",
       "</table>\n",
       "</div>"
      ],
      "text/plain": [
       "         user_score  user_ratings_count\n",
       "count  11714.000000        11299.000000\n",
       "mean       6.894852          245.642977\n",
       "std        1.392213         1847.895353\n",
       "min        0.300000            5.000000\n",
       "25%        6.200000           14.000000\n",
       "50%        7.200000           34.000000\n",
       "75%        7.900000          111.000000\n",
       "max       10.000000       163419.000000"
      ]
     },
     "execution_count": 375,
     "metadata": {},
     "output_type": "execute_result"
    }
   ],
   "source": [
    "games_data.describe()"
   ]
  },
  {
   "cell_type": "markdown",
   "id": "aa76aec8-4729-4ba0-bb7d-de38cce74624",
   "metadata": {},
   "source": [
    "This information is so strange for our data set because we know that there are some columns that are numeric, but the information here says that there are none."
   ]
  },
  {
   "cell_type": "markdown",
   "id": "8b4edbb6",
   "metadata": {},
   "source": [
    "# Data type"
   ]
  },
  {
   "cell_type": "code",
   "execution_count": 376,
   "id": "3c7f09d4-3aae-40c3-b661-5f236178d66f",
   "metadata": {},
   "outputs": [
    {
     "data": {
      "text/plain": [
       "title                  object\n",
       "release_date           object\n",
       "developer              object\n",
       "publisher              object\n",
       "genres                 object\n",
       "product_rating         object\n",
       "user_score            float64\n",
       "user_ratings_count    float64\n",
       "platforms_info         object\n",
       "dtype: object"
      ]
     },
     "execution_count": 376,
     "metadata": {},
     "output_type": "execute_result"
    }
   ],
   "source": [
    "games_data.dtypes"
   ]
  },
  {
   "cell_type": "markdown",
   "id": "22ca4673-f54f-454e-a7ee-636509a6ab6e",
   "metadata": {},
   "source": [
    "Here we can look at some data types are not correctly, for example, release_date should be a 'datetime' data type but is an object, or user_score should be a float but is an object too."
   ]
  },
  {
   "cell_type": "markdown",
   "id": "cddb3bd7",
   "metadata": {},
   "source": [
    "# General information of the data"
   ]
  },
  {
   "cell_type": "code",
   "execution_count": 377,
   "id": "7ebb203f",
   "metadata": {},
   "outputs": [
    {
     "name": "stdout",
     "output_type": "stream",
     "text": [
      "<class 'pandas.core.frame.DataFrame'>\n",
      "RangeIndex: 14055 entries, 0 to 14054\n",
      "Data columns (total 9 columns):\n",
      " #   Column              Non-Null Count  Dtype  \n",
      "---  ------              --------------  -----  \n",
      " 0   title               14034 non-null  object \n",
      " 1   release_date        13991 non-null  object \n",
      " 2   developer           13917 non-null  object \n",
      " 3   publisher           13917 non-null  object \n",
      " 4   genres              14034 non-null  object \n",
      " 5   product_rating      11005 non-null  object \n",
      " 6   user_score          11714 non-null  float64\n",
      " 7   user_ratings_count  11299 non-null  float64\n",
      " 8   platforms_info      14055 non-null  object \n",
      "dtypes: float64(2), object(7)\n",
      "memory usage: 988.4+ KB\n"
     ]
    }
   ],
   "source": [
    "games_data.info()"
   ]
  },
  {
   "cell_type": "code",
   "execution_count": 378,
   "id": "fe5bdcac-6139-4977-9d43-872d5a3d0b7a",
   "metadata": {},
   "outputs": [
    {
     "name": "stdout",
     "output_type": "stream",
     "text": [
      "title                 0\n",
      "release_date          0\n",
      "developer             0\n",
      "publisher             0\n",
      "genres                0\n",
      "product_rating        0\n",
      "user_score            0\n",
      "user_ratings_count    0\n",
      "platforms_info        0\n",
      "dtype: int64\n"
     ]
    }
   ],
   "source": [
    "count_empty = games_data.apply(lambda x: x.value_counts().get('', 0))\n",
    "\n",
    "print(count_empty)"
   ]
  },
  {
   "cell_type": "markdown",
   "id": "7b7580f3-bcbe-46b9-8473-3142c8c37810",
   "metadata": {},
   "source": [
    "Here we noticed that the dataset strangely has not null-values, but what happens is that in the insertion of the data we inserted all the columns in VARCHAR (strings) because it was causing us problems with the float and the integers type of data. Also the null-values did convert too in empties strings, like this: ''. So we convert this empty strings in null-values"
   ]
  },
  {
   "cell_type": "code",
   "execution_count": 379,
   "id": "db35fdb4-1f5d-4fcc-a911-f91d75832b90",
   "metadata": {},
   "outputs": [
    {
     "name": "stdout",
     "output_type": "stream",
     "text": [
      "<class 'pandas.core.frame.DataFrame'>\n",
      "RangeIndex: 14055 entries, 0 to 14054\n",
      "Data columns (total 9 columns):\n",
      " #   Column              Non-Null Count  Dtype  \n",
      "---  ------              --------------  -----  \n",
      " 0   title               14034 non-null  object \n",
      " 1   release_date        13991 non-null  object \n",
      " 2   developer           13917 non-null  object \n",
      " 3   publisher           13917 non-null  object \n",
      " 4   genres              14034 non-null  object \n",
      " 5   product_rating      11005 non-null  object \n",
      " 6   user_score          11714 non-null  float64\n",
      " 7   user_ratings_count  11299 non-null  float64\n",
      " 8   platforms_info      14055 non-null  object \n",
      "dtypes: float64(2), object(7)\n",
      "memory usage: 988.4+ KB\n"
     ]
    }
   ],
   "source": [
    "games_data.replace('', pd.NA, inplace = True)\n",
    "games_data.info()"
   ]
  },
  {
   "cell_type": "markdown",
   "id": "df38df7e",
   "metadata": {},
   "source": [
    "### Null values"
   ]
  },
  {
   "cell_type": "code",
   "execution_count": 380,
   "id": "707d264b-17d1-4910-b5f2-8ddc78547ee6",
   "metadata": {},
   "outputs": [
    {
     "data": {
      "text/plain": [
       "title                   21\n",
       "release_date            64\n",
       "developer              138\n",
       "publisher              138\n",
       "genres                  21\n",
       "product_rating        3050\n",
       "user_score            2341\n",
       "user_ratings_count    2756\n",
       "platforms_info           0\n",
       "dtype: int64"
      ]
     },
     "execution_count": 380,
     "metadata": {},
     "output_type": "execute_result"
    }
   ],
   "source": [
    "null_report = games_data.isnull().sum()\n",
    "\n",
    "null_report"
   ]
  },
  {
   "cell_type": "markdown",
   "id": "51a18a82-68df-48cd-8787-a9164f15ecb4",
   "metadata": {},
   "source": [
    "Now we have a real information about the null values, but actually we don't need a game information without title because we don't know what the game is, so we drop these null values."
   ]
  },
  {
   "cell_type": "markdown",
   "id": "0d6f42a9",
   "metadata": {},
   "source": [
    "# Convert data"
   ]
  },
  {
   "cell_type": "markdown",
   "id": "86e344dc-3f7b-48ef-867d-ca04bd207fc0",
   "metadata": {},
   "source": [
    "### In this case, we convert the 'release_date' column from object to datetime"
   ]
  },
  {
   "cell_type": "code",
   "execution_count": 381,
   "id": "1ae1a0e7",
   "metadata": {},
   "outputs": [],
   "source": [
    "games_data['release_date'] = pd.to_datetime(games_data['release_date'], format='%m/%d/%Y', errors='coerce')"
   ]
  },
  {
   "cell_type": "markdown",
   "id": "e1459a8c-73b5-4ef8-bcd3-59f822f3dee2",
   "metadata": {},
   "source": [
    "### now we convert the columns that should be integers or floats: 'user_score' and 'user_ratings_count'"
   ]
  },
  {
   "cell_type": "code",
   "execution_count": 382,
   "id": "04f4c71e-7a04-42e9-812f-1ca407e2d3a5",
   "metadata": {},
   "outputs": [],
   "source": [
    "games_data['user_ratings_count'] = pd.to_numeric(games_data['user_ratings_count'], errors='coerce').fillna(0).astype(int)\n",
    "games_data['user_score'] = pd.to_numeric(games_data['user_score'], errors='coerce').fillna(0).astype(float)"
   ]
  },
  {
   "cell_type": "markdown",
   "id": "981d923c-59da-4c44-bd71-cabc86968aff",
   "metadata": {},
   "source": [
    "We noticed that there are a few games without the data 'release_date', we do not drop these nulls because there is a lot of information in each row and we do not want to drop because a miss data."
   ]
  },
  {
   "cell_type": "code",
   "execution_count": 383,
   "id": "eb3a2baf-5161-44fc-a827-6faa9926c427",
   "metadata": {},
   "outputs": [
    {
     "name": "stdout",
     "output_type": "stream",
     "text": [
      "                                                   title          platforms\n",
      "0                                        Ziggurat (2012)  iOS (iPhone/iPad)\n",
      "1                                              4X4 EVO 2               Xbox\n",
      "2                                        MotoGP 2 (2001)      PlayStation 2\n",
      "3                                               Gothic 3                 PC\n",
      "4                          Siege Survival: Gloria Victis                 PC\n",
      "...                                                  ...                ...\n",
      "14050                    Dragon Age: Origins - Awakening      PlayStation 3\n",
      "14051                                      Lover Pretend    Nintendo Switch\n",
      "14052                             Alice: Madness Returns                 PC\n",
      "14053                                     Concrete Genie      PlayStation 4\n",
      "14054  Lemony Snicket's A Series of Unfortunate Event...   Game Boy Advance\n",
      "\n",
      "[14055 rows x 2 columns]\n"
     ]
    }
   ],
   "source": [
    "def extract_first_platform_name(json_str):\n",
    "    if json_str == 'Platforms Info' or json_str == '':\n",
    "        return None\n",
    "    try:\n",
    "        # Load the string as JSON\n",
    "        json_data = json.loads(json_str.replace(\"'\", '\"'))\n",
    "        # Extract the first platform name only\n",
    "        if json_data:\n",
    "            first_platform_name = json_data[0]['Platform']\n",
    "            return first_platform_name\n",
    "    except json.JSONDecodeError as e:\n",
    "        return None\n",
    "\n",
    "# Apply the modified function to 'platforms_info' column\n",
    "games_data['platforms'] = games_data['platforms_info'].apply(extract_first_platform_name)\n",
    "\n",
    "# Display the result to check\n",
    "print(games_data[['title', 'platforms']])"
   ]
  },
  {
   "cell_type": "code",
   "execution_count": 384,
   "id": "96865968-accc-42c6-93b5-cc5b37d3ef81",
   "metadata": {},
   "outputs": [
    {
     "data": {
      "text/html": [
       "<div>\n",
       "<style scoped>\n",
       "    .dataframe tbody tr th:only-of-type {\n",
       "        vertical-align: middle;\n",
       "    }\n",
       "\n",
       "    .dataframe tbody tr th {\n",
       "        vertical-align: top;\n",
       "    }\n",
       "\n",
       "    .dataframe thead th {\n",
       "        text-align: right;\n",
       "    }\n",
       "</style>\n",
       "<table border=\"1\" class=\"dataframe\">\n",
       "  <thead>\n",
       "    <tr style=\"text-align: right;\">\n",
       "      <th></th>\n",
       "      <th>title</th>\n",
       "      <th>release_date</th>\n",
       "      <th>developer</th>\n",
       "      <th>publisher</th>\n",
       "      <th>genres</th>\n",
       "      <th>product_rating</th>\n",
       "      <th>user_score</th>\n",
       "      <th>user_ratings_count</th>\n",
       "      <th>platforms_info</th>\n",
       "      <th>platforms</th>\n",
       "    </tr>\n",
       "  </thead>\n",
       "  <tbody>\n",
       "    <tr>\n",
       "      <th>0</th>\n",
       "      <td>Ziggurat (2012)</td>\n",
       "      <td>2012-02-17</td>\n",
       "      <td>Action Button Entertainment</td>\n",
       "      <td>Freshuu Inc.</td>\n",
       "      <td>Action</td>\n",
       "      <td>NaN</td>\n",
       "      <td>6.9</td>\n",
       "      <td>14</td>\n",
       "      <td>[{'Platform': 'iOS (iPhone/iPad)', 'Platform M...</td>\n",
       "      <td>iOS (iPhone/iPad)</td>\n",
       "    </tr>\n",
       "    <tr>\n",
       "      <th>1</th>\n",
       "      <td>4X4 EVO 2</td>\n",
       "      <td>2001-11-15</td>\n",
       "      <td>Terminal Reality</td>\n",
       "      <td>Gathering</td>\n",
       "      <td>Auto Racing Sim</td>\n",
       "      <td>Rated E For Everyone</td>\n",
       "      <td>0.0</td>\n",
       "      <td>0</td>\n",
       "      <td>[{'Platform': 'Xbox', 'Platform Metascore': '5...</td>\n",
       "      <td>Xbox</td>\n",
       "    </tr>\n",
       "    <tr>\n",
       "      <th>2</th>\n",
       "      <td>MotoGP 2 (2001)</td>\n",
       "      <td>2002-01-22</td>\n",
       "      <td>Namco</td>\n",
       "      <td>Namco</td>\n",
       "      <td>Auto Racing Sim</td>\n",
       "      <td>Rated E For Everyone</td>\n",
       "      <td>5.8</td>\n",
       "      <td>0</td>\n",
       "      <td>[{'Platform': 'PlayStation 2', 'Platform Metas...</td>\n",
       "      <td>PlayStation 2</td>\n",
       "    </tr>\n",
       "    <tr>\n",
       "      <th>3</th>\n",
       "      <td>Gothic 3</td>\n",
       "      <td>2006-11-14</td>\n",
       "      <td>Piranha Bytes</td>\n",
       "      <td>Aspyr</td>\n",
       "      <td>Western RPG</td>\n",
       "      <td>Rated T For Teen</td>\n",
       "      <td>7.5</td>\n",
       "      <td>832</td>\n",
       "      <td>[{'Platform': 'PC', 'Platform Metascore': '63'...</td>\n",
       "      <td>PC</td>\n",
       "    </tr>\n",
       "    <tr>\n",
       "      <th>4</th>\n",
       "      <td>Siege Survival: Gloria Victis</td>\n",
       "      <td>2021-05-18</td>\n",
       "      <td>FishTankStudio</td>\n",
       "      <td>Black Eye Games</td>\n",
       "      <td>RPG</td>\n",
       "      <td>NaN</td>\n",
       "      <td>6.5</td>\n",
       "      <td>10</td>\n",
       "      <td>[{'Platform': 'PC', 'Platform Metascore': '69'...</td>\n",
       "      <td>PC</td>\n",
       "    </tr>\n",
       "  </tbody>\n",
       "</table>\n",
       "</div>"
      ],
      "text/plain": [
       "                           title release_date                    developer  \\\n",
       "0                Ziggurat (2012)   2012-02-17  Action Button Entertainment   \n",
       "1                      4X4 EVO 2   2001-11-15             Terminal Reality   \n",
       "2                MotoGP 2 (2001)   2002-01-22                        Namco   \n",
       "3                       Gothic 3   2006-11-14                Piranha Bytes   \n",
       "4  Siege Survival: Gloria Victis   2021-05-18               FishTankStudio   \n",
       "\n",
       "         publisher           genres        product_rating  user_score  \\\n",
       "0     Freshuu Inc.           Action                   NaN         6.9   \n",
       "1        Gathering  Auto Racing Sim  Rated E For Everyone         0.0   \n",
       "2            Namco  Auto Racing Sim  Rated E For Everyone         5.8   \n",
       "3            Aspyr      Western RPG      Rated T For Teen         7.5   \n",
       "4  Black Eye Games              RPG                   NaN         6.5   \n",
       "\n",
       "   user_ratings_count                                     platforms_info  \\\n",
       "0                  14  [{'Platform': 'iOS (iPhone/iPad)', 'Platform M...   \n",
       "1                   0  [{'Platform': 'Xbox', 'Platform Metascore': '5...   \n",
       "2                   0  [{'Platform': 'PlayStation 2', 'Platform Metas...   \n",
       "3                 832  [{'Platform': 'PC', 'Platform Metascore': '63'...   \n",
       "4                  10  [{'Platform': 'PC', 'Platform Metascore': '69'...   \n",
       "\n",
       "           platforms  \n",
       "0  iOS (iPhone/iPad)  \n",
       "1               Xbox  \n",
       "2      PlayStation 2  \n",
       "3                 PC  \n",
       "4                 PC  "
      ]
     },
     "execution_count": 384,
     "metadata": {},
     "output_type": "execute_result"
    }
   ],
   "source": [
    "games_data.head()"
   ]
  },
  {
   "cell_type": "code",
   "execution_count": 385,
   "id": "b06296b9-07d2-4417-b40f-ee4ee88490a5",
   "metadata": {},
   "outputs": [],
   "source": [
    "games_data.drop(columns=['platforms_info'], inplace=True)"
   ]
  },
  {
   "cell_type": "code",
   "execution_count": 386,
   "id": "56116c9a-3118-4fc6-b8c0-26e97ed6551b",
   "metadata": {},
   "outputs": [],
   "source": [
    "# Renaming the columns\n",
    "games_data.rename(columns={\n",
    "    'product_rating' : 'rating',\n",
    "    'release_date' : 'released',\n",
    "    'user_ratings_count': 'ratings_count'\n",
    "}, inplace=True)"
   ]
  },
  {
   "cell_type": "code",
   "execution_count": 387,
   "id": "b4ff66ff-ae52-48e0-b6d5-f8e320fdbac4",
   "metadata": {},
   "outputs": [],
   "source": [
    "games_data['title'] = games_data['title'].str.lower() \\\n",
    "                         .str.replace(r\"\\(.*\\)\", \"\", regex=True) \\\n",
    "                         .str.replace(r\"[-:,#.//\\[\\]()]\", \"\", regex=True)"
   ]
  },
  {
   "cell_type": "code",
   "execution_count": 388,
   "id": "b8dc3c44-6c22-46ca-98e2-ffb6db629d9b",
   "metadata": {},
   "outputs": [
    {
     "data": {
      "text/html": [
       "<div>\n",
       "<style scoped>\n",
       "    .dataframe tbody tr th:only-of-type {\n",
       "        vertical-align: middle;\n",
       "    }\n",
       "\n",
       "    .dataframe tbody tr th {\n",
       "        vertical-align: top;\n",
       "    }\n",
       "\n",
       "    .dataframe thead th {\n",
       "        text-align: right;\n",
       "    }\n",
       "</style>\n",
       "<table border=\"1\" class=\"dataframe\">\n",
       "  <thead>\n",
       "    <tr style=\"text-align: right;\">\n",
       "      <th></th>\n",
       "      <th>title</th>\n",
       "      <th>released</th>\n",
       "      <th>developer</th>\n",
       "      <th>publisher</th>\n",
       "      <th>genres</th>\n",
       "      <th>rating</th>\n",
       "      <th>user_score</th>\n",
       "      <th>ratings_count</th>\n",
       "      <th>platforms</th>\n",
       "    </tr>\n",
       "  </thead>\n",
       "  <tbody>\n",
       "    <tr>\n",
       "      <th>0</th>\n",
       "      <td>ziggurat</td>\n",
       "      <td>2012-02-17</td>\n",
       "      <td>Action Button Entertainment</td>\n",
       "      <td>Freshuu Inc.</td>\n",
       "      <td>Action</td>\n",
       "      <td>NaN</td>\n",
       "      <td>6.9</td>\n",
       "      <td>14</td>\n",
       "      <td>iOS (iPhone/iPad)</td>\n",
       "    </tr>\n",
       "    <tr>\n",
       "      <th>1</th>\n",
       "      <td>4x4 evo 2</td>\n",
       "      <td>2001-11-15</td>\n",
       "      <td>Terminal Reality</td>\n",
       "      <td>Gathering</td>\n",
       "      <td>Auto Racing Sim</td>\n",
       "      <td>Rated E For Everyone</td>\n",
       "      <td>0.0</td>\n",
       "      <td>0</td>\n",
       "      <td>Xbox</td>\n",
       "    </tr>\n",
       "    <tr>\n",
       "      <th>2</th>\n",
       "      <td>motogp 2</td>\n",
       "      <td>2002-01-22</td>\n",
       "      <td>Namco</td>\n",
       "      <td>Namco</td>\n",
       "      <td>Auto Racing Sim</td>\n",
       "      <td>Rated E For Everyone</td>\n",
       "      <td>5.8</td>\n",
       "      <td>0</td>\n",
       "      <td>PlayStation 2</td>\n",
       "    </tr>\n",
       "    <tr>\n",
       "      <th>3</th>\n",
       "      <td>gothic 3</td>\n",
       "      <td>2006-11-14</td>\n",
       "      <td>Piranha Bytes</td>\n",
       "      <td>Aspyr</td>\n",
       "      <td>Western RPG</td>\n",
       "      <td>Rated T For Teen</td>\n",
       "      <td>7.5</td>\n",
       "      <td>832</td>\n",
       "      <td>PC</td>\n",
       "    </tr>\n",
       "    <tr>\n",
       "      <th>4</th>\n",
       "      <td>siege survival gloria victis</td>\n",
       "      <td>2021-05-18</td>\n",
       "      <td>FishTankStudio</td>\n",
       "      <td>Black Eye Games</td>\n",
       "      <td>RPG</td>\n",
       "      <td>NaN</td>\n",
       "      <td>6.5</td>\n",
       "      <td>10</td>\n",
       "      <td>PC</td>\n",
       "    </tr>\n",
       "  </tbody>\n",
       "</table>\n",
       "</div>"
      ],
      "text/plain": [
       "                          title   released                    developer  \\\n",
       "0                     ziggurat  2012-02-17  Action Button Entertainment   \n",
       "1                     4x4 evo 2 2001-11-15             Terminal Reality   \n",
       "2                     motogp 2  2002-01-22                        Namco   \n",
       "3                      gothic 3 2006-11-14                Piranha Bytes   \n",
       "4  siege survival gloria victis 2021-05-18               FishTankStudio   \n",
       "\n",
       "         publisher           genres                rating  user_score  \\\n",
       "0     Freshuu Inc.           Action                   NaN         6.9   \n",
       "1        Gathering  Auto Racing Sim  Rated E For Everyone         0.0   \n",
       "2            Namco  Auto Racing Sim  Rated E For Everyone         5.8   \n",
       "3            Aspyr      Western RPG      Rated T For Teen         7.5   \n",
       "4  Black Eye Games              RPG                   NaN         6.5   \n",
       "\n",
       "   ratings_count          platforms  \n",
       "0             14  iOS (iPhone/iPad)  \n",
       "1              0               Xbox  \n",
       "2              0      PlayStation 2  \n",
       "3            832                 PC  \n",
       "4             10                 PC  "
      ]
     },
     "execution_count": 388,
     "metadata": {},
     "output_type": "execute_result"
    }
   ],
   "source": [
    "games_data.head()"
   ]
  },
  {
   "cell_type": "code",
   "execution_count": 389,
   "id": "f2a429c2-6cc6-4aa5-b146-3cc118b1821c",
   "metadata": {},
   "outputs": [
    {
     "name": "stderr",
     "output_type": "stream",
     "text": [
      "C:\\Users\\dayan\\AppData\\Local\\Temp\\ipykernel_22708\\3034730666.py:1: FutureWarning: DataFrame.applymap has been deprecated. Use DataFrame.map instead.\n",
      "  games_data = games_data.applymap(lambda x: x.upper() if isinstance(x, str) else x)\n"
     ]
    }
   ],
   "source": [
    "games_data = games_data.applymap(lambda x: x.upper() if isinstance(x, str) else x)"
   ]
  },
  {
   "cell_type": "code",
   "execution_count": 390,
   "id": "c872a78f-e70f-40a2-a731-d78e846f6367",
   "metadata": {},
   "outputs": [
    {
     "data": {
      "text/html": [
       "<div>\n",
       "<style scoped>\n",
       "    .dataframe tbody tr th:only-of-type {\n",
       "        vertical-align: middle;\n",
       "    }\n",
       "\n",
       "    .dataframe tbody tr th {\n",
       "        vertical-align: top;\n",
       "    }\n",
       "\n",
       "    .dataframe thead th {\n",
       "        text-align: right;\n",
       "    }\n",
       "</style>\n",
       "<table border=\"1\" class=\"dataframe\">\n",
       "  <thead>\n",
       "    <tr style=\"text-align: right;\">\n",
       "      <th></th>\n",
       "      <th>title</th>\n",
       "      <th>released</th>\n",
       "      <th>developer</th>\n",
       "      <th>publisher</th>\n",
       "      <th>genres</th>\n",
       "      <th>rating</th>\n",
       "      <th>user_score</th>\n",
       "      <th>ratings_count</th>\n",
       "      <th>platforms</th>\n",
       "    </tr>\n",
       "  </thead>\n",
       "  <tbody>\n",
       "    <tr>\n",
       "      <th>0</th>\n",
       "      <td>ZIGGURAT</td>\n",
       "      <td>2012-02-17</td>\n",
       "      <td>ACTION BUTTON ENTERTAINMENT</td>\n",
       "      <td>FRESHUU INC.</td>\n",
       "      <td>ACTION</td>\n",
       "      <td>NaN</td>\n",
       "      <td>6.9</td>\n",
       "      <td>14</td>\n",
       "      <td>IOS (IPHONE/IPAD)</td>\n",
       "    </tr>\n",
       "    <tr>\n",
       "      <th>1</th>\n",
       "      <td>4X4 EVO 2</td>\n",
       "      <td>2001-11-15</td>\n",
       "      <td>TERMINAL REALITY</td>\n",
       "      <td>GATHERING</td>\n",
       "      <td>AUTO RACING SIM</td>\n",
       "      <td>RATED E FOR EVERYONE</td>\n",
       "      <td>0.0</td>\n",
       "      <td>0</td>\n",
       "      <td>XBOX</td>\n",
       "    </tr>\n",
       "    <tr>\n",
       "      <th>2</th>\n",
       "      <td>MOTOGP 2</td>\n",
       "      <td>2002-01-22</td>\n",
       "      <td>NAMCO</td>\n",
       "      <td>NAMCO</td>\n",
       "      <td>AUTO RACING SIM</td>\n",
       "      <td>RATED E FOR EVERYONE</td>\n",
       "      <td>5.8</td>\n",
       "      <td>0</td>\n",
       "      <td>PLAYSTATION 2</td>\n",
       "    </tr>\n",
       "    <tr>\n",
       "      <th>3</th>\n",
       "      <td>GOTHIC 3</td>\n",
       "      <td>2006-11-14</td>\n",
       "      <td>PIRANHA BYTES</td>\n",
       "      <td>ASPYR</td>\n",
       "      <td>WESTERN RPG</td>\n",
       "      <td>RATED T FOR TEEN</td>\n",
       "      <td>7.5</td>\n",
       "      <td>832</td>\n",
       "      <td>PC</td>\n",
       "    </tr>\n",
       "    <tr>\n",
       "      <th>4</th>\n",
       "      <td>SIEGE SURVIVAL GLORIA VICTIS</td>\n",
       "      <td>2021-05-18</td>\n",
       "      <td>FISHTANKSTUDIO</td>\n",
       "      <td>BLACK EYE GAMES</td>\n",
       "      <td>RPG</td>\n",
       "      <td>NaN</td>\n",
       "      <td>6.5</td>\n",
       "      <td>10</td>\n",
       "      <td>PC</td>\n",
       "    </tr>\n",
       "  </tbody>\n",
       "</table>\n",
       "</div>"
      ],
      "text/plain": [
       "                          title   released                    developer  \\\n",
       "0                     ZIGGURAT  2012-02-17  ACTION BUTTON ENTERTAINMENT   \n",
       "1                     4X4 EVO 2 2001-11-15             TERMINAL REALITY   \n",
       "2                     MOTOGP 2  2002-01-22                        NAMCO   \n",
       "3                      GOTHIC 3 2006-11-14                PIRANHA BYTES   \n",
       "4  SIEGE SURVIVAL GLORIA VICTIS 2021-05-18               FISHTANKSTUDIO   \n",
       "\n",
       "         publisher           genres                rating  user_score  \\\n",
       "0     FRESHUU INC.           ACTION                   NaN         6.9   \n",
       "1        GATHERING  AUTO RACING SIM  RATED E FOR EVERYONE         0.0   \n",
       "2            NAMCO  AUTO RACING SIM  RATED E FOR EVERYONE         5.8   \n",
       "3            ASPYR      WESTERN RPG      RATED T FOR TEEN         7.5   \n",
       "4  BLACK EYE GAMES              RPG                   NaN         6.5   \n",
       "\n",
       "   ratings_count          platforms  \n",
       "0             14  IOS (IPHONE/IPAD)  \n",
       "1              0               XBOX  \n",
       "2              0      PLAYSTATION 2  \n",
       "3            832                 PC  \n",
       "4             10                 PC  "
      ]
     },
     "execution_count": 390,
     "metadata": {},
     "output_type": "execute_result"
    }
   ],
   "source": [
    "games_data.head()"
   ]
  },
  {
   "cell_type": "code",
   "execution_count": 402,
   "id": "9e1be99a-634c-4205-8f7e-0f321739d36f",
   "metadata": {},
   "outputs": [],
   "source": [
    "games_data.to_csv('../data/metacritic_data.csv', index=False)"
   ]
  },
  {
   "cell_type": "markdown",
   "id": "7e30e854-8ecb-4954-ade0-454bcdd8e215",
   "metadata": {},
   "source": [
    "### Number of rows and columns"
   ]
  },
  {
   "cell_type": "code",
   "execution_count": 392,
   "id": "2e066a34",
   "metadata": {},
   "outputs": [
    {
     "name": "stdout",
     "output_type": "stream",
     "text": [
      "Number of rows: 14055\n",
      "Number of columns: 9\n",
      "Type: <class 'tuple'>\n"
     ]
    }
   ],
   "source": [
    "num_rows, num_cols = games_data.shape\n",
    "\n",
    "print(f\"Number of rows: {num_rows}\")\n",
    "print(f\"Number of columns: {num_cols}\")\n",
    "\n",
    "print(f\"Type: {type(games_data.shape)}\")"
   ]
  },
  {
   "cell_type": "markdown",
   "id": "13b9dc50",
   "metadata": {},
   "source": [
    "# Graphics"
   ]
  },
  {
   "cell_type": "code",
   "execution_count": 393,
   "id": "e30e80ad-b315-42aa-b83d-4f36f4255161",
   "metadata": {},
   "outputs": [
    {
     "data": {
      "image/png": "[encoded data removed]",
      "text/plain": [
       "<Figure size 1000x600 with 1 Axes>"
      ]
     },
     "metadata": {},
     "output_type": "display_data"
    }
   ],
   "source": [
    "plt.figure(figsize=(10, 6))\n",
    "palette = sns.color_palette(\"rocket\")\n",
    "sns.countplot(x=games_data[games_data['released'].dt.year != 2024]['released'].dt.year, data=games_data, palette='rocket', hue=games_data[games_data['released'].dt.year != 2024]['released'].dt.year)\n",
    "plt.title('Number of Games Released Each Year (Excluding 2024)')\n",
    "plt.xlabel('Release Year')\n",
    "plt.ylabel('Number of Games')\n",
    "plt.xticks(rotation=45)\n",
    "plt.show()"
   ]
  },
  {
   "cell_type": "markdown",
   "id": "220d9154-22db-444c-8141-10c5fc47e1dc",
   "metadata": {},
   "source": [
    "With this graph we can see which were the years with the most games and which were the years when gaming was not the most popular hobby.\n",
    "We didn't take the year 2024 because there are not many games, that is because we are at the beginning of the year. (March at this moment)\n",
    "An interesting observation is the growth that the games had in the interval 1999-2001."
   ]
  },
  {
   "cell_type": "code",
   "execution_count": 394,
   "id": "84331459-0278-4d56-a7d7-b08d4615e6e9",
   "metadata": {},
   "outputs": [
    {
     "data": {
      "image/png": "[encoded data removed]",
      "text/plain": [
       "<Figure size 1200x600 with 1 Axes>"
      ]
     },
     "metadata": {},
     "output_type": "display_data"
    }
   ],
   "source": [
    "plt.figure(figsize=(12, 6))\n",
    "sns.countplot(x='developer', data=games_data, order=games_data['developer'].value_counts().iloc[:10].index)\n",
    "plt.title('Top 10 Developers by Number of Games')\n",
    "plt.xlabel('Developer')\n",
    "plt.ylabel('Number of Games')\n",
    "plt.xticks(rotation=45)\n",
    "plt.show()"
   ]
  },
  {
   "cell_type": "markdown",
   "id": "c88d6f34-15e1-4b5e-bf45-0e7c3599ff15",
   "metadata": {},
   "source": [
    "With this graph we can see which are the developers with more games during the last decades. \n",
    "In the first place we have Capcom, with some very popular games like Resident Evil or Street Fighters."
   ]
  },
  {
   "cell_type": "code",
   "execution_count": 395,
   "id": "1df8af30-eaf2-49e1-b305-ec0b0b98f4b9",
   "metadata": {},
   "outputs": [
    {
     "data": {
      "image/png": "[encoded data removed]",
      "text/plain": [
       "<Figure size 1200x600 with 1 Axes>"
      ]
     },
     "metadata": {},
     "output_type": "display_data"
    }
   ],
   "source": [
    "plt.figure(figsize=(12, 6))\n",
    "sns.countplot(x='publisher', data=games_data, order=games_data['publisher'].value_counts().iloc[:10].index)\n",
    "plt.title('Top 10 Publishers by Number of Games')\n",
    "plt.xlabel('Publisher')\n",
    "plt.ylabel('Number of Games')\n",
    "plt.xticks(rotation=45)\n",
    "plt.show()\n"
   ]
  },
  {
   "cell_type": "markdown",
   "id": "8196bda5-b2a1-4da9-a590-97e39c768f4f",
   "metadata": {},
   "source": [
    "Here we noticed that the first pusblisher in quantity of games is Nintendo, a very well know company for their multiple famous games like Mario Bros.\n",
    "We can observe more famous publishers like Ubisoft, Sega, or Activision."
   ]
  },
  {
   "cell_type": "markdown",
   "id": "4d1b0b93",
   "metadata": {},
   "source": [
    "### Unique values"
   ]
  },
  {
   "cell_type": "code",
   "execution_count": 396,
   "id": "70f9ff53",
   "metadata": {},
   "outputs": [
    {
     "data": {
      "image/png": "[encoded data removed]",
      "text/plain": [
       "<Figure size 1000x600 with 1 Axes>"
      ]
     },
     "metadata": {},
     "output_type": "display_data"
    }
   ],
   "source": [
    "plt.figure(figsize=(10, 6))\n",
    "sns.histplot(games_data['rating'].dropna(), kde=False, bins=20)\n",
    "plt.title('Product Rating Distribution')\n",
    "plt.xlabel('Product Rating')\n",
    "plt.ylabel('Number of Games')\n",
    "plt.xticks(rotation=90)  \n",
    "plt.show()"
   ]
  },
  {
   "cell_type": "markdown",
   "id": "e33e1bd7-16ec-4e60-a756-9e73a03d8f89",
   "metadata": {},
   "source": [
    "In this graph we can observe that the most common is make games for teen people, but something interesting is the few games that are rated AO (For Adults Only), we could conclude that this is because their largest audience is teenagers, so making games for adults only would not be of much benefit to them."
   ]
  },
  {
   "cell_type": "markdown",
   "id": "64ce67ff-211b-4119-9498-ef9102785a37",
   "metadata": {},
   "source": [
    "# Table creation for the clean data and export to database"
   ]
  },
  {
   "cell_type": "code",
   "execution_count": 397,
   "id": "3f3e2508-4fc0-4688-abeb-606221d96c23",
   "metadata": {},
   "outputs": [
    {
     "data": {
      "text/plain": [
       "title                    object\n",
       "released         datetime64[ns]\n",
       "developer                object\n",
       "publisher                object\n",
       "genres                   object\n",
       "rating                   object\n",
       "user_score              float64\n",
       "ratings_count             int64\n",
       "platforms                object\n",
       "dtype: object"
      ]
     },
     "execution_count": 397,
     "metadata": {},
     "output_type": "execute_result"
    }
   ],
   "source": [
    "games_data.dtypes"
   ]
  },
  {
   "cell_type": "code",
   "execution_count": 398,
   "id": "34a4c14f-9454-4941-a3ac-63622391b854",
   "metadata": {},
   "outputs": [
    {
     "data": {
      "text/plain": [
       "'title varchar, released timestamp, developer varchar, publisher varchar, genres varchar, rating varchar, user_score float, ratings_count int64, platforms varchar'"
      ]
     },
     "execution_count": 398,
     "metadata": {},
     "output_type": "execute_result"
    }
   ],
   "source": [
    "replacements = {\n",
    "    'object': 'varchar',\n",
    "    'float64': 'float',\n",
    "    'int32': 'int',\n",
    "    'datetime64[ns]': 'timestamp'\n",
    "}\n",
    "col_str = \", \".join(\"{} {}\".format(n, d) for (n, d) in zip(games_data.columns, games_data.dtypes.replace(replacements)))\n",
    "col_str"
   ]
  },
  {
   "cell_type": "code",
   "execution_count": 399,
   "id": "c7160a84-9b2b-4354-ab2d-0834c7eb9dfa",
   "metadata": {},
   "outputs": [],
   "source": [
    "cursor.execute(\"DROP TABLE IF EXISTS metacritic_data;\")"
   ]
  },
  {
   "cell_type": "code",
   "execution_count": 400,
   "id": "2d5d7d76-6abd-4e04-a680-27f7e549ff43",
   "metadata": {},
   "outputs": [],
   "source": [
    "cursor.execute(\"CREATE TABLE IF NOT EXISTS metacritic_data (title varchar, released timestamp, developer varchar, publisher varchar, genres varchar, rating varchar, user_score float, ratings_count int, platforms varchar);\")\n",
    "conn.commit()"
   ]
  },
  {
   "cell_type": "code",
   "execution_count": 401,
   "id": "2aa4e803-e97d-4176-9a78-d6517411daa8",
   "metadata": {},
   "outputs": [
    {
     "name": "stdout",
     "output_type": "stream",
     "text": [
      "Tabla metacritic_data creada correctamente.\n"
     ]
    }
   ],
   "source": [
    "temp_file = StringIO()\n",
    "\n",
    "games_data.to_csv(temp_file, sep='\\t', header=False, index=False)\n",
    "temp_file.seek(0)\n",
    "\n",
    "try:\n",
    "    cursor.copy_from(temp_file, 'metacritic_data', null='', sep='\\t')\n",
    "    conn.commit()\n",
    "    print(\"Tabla metacritic_data creada correctamente.\")\n",
    "except Exception as e:\n",
    "    print(f\"Error al crear la tabla metacritic_data: {e}\")\n",
    "conn.commit()\n",
    "\n",
    "conn.close()"
   ]
  },
  {
   "cell_type": "markdown",
   "id": "53216b0c-770d-46b8-83c3-8e15f69018ee",
   "metadata": {},
   "source": [
    "Here we transform the changes of our df in a temp file to copy the dataset from the csv to a sql table, we did this because psycopg2 is not compatible with the to_sql function, so we decide done this way."
   ]
  },
  {
   "cell_type": "code",
   "execution_count": null,
   "id": "f31674c6-e6ca-4334-b235-ad9ed26fd546",
   "metadata": {},
   "outputs": [],
   "source": []
  }
 ],
 "metadata": {
  "kernelspec": {
   "display_name": "Python 3 (ipykernel)",
   "language": "python",
   "name": "python3"
  },
  "language_info": {
   "codemirror_mode": {
    "name": "ipython",
    "version": 3
   },
   "file_extension": ".py",
   "mimetype": "text/x-python",
   "name": "python",
   "nbconvert_exporter": "python",
   "pygments_lexer": "ipython3",
   "version": "3.12.2"
  }
 },
 "nbformat": 4,
 "nbformat_minor": 5
}
